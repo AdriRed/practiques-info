{
 "metadata": {
  "language_info": {
   "codemirror_mode": {
    "name": "ipython",
    "version": 3
   },
   "file_extension": ".py",
   "mimetype": "text/x-python",
   "name": "python",
   "nbconvert_exporter": "python",
   "pygments_lexer": "ipython3",
   "version": "3.8.3-final"
  },
  "orig_nbformat": 2,
  "kernelspec": {
   "name": "python3",
   "display_name": "Python 3"
  }
 },
 "nbformat": 4,
 "nbformat_minor": 2,
 "cells": [
  {
   "cell_type": "code",
   "execution_count": 21,
   "metadata": {},
   "outputs": [
    {
     "output_type": "display_data",
     "data": {
      "text/plain": "<IPython.core.display.Markdown object>",
      "text/markdown": "* While: 29.573531\n* For: 18.556293\n* Recursive: 37.663006\n* `math.factorial`: 2.569252\n    "
     },
     "metadata": {}
    }
   ],
   "source": [
    "from datetime import datetime, timedelta, time\n",
    "from math import factorial\n",
    "from IPython.display import display, Markdown\n",
    "import timeit\n",
    "\n",
    "def nameof(x):\n",
    "    return x.__name__\n",
    "\n",
    "def factorial_recursive(N: int):\n",
    "    if (N == 1): return 1\n",
    "    return N * factorial_recursive(N-1)\n",
    "\n",
    "def factorial_for(N: int) -> int:\n",
    "    resultat = 1\n",
    "    for i in range(1, N):\n",
    "        resultat *= i\n",
    "    return resultat\n",
    "\n",
    "def factorial_while(N: int) -> int:\n",
    "    resultat = 1\n",
    "    j = 1\n",
    "    while j <= N:\n",
    "        resultat *= j\n",
    "        j += 1\n",
    "    \n",
    "    return resultat\n",
    "\n",
    "def check_time_for(action, *args) -> timedelta:\n",
    "    return timeit.timeit(\"test\"+str(args), setup=\"from __main__ import \" + action.__name__ + \" as test\")\n",
    "\n",
    "\n",
    "\n",
    "N = int(input(\"Factorial: \"))\n",
    "\n",
    "\n",
    "difference_while = check_time_for(factorial_while, N)\n",
    "difference_for = check_time_for(factorial_for, N)\n",
    "difference_recursive = check_time_for(factorial_recursive, N)\n",
    "difference_module = check_time_for(factorial, N)\n",
    "\n",
    "\n",
    "display(Markdown(\n",
    "    \"\"\"* While: {:f}\n",
    "* For: {:f}\n",
    "* Recursive: {:f}\n",
    "* `math.factorial`: {:f}\n",
    "    \"\"\".format(\n",
    "        difference_while, \n",
    "        difference_for, \n",
    "        difference_recursive, \n",
    "        difference_module, \n",
    "    )\n",
    "))\n",
    "\n",
    "\n",
    "\n"
   ]
  },
  {
   "cell_type": "code",
   "execution_count": null,
   "metadata": {},
   "outputs": [],
   "source": [
    "now = datetime.now()\n",
    "\n",
    "\n"
   ]
  }
 ]
}