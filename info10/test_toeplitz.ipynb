{
 "cells": [
  {
   "cell_type": "code",
   "execution_count": 25,
   "metadata": {},
   "outputs": [],
   "source": [
    "def is_toeplitz( mat ):\n",
    "    \n",
    "    import sympy as sp\n",
    "    \n",
    "    result = True # benefit of the doubt\n",
    "    \n",
    "    for idx_1 in range( mat.shape[ 0 ] - 1 ) :\n",
    "        for idx_2 in range( mat.shape[ 1 ] - 1 ) :\n",
    "            diff = mat[ idx_1, idx_2 ] - mat[ idx_1 + 1, idx_2 +1 ]\n",
    "            if not( sp.simplify( diff ) == 0 ) :\n",
    "                    result = False # violation of the condition\n",
    "            \n",
    "    return result\n",
    "\n",
    "# --------------------------------------------------------------------------------\n",
    "\n",
    "def is_hermitian( mat ):\n",
    "    \n",
    "    import sympy as sp\n",
    "    \n",
    "    result = True # benefit of the doubt\n",
    "    \n",
    "    for idx_1 in range( mat.shape[ 0 ] ) :\n",
    "        for idx_2 in ( range( mat.shape[ 1 ] ) ) :\n",
    "            diff = mat[ idx_1, idx_2 ] - sp.conjugate( mat[ idx_2, idx_1 ] )\n",
    "            if not( sp.simplify( diff ) == 0 ) :\n",
    "                result = False # violation of the condition\n",
    "\n",
    "    return result\n",
    "\n",
    "# --------------------------------------------------------------------------------\n",
    "\n",
    "def unit_test_toeplitz():\n",
    "    \n",
    "    import sympy as sp\n",
    "    sp.init_printing()\n",
    "\n",
    "    alpha = sp.symbols( 'alpha' )\n",
    "    x = sp.symbols( 'x' )\n",
    "    z = sp.symbols( 'z' )\n",
    "\n",
    "    v = sp.Matrix( [ x + sp.conjugate( x ), sp.exp( alpha ), sp.sin( z ) ])\n",
    "    \n",
    "    mat = compute_herm_toeplitz_matrix( v )\n",
    "    test_1 = is_toeplitz( mat )\n",
    "    test_2 = is_hermitian( mat )\n",
    "    \n",
    "    result = test_1 and test_2\n",
    "    \n",
    "    return result\n",
    "\n"
   ]
  },
  {
   "cell_type": "code",
   "execution_count": null,
   "metadata": {},
   "outputs": [],
   "source": []
  }
 ],
 "metadata": {
  "kernelspec": {
   "display_name": "Python 3",
   "language": "python",
   "name": "python3"
  },
  "language_info": {
   "codemirror_mode": {
    "name": "ipython",
    "version": 3
   },
   "file_extension": ".py",
   "mimetype": "text/x-python",
   "name": "python",
   "nbconvert_exporter": "python",
   "pygments_lexer": "ipython3",
   "version": "3.6.9"
  }
 },
 "nbformat": 4,
 "nbformat_minor": 2
}
