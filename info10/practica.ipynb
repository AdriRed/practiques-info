{
 "cells": [
  {
   "cell_type": "code",
   "execution_count": 1,
   "metadata": {},
   "outputs": [],
   "source": [
    "import sympy as sp"
   ]
  },
  {
   "cell_type": "markdown",
   "metadata": {},
   "source": [
    "# Exercici 1"
   ]
  },
  {
   "cell_type": "code",
   "execution_count": 37,
   "metadata": {},
   "outputs": [],
   "source": [
    "def is_toeplitz( mat ):\n",
    "    \n",
    "    import sympy as sp\n",
    "    \n",
    "    result = True # benefit of the doubt\n",
    "    \n",
    "    for idx_1 in range( mat.shape[ 0 ] - 1 ) :\n",
    "        for idx_2 in range( mat.shape[ 1 ] - 1 ) :\n",
    "            diff = mat[ idx_1, idx_2 ] - mat[ idx_1 + 1, idx_2 +1 ]\n",
    "            if not( sp.simplify( diff ) == 0 ) :\n",
    "                result = False # violation of the condition\n",
    "                break\n",
    "                \n",
    "    return result\n",
    "\n",
    "# --------------------------------------------------------------------------------\n",
    "\n",
    "def is_hermitian( mat ):\n",
    "    \n",
    "    import sympy as sp\n",
    "    \n",
    "    result = True # benefit of the doubt\n",
    "    \n",
    "    for idx_1 in range( mat.shape[ 0 ] ) :\n",
    "        for idx_2 in ( range( mat.shape[ 1 ] ) ) :\n",
    "            if (idx_2 == idx_1): # no comprovar diagonal, (si al ex.2 entrem un complex al primer element no funcionarà mai)\n",
    "                continue\n",
    "            diff = mat[ idx_1, idx_2 ] - sp.conjugate( mat[ idx_2, idx_1 ] )\n",
    "            if not( sp.simplify( diff ) == 0 ) :\n",
    "                print(idx_1, idx_2)\n",
    "                result = False # violation of the condition\n",
    "                break\n",
    "\n",
    "    return result"
   ]
  },
  {
   "cell_type": "code",
   "execution_count": 38,
   "metadata": {},
   "outputs": [],
   "source": [
    "from collections.abc import Iterable\n",
    "\n",
    "def unwrap(a: Iterable): # no la utilitzo\n",
    "    \"\"\"\n",
    "    Desfà una llista de llistes de llistes... en una sola llista\n",
    "    \"\"\"\n",
    "    new = []\n",
    "    \n",
    "    for i in a:\n",
    "        new = new + (unwrap(i) if isinstance(i, Iterable) else [i])\n",
    "    \n",
    "    return new\n",
    "\n",
    "def toeplitz_hermitians(vec, conversor) -> list: \n",
    "    \"\"\"\n",
    "    Crea una matriu toeplitz hemitania (però on tu li dius la forma d'implementar el conjugat)\n",
    "    \"\"\"\n",
    "    new = [list(vec)] # fico el primer vector talqual\n",
    "    reversed_vec = list(map(conversor, reversed(vec[1:]))) # creo un vector sense el primer element pero invertit i amb el conjugat\n",
    "    for i in range(1, len(vec)):\n",
    "        new.append([item for item in reversed_vec[-i:]] + vec[:-i]) # vaig ficantlos de forma progressiva (cada iteracio fico un mes d'un costat i un menys de l'altre)\n",
    "\n",
    "    return sp.Matrix(new)\n",
    "\n",
    "def compute_herm_toeplitz_matrix(vec):\n",
    "    \"\"\"Crea una matriu de toeplitz hermitania on la primera fila és el paràmtetre\"\"\"\n",
    "    \n",
    "    new = toeplitz_hermitians(vec, sp.conjugate) \n",
    "\n",
    "    assert is_toeplitz(new), \"Not toeplitz\"\n",
    "    assert is_hermitian(new), \"Not hermitian\"\n",
    "\n",
    "    return new\n"
   ]
  },
  {
   "cell_type": "code",
   "execution_count": 39,
   "metadata": {},
   "outputs": [],
   "source": [
    "def unit_test_toeplitz():\n",
    "    \n",
    "    import sympy as sp\n",
    "    sp.init_printing()\n",
    "\n",
    "    alpha = sp.symbols( 'alpha' )\n",
    "    x = sp.symbols( 'x' )\n",
    "    z = sp.symbols( 'z' )\n",
    "\n",
    "    v = sp.Matrix( [ x + sp.conjugate( x ), sp.exp( alpha ), sp.sin( z ) ])\n",
    "\n",
    "    mat = compute_herm_toeplitz_matrix( v )\n",
    "    print(mat)\n",
    "    test_1 = is_toeplitz( mat )\n",
    "    test_2 = is_hermitian( mat )\n",
    "    result = test_1 and test_2\n",
    "    \n",
    "    return result"
   ]
  },
  {
   "cell_type": "code",
   "execution_count": 40,
   "metadata": {},
   "outputs": [
    {
     "name": "stdout",
     "output_type": "stream",
     "text": [
      "Matrix([[x + conjugate(x), exp(alpha), sin(z)], [exp(conjugate(alpha)), x + conjugate(x), exp(alpha)], [sin(conjugate(z)), exp(conjugate(alpha)), x + conjugate(x)]])\n"
     ]
    },
    {
     "data": {
      "text/plain": [
       "True"
      ]
     },
     "execution_count": 40,
     "metadata": {},
     "output_type": "execute_result"
    }
   ],
   "source": [
    "unit_test_toeplitz()"
   ]
  },
  {
   "cell_type": "markdown",
   "metadata": {},
   "source": [
    "# Exercici 2"
   ]
  },
  {
   "cell_type": "code",
   "execution_count": 42,
   "metadata": {
    "scrolled": true
   },
   "outputs": [
    {
     "name": "stdout",
     "output_type": "stream",
     "text": [
      "Matrix([[1.0 + 1.0*I, 3.0 - 4.0*I, 6.0 + 1.0*I], [3.0 + 4.0*I, 1.0 + 1.0*I, 3.0 - 4.0*I], [6.0 - 1.0*I, 3.0 + 4.0*I, 1.0 + 1.0*I]])\n"
     ]
    },
    {
     "data": {
      "text/latex": [
       "$\\displaystyle \\left( \\left[\\begin{matrix}-9.00937728250052 + 1.0 i & 0 & 0\\\\0 & 2.56095885910679 + 1.0 i & 0\\\\0 & 0 & 9.44841842339373 + 1.0 i\\end{matrix}\\right], \\  \\left[\\begin{matrix}-0.124415001025874 + 0.580158672880267 i & 0.543793313097663 - 0.0127466165450152 i & -0.151461477513548 - 0.573692076839025 i\\\\-0.525885637269561 + 0.0811373291289101 i & 0.360803514310901 - 0.55094726129797 i & 0.135828751923323 + 0.514479853653705 i\\\\-0.451142556369379 + 0.4015821783514 i & -0.441578341910388 + 0.27461402673892 i & -0.559686328917915 + 0.227044192525027 i\\end{matrix}\\right]\\right)$"
      ],
      "text/plain": [
       "⎛⎡-9.00937728250052 + 1.0⋅ⅈ             0                         0           \n",
       "⎜⎢                                                                            \n",
       "⎜⎢            0              2.56095885910679 + 1.0⋅ⅈ             0           \n",
       "⎜⎢                                                                            \n",
       "⎝⎣            0                         0              9.44841842339373 + 1.0⋅\n",
       "\n",
       " ⎤  ⎡-0.124415001025874 + 0.580158672880267⋅ⅈ   0.543793313097663 - 0.01274661\n",
       " ⎥  ⎢                                                                         \n",
       " ⎥, ⎢-0.525885637269561 + 0.0811373291289101⋅ⅈ   0.360803514310901 - 0.5509472\n",
       " ⎥  ⎢                                                                         \n",
       "ⅈ⎦  ⎣ -0.451142556369379 + 0.4015821783514⋅ⅈ    -0.441578341910388 + 0.2746140\n",
       "\n",
       "65450152⋅ⅈ  -0.151461477513548 - 0.573692076839025⋅ⅈ⎤⎞\n",
       "                                                    ⎥⎟\n",
       "6129797⋅ⅈ   0.135828751923323 + 0.514479853653705⋅ⅈ ⎥⎟\n",
       "                                                    ⎥⎟\n",
       "2673892⋅ⅈ   -0.559686328917915 + 0.227044192525027⋅ⅈ⎦⎠"
      ]
     },
     "execution_count": 42,
     "metadata": {},
     "output_type": "execute_result"
    }
   ],
   "source": [
    "def eigen_herm_toeplitz_from_complex(v):\n",
    "    \"\"\"\n",
    "    Funcio que donat una llista de numeros complexos et construeix una matriu \n",
    "    Toeplitz Hermitania i troba els eigenvalues i els eigenvectors\n",
    "    \"\"\"\n",
    "    mat = compute_herm_toeplitz_matrix(v) # obtinc la matriu\n",
    "#     print(mat)\n",
    "    eigen = mat.eigenvects() # trec els vectors propis i els valors propis en format [[(valor, vegades, vector)], ...]\n",
    "\n",
    "    values = [val for (val, times, *_) in eigen for _ in range(times)] # obtinc els valors\n",
    "    vectors = [vecs for (*_, vecs) in eigen] # obtinc els vectors\n",
    "    \n",
    "    mat_eigenvalues = sp.diag(*values) # fico en una matriu diagonal els valors\n",
    "    \n",
    "    len_values = len(values)\n",
    "    \n",
    "    return sp.Matrix(mat_eigenvalues), sp.Matrix(vectors).reshape(len_values, len_values) # retorno les dues matrius amb la segona amb les mesures adequades\n",
    "\n",
    "\n",
    "\n",
    "a, b = eigen_herm_toeplitz_from_complex([1+1j, 3-4j, 6+1j])    \n",
    "a, b"
   ]
  },
  {
   "cell_type": "code",
   "execution_count": 5,
   "metadata": {},
   "outputs": [
    {
     "data": {
      "text/plain": [
       "[1, 2, 3, 4]"
      ]
     },
     "execution_count": 5,
     "metadata": {},
     "output_type": "execute_result"
    }
   ],
   "source": [
    "list([1, 2, 3, 4])"
   ]
  },
  {
   "cell_type": "markdown",
   "metadata": {},
   "source": [
    "# Exercici 3"
   ]
  },
  {
   "cell_type": "code",
   "execution_count": 45,
   "metadata": {},
   "outputs": [
    {
     "data": {
      "image/png": "[encoded data removed]",
      "text/latex": [
       "$\\displaystyle \\frac{\\pi^{2}}{2}$"
      ],
      "text/plain": [
       " 2\n",
       "π \n",
       "──\n",
       "2 "
      ]
     },
     "execution_count": 45,
     "metadata": {},
     "output_type": "execute_result"
    }
   ],
   "source": [
    "def compute_revo_volume(f, respect, a, b, delta): # he inclos la variable respect per si la integral es respecte altres variables\n",
    "    \"\"\"\n",
    "    Calcula el volum del cos de revolució que representa la funció f \n",
    "    respecte la variable que li diguis i entre els valors de x a i b\n",
    "    \"\"\"\n",
    "    \n",
    "    assert abs(a - b) > delta\n",
    "    \n",
    "    res = sp.pi * sp.integrate(f**2, (respect, a, b)) # sp.integrate per integrar\n",
    "    \n",
    "    assertion = False\n",
    "    \n",
    "    if (a < b):\n",
    "        assert res >= 0 \n",
    "    else:\n",
    "        assert res < 0\n",
    "    \n",
    "    return res\n",
    "\n",
    "x = sp.symbols(\"x\")\n",
    "\n",
    "compute_revo_volume(sp.sin(x), x, 0, sp.pi, 1e-6) "
   ]
  },
  {
   "cell_type": "code",
   "execution_count": null,
   "metadata": {},
   "outputs": [],
   "source": []
  }
 ],
 "metadata": {
  "kernelspec": {
   "display_name": "Python 3",
   "language": "python",
   "name": "python3"
  },
  "language_info": {
   "codemirror_mode": {
    "name": "ipython",
    "version": 3
   },
   "file_extension": ".py",
   "mimetype": "text/x-python",
   "name": "python",
   "nbconvert_exporter": "python",
   "pygments_lexer": "ipython3",
   "version": "3.8.3"
  }
 },
 "nbformat": 4,
 "nbformat_minor": 2
}
