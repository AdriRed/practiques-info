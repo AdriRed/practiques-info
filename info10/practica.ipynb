{
 "cells": [
  {
   "cell_type": "markdown",
   "metadata": {},
   "source": [
    "# Exercici 1"
   ]
  },
  {
   "cell_type": "code",
   "execution_count": 47,
   "metadata": {},
   "outputs": [],
   "source": [
    "def is_toeplitz( mat ):\n",
    "    \n",
    "    import sympy as sp\n",
    "    \n",
    "    result = True # benefit of the doubt\n",
    "    \n",
    "    for idx_1 in range( mat.shape[ 0 ] - 1 ) :\n",
    "        for idx_2 in range( mat.shape[ 1 ] - 1 ) :\n",
    "            diff = mat[ idx_1, idx_2 ] - mat[ idx_1 + 1, idx_2 +1 ]\n",
    "            if not( sp.simplify( diff ) == 0 ) :\n",
    "                result = False # violation of the condition\n",
    "                break\n",
    "                \n",
    "    return result\n",
    "\n",
    "# --------------------------------------------------------------------------------\n",
    "\n",
    "def is_hermitian( mat ):\n",
    "    \n",
    "    import sympy as sp\n",
    "    \n",
    "    result = True # benefit of the doubt\n",
    "    \n",
    "    for idx_1 in range( mat.shape[ 0 ] ) :\n",
    "        for idx_2 in ( range( mat.shape[ 1 ] ) ) :\n",
    "            if (idx_2 == idx_1): # no comprovar diagonal, (si al ex.2 entrem un complex al primer element no funcionarà mai)\n",
    "                continue\n",
    "            diff = mat[ idx_1, idx_2 ] - sp.conjugate( mat[ idx_2, idx_1 ] )\n",
    "            if not( sp.simplify( diff ) == 0 ) :\n",
    "                print(idx_1, idx_2)\n",
    "                result = False # violation of the condition\n",
    "                break\n",
    "\n",
    "    return result"
   ]
  },
  {
   "cell_type": "code",
   "execution_count": 28,
   "metadata": {},
   "outputs": [],
   "source": [
    "import sympy as sp\n",
    "from collections.abc import Iterable\n",
    "\n",
    "def unwrap(a: Iterable):\n",
    "    \"\"\"\n",
    "    Desfà una llista de llistes de llistes... en una sola llista\n",
    "    \"\"\"\n",
    "    new = []\n",
    "    \n",
    "    for i in a:\n",
    "        new = new + (unwrap(i) if isinstance(i, Iterable) else [i])\n",
    "    \n",
    "    return new\n",
    "\n",
    "def toeplitz_hermitians(vec, conversor) -> list: \n",
    "    \"\"\"\n",
    "    Crea una matriu toeplitz hemitania (però on tu li dius la forma d'implementar el conjugat)\n",
    "    \"\"\"\n",
    "    new = [[i for i in vec]]\n",
    "    reversed_vec = list(map(conversor, reversed(vec[1:])))\n",
    "    for i in range(1, len(vec)):\n",
    "        new.append([item for item in reversed_vec[-i:]] + vec[:-i])\n",
    "\n",
    "    return sp.Matrix(new)\n",
    "\n",
    "def compute_herm_toeplitz_matrix(vec):\n",
    "    \"\"\"Crea una matriu de toeplitz hermitania on la primera fila és el paràmtetre\"\"\"\n",
    "    \n",
    "    new = toeplitz_hermitians(vec, sp.conjugate)\n",
    "\n",
    "    assert is_toeplitz(new), \"Not toeplitz\"\n",
    "    assert is_hermitian(new), \"Not hermitian\"\n",
    "\n",
    "    return new\n"
   ]
  },
  {
   "cell_type": "code",
   "execution_count": 31,
   "metadata": {},
   "outputs": [],
   "source": [
    "def unit_test_toeplitz():\n",
    "    \n",
    "    import sympy as sp\n",
    "    sp.init_printing()\n",
    "\n",
    "    alpha = sp.symbols( 'alpha' )\n",
    "    x = sp.symbols( 'x' )\n",
    "    z = sp.symbols( 'z' )\n",
    "\n",
    "    v = sp.Matrix( [ x + sp.conjugate( x ), sp.exp( alpha ), sp.sin( z ) ])\n",
    "\n",
    "    mat = compute_herm_toeplitz_matrix( v )\n",
    "    print(mat)\n",
    "    test_1 = is_toeplitz( mat )\n",
    "    test_2 = is_hermitian( mat )\n",
    "    result = test_1 and test_2\n",
    "    \n",
    "    return result"
   ]
  },
  {
   "cell_type": "code",
   "execution_count": 32,
   "metadata": {},
   "outputs": [
    {
     "name": "stdout",
     "output_type": "stream",
     "text": [
      "Matrix([[x + conjugate(x), exp(alpha), sin(z)], [exp(conjugate(alpha)), x + conjugate(x), exp(alpha)], [sin(conjugate(z)), exp(conjugate(alpha)), x + conjugate(x)]])\n"
     ]
    },
    {
     "data": {
      "text/plain": [
       "True"
      ]
     },
     "execution_count": 32,
     "metadata": {},
     "output_type": "execute_result"
    }
   ],
   "source": [
    "unit_test_toeplitz()"
   ]
  },
  {
   "cell_type": "markdown",
   "metadata": {},
   "source": [
    "# Exercici 2"
   ]
  },
  {
   "cell_type": "code",
   "execution_count": 5,
   "metadata": {},
   "outputs": [
    {
     "ename": "SyntaxError",
     "evalue": "invalid syntax (<ipython-input-5-2b89deee098d>, line 4)",
     "output_type": "error",
     "traceback": [
      "\u001b[1;36m  File \u001b[1;32m\"<ipython-input-5-2b89deee098d>\"\u001b[1;36m, line \u001b[1;32m4\u001b[0m\n\u001b[1;33m    eigen = [(values, vectors) for values*, vectors in mat.eigenvects()]\u001b[0m\n\u001b[1;37m                                          ^\u001b[0m\n\u001b[1;31mSyntaxError\u001b[0m\u001b[1;31m:\u001b[0m invalid syntax\n"
     ]
    }
   ],
   "source": [
    "def eigen_toepl_herm_complex(vec):\n",
    "    mat = compute_herm_toeplitz_matrix(vec)\n",
    "    \n",
    "    eigen = [(values, vectors) for values*, vectors in mat.eigenvects()]\n",
    "    \n",
    "    \n",
    "    \n",
    "    "
   ]
  },
  {
   "cell_type": "code",
   "execution_count": 81,
   "metadata": {},
   "outputs": [
    {
     "data": {
      "image/png": "[encoded data removed]",
      "text/latex": [
       "$\\displaystyle \\left[\\begin{matrix}-0.124415001025874 + 0.580158672880267 i & 0.543793313097663 - 0.0127466165450152 i & -0.151461477513548 - 0.573692076839025 i\\\\-0.525885637269561 + 0.0811373291289101 i & 0.360803514310901 - 0.55094726129797 i & 0.135828751923323 + 0.514479853653705 i\\\\-0.451142556369379 + 0.4015821783514 i & -0.441578341910388 + 0.27461402673892 i & -0.559686328917915 + 0.227044192525027 i\\end{matrix}\\right]$"
      ],
      "text/plain": [
       "⎡-0.124415001025874 + 0.580158672880267⋅ⅈ   0.543793313097663 - 0.012746616545\n",
       "⎢                                                                             \n",
       "⎢-0.525885637269561 + 0.0811373291289101⋅ⅈ   0.360803514310901 - 0.55094726129\n",
       "⎢                                                                             \n",
       "⎣ -0.451142556369379 + 0.4015821783514⋅ⅈ    -0.441578341910388 + 0.27461402673\n",
       "\n",
       "0152⋅ⅈ  -0.151461477513548 - 0.573692076839025⋅ⅈ⎤\n",
       "                                                ⎥\n",
       "797⋅ⅈ   0.135828751923323 + 0.514479853653705⋅ⅈ ⎥\n",
       "                                                ⎥\n",
       "892⋅ⅈ   -0.559686328917915 + 0.227044192525027⋅ⅈ⎦"
      ]
     },
     "execution_count": 81,
     "metadata": {},
     "output_type": "execute_result"
    }
   ],
   "source": [
    "def eigen_herm_toeplitz_from_complex(v):\n",
    "    mat = compute_herm_toeplitz_matrix(v)\n",
    "\n",
    "    eigen = mat.eigenvects()\n",
    "\n",
    "    values = [val for (val, times, *_) in eigen for _ in range(times)]\n",
    "    vectors = [vecs for (*_, vecs) in eigen]\n",
    "    \n",
    "    mat_eigenvalues = sp.diag(*values)\n",
    "    \n",
    "    len_values = len(values)\n",
    "    \n",
    "    return sp.Matrix(mat_eigenvalues), sp.Matrix(vectors).reshape(len_values, len_values)\n",
    "\n",
    "\n",
    "\n",
    "a, b = eigen_herm_toeplitz_from_complex([1+1j, 3-4j, 6+1j])    \n",
    "\n",
    "b"
   ]
  }
 ],
 "metadata": {
  "kernelspec": {
   "display_name": "Python 3",
   "language": "python",
   "name": "python3"
  },
  "language_info": {
   "codemirror_mode": {
    "name": "ipython",
    "version": 3
   },
   "file_extension": ".py",
   "mimetype": "text/x-python",
   "name": "python",
   "nbconvert_exporter": "python",
   "pygments_lexer": "ipython3",
   "version": "3.8.3"
  }
 },
 "nbformat": 4,
 "nbformat_minor": 2
}
