{
 "cells": [
  {
   "cell_type": "code",
   "execution_count": 17,
   "metadata": {},
   "outputs": [],
   "source": [
    "def tria_cami():\n",
    "    entrada = int(input(\"Entra un cami entre el 1 i el 2: \"))\n",
    "    while not (1 <= entrada <= 2):\n",
    "        entrada = int(input(\"Cami no correcte, entra un cami entre el 1 i el 2: \"))\n",
    "    \n",
    "    return entrada"
   ]
  },
  {
   "cell_type": "code",
   "execution_count": 2,
   "metadata": {},
   "outputs": [
    {
     "name": "stdout",
     "output_type": "stream",
     "text": [
      "Entra un cami entre el 1 i el 20\n",
      "Cami no correcte, entra un cami entre el 1 i el 20\n",
      "Cami no correcte, entra un cami entre el 1 i el 20\n",
      "Cami no correcte, entra un cami entre el 1 i el 21\n"
     ]
    },
    {
     "data": {
      "text/plain": [
       "1"
      ]
     },
     "execution_count": 2,
     "metadata": {},
     "output_type": "execute_result"
    }
   ],
   "source": [
    "tria_cami()"
   ]
  },
  {
   "cell_type": "code",
   "execution_count": 16,
   "metadata": {},
   "outputs": [
    {
     "name": "stdout",
     "output_type": "stream",
     "text": [
      "Entra un cami entre el 1 i el 21\n",
      "Has perdido :(\n"
     ]
    }
   ],
   "source": [
    "import random\n",
    "\n",
    "def explora_cami(cami):\n",
    "    cami_random = random.randint(1, 2)\n",
    "    \n",
    "    if cami == cami_random:\n",
    "        print(\"Felicidades has ganado un ipad, descargue ipad.exe\")\n",
    "    else:\n",
    "        print(\"Has perdido :(\")\n",
    "\n",
    "cami_escollit = tria_cami()\n",
    "explora_cami(cami_escollit)"
   ]
  },
  {
   "cell_type": "code",
   "execution_count": 20,
   "metadata": {},
   "outputs": [
    {
     "name": "stdout",
     "output_type": "stream",
     "text": [
      "Entra un cami entre el 1 i el 2: 1\n",
      "Felicidades has ganado un ipad, descargue ipad.exe\n",
      "Vols acabar el joc? (Si/No) \n",
      "Entra un cami entre el 1 i el 2: 1\n",
      "Felicidades has ganado un ipad, descargue ipad.exe\n",
      "Vols acabar el joc? (Si/No) No\n",
      "Entra un cami entre el 1 i el 2: 2\n",
      "Has perdido :(\n",
      "Vols acabar el joc? (Si/No) No\n",
      "Entra un cami entre el 1 i el 2: 2\n",
      "Has perdido :(\n",
      "Vols acabar el joc? (Si/No) Si\n"
     ]
    }
   ],
   "source": [
    "while True:\n",
    "    cami_escollit = tria_cami()\n",
    "    explora_cami(cami_escollit)\n",
    "    acabar = input(\"Vols acabar el joc? (Si/No) \")\n",
    "    if (acabar == \"Si\"):\n",
    "        break"
   ]
  },
  {
   "cell_type": "code",
   "execution_count": 22,
   "metadata": {},
   "outputs": [],
   "source": [
    "import tkinter"
   ]
  },
  {
   "cell_type": "code",
   "execution_count": 33,
   "metadata": {},
   "outputs": [
    {
     "data": {
      "text/plain": [
       "46"
      ]
     },
     "execution_count": 33,
     "metadata": {},
     "output_type": "execute_result"
    }
   ],
   "source": [
    "from datetime import datetime\n",
    "\n",
    "data_avui = datetime.now()\n",
    "\n",
    "data_avui.year\n",
    "data_avui.month\n",
    "data_avui.day\n",
    "data_avui.hour\n",
    "data_avui.second"
   ]
  },
  {
   "cell_type": "code",
   "execution_count": 55,
   "metadata": {},
   "outputs": [
    {
     "name": "stdout",
     "output_type": "stream",
     "text": [
      "Help on function explora_cami_2 in module __main__:\n",
      "\n",
      "explora_cami_2(cami)\n",
      "    Explora el cami que hi ha per arguments i retorna si ha guanyat o no\n",
      "\n"
     ]
    }
   ],
   "source": [
    "def explora_cami_2(cami):\n",
    "    \"\"\"\n",
    "    Explora el cami que hi ha per arguments i retorna si ha guanyat o no\n",
    "    \"\"\"\n",
    "    cami_random = random.randint(1, 2) \n",
    "    return cami == cami_random\n",
    "\n",
    "\n",
    "help(explora_cami_2)"
   ]
  },
  {
   "cell_type": "code",
   "execution_count": 54,
   "metadata": {},
   "outputs": [
    {
     "name": "stdout",
     "output_type": "stream",
     "text": [
      "Quants cops vols jugar? 5\n",
      "Entra un cami entre el 1 i el 2: 1\n",
      "True\n",
      "True\n",
      "True\n",
      "False\n",
      "False\n"
     ]
    },
    {
     "data": {
      "text/plain": [
       "60.0"
      ]
     },
     "execution_count": 54,
     "metadata": {},
     "output_type": "execute_result"
    }
   ],
   "source": [
    "def joc():\n",
    "    \n",
    "    # Quants cops vols jugar\n",
    "    n = int(input(\"Quants cops vols jugar? \"))\n",
    "    # Quin cami esculls (definitiu)\n",
    "    cami_definitiu = tria_cami()\n",
    "    \n",
    "    # Juguem n vegades amb el cami escollit\n",
    "    jugades = 0\n",
    "    victories = 0\n",
    "    while jugades < n:\n",
    "        resultat = explora_cami_2(cami_definitiu)\n",
    "        jugades = jugades + 1\n",
    "        \n",
    "        if (resultat == True):\n",
    "            victories = victories + 1\n",
    "    \n",
    "    # Calcula el percentatge de victories\n",
    "    percentatge = (victories / jugades) * 100\n",
    "    # Retorna el percentatge de victories\n",
    "    return percentatge\n",
    "    \n",
    "joc()"
   ]
  },
  {
   "cell_type": "markdown",
   "metadata": {},
   "source": [
    "## Explicació exercici final\n",
    "M'he aproximat a l'exercici de la seguent forma:\n",
    "1. Demanar la info a l'usuari\n",
    "    1. Nº de jugades\n",
    "    2. Cami escollit\n",
    "2. Fer totes les jugades i contar les victories\n",
    "3. Calcular el percentatge"
   ]
  },
  {
   "cell_type": "code",
   "execution_count": null,
   "metadata": {},
   "outputs": [],
   "source": []
  },
  {
   "cell_type": "code",
   "execution_count": null,
   "metadata": {},
   "outputs": [],
   "source": [
    "def productori(n):\n",
    "    if (n == 1)\n",
    "        return 1\n",
    "    return n * productori(n-1)\n",
    "\n",
    "def productori_2(n):\n",
    "    resultat = 1\n",
    "    for i in range(n):\n",
    "        resultat = resultat * (i+1)\n",
    "    return resultat\n",
    "\n",
    "def productori_3(n):\n",
    "    contador = 0\n",
    "    resultat = 1\n",
    "    while n > contador:\n",
    "        resultat = resultat * (contador+1)\n",
    "        contador = contador + 1\n",
    "    return resultat"
   ]
  }
 ],
 "metadata": {
  "kernelspec": {
   "display_name": "Python 3",
   "language": "python",
   "name": "python3"
  },
  "language_info": {
   "codemirror_mode": {
    "name": "ipython",
    "version": 3
   },
   "file_extension": ".py",
   "mimetype": "text/x-python",
   "name": "python",
   "nbconvert_exporter": "python",
   "pygments_lexer": "ipython3",
   "version": "3.8.3"
  }
 },
 "nbformat": 4,
 "nbformat_minor": 4
}
