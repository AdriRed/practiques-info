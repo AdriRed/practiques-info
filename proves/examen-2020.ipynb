{
 "cells": [
  {
   "cell_type": "markdown",
   "metadata": {},
   "source": [
    "# Exercici 1"
   ]
  },
  {
   "cell_type": "code",
   "execution_count": 1,
   "metadata": {},
   "outputs": [],
   "source": [
    "import random\n",
    "\n",
    "def fer_tauler(n, m):\n",
    "    \"\"\"\n",
    "    crea un tauler de nxn amb numeros enters aleatoris que van d'1 a m\n",
    "    \"\"\"\n",
    "    tauler = []\n",
    "    for i in range(n):\n",
    "        fila= []\n",
    "        for j in range(n):\n",
    "            fila.append(random.randint(1, m))\n",
    "        tauler.append(fila)\n",
    "    \n",
    "    return tauler"
   ]
  },
  {
   "cell_type": "code",
   "execution_count": 2,
   "metadata": {},
   "outputs": [
    {
     "data": {
      "text/plain": [
       "[[2, 9, 8, 4, 10],\n",
       " [7, 1, 6, 4, 10],\n",
       " [9, 4, 8, 8, 3],\n",
       " [4, 4, 4, 2, 4],\n",
       " [5, 10, 1, 10, 6]]"
      ]
     },
     "execution_count": 2,
     "metadata": {},
     "output_type": "execute_result"
    }
   ],
   "source": [
    "fer_tauler(5, 10)"
   ]
  },
  {
   "cell_type": "markdown",
   "metadata": {},
   "source": [
    "# Exercici 2"
   ]
  },
  {
   "cell_type": "code",
   "execution_count": 3,
   "metadata": {},
   "outputs": [],
   "source": [
    "def ensenya_tauler(tauler):\n",
    "    \"\"\"\n",
    "    imprimeix el tauler de forma ordenada per pantalla\n",
    "    \"\"\"\n",
    "    \n",
    "    for linia in tauler:\n",
    "        print(*linia, sep=\" \")\n",
    "#         for numero in linia:\n",
    "#             print(str(numero) + \" \", end=\"\")\n",
    "#         print()"
   ]
  },
  {
   "cell_type": "code",
   "execution_count": 4,
   "metadata": {},
   "outputs": [
    {
     "name": "stdout",
     "output_type": "stream",
     "text": [
      "9 9 1 3 5\n",
      "6 8 1 4 8\n",
      "4 1 9 7 5\n",
      "1 1 1 2 2\n",
      "4 1 7 5 6\n"
     ]
    }
   ],
   "source": [
    "tauler = fer_tauler(5, 9)\n",
    "ensenya_tauler(tauler)"
   ]
  },
  {
   "cell_type": "code",
   "execution_count": 5,
   "metadata": {},
   "outputs": [
    {
     "name": "stdout",
     "output_type": "stream",
     "text": [
      "Help on built-in function print in module builtins:\n",
      "\n",
      "print(...)\n",
      "    print(value, ..., sep=' ', end='\\n', file=sys.stdout, flush=False)\n",
      "    \n",
      "    Prints the values to a stream, or to sys.stdout by default.\n",
      "    Optional keyword arguments:\n",
      "    file:  a file-like object (stream); defaults to the current sys.stdout.\n",
      "    sep:   string inserted between values, default a space.\n",
      "    end:   string appended after the last value, default a newline.\n",
      "    flush: whether to forcibly flush the stream.\n",
      "\n"
     ]
    }
   ],
   "source": [
    "help(print)"
   ]
  },
  {
   "cell_type": "markdown",
   "metadata": {},
   "source": [
    "# Exercici 3"
   ]
  },
  {
   "cell_type": "code",
   "execution_count": 6,
   "metadata": {},
   "outputs": [],
   "source": [
    "DIRECCIONS = [(a, b) for a in range(-1, 1+1) for b in range(-1, 1+1) if not (a == b and b == 0)]\n",
    "\n",
    "def can_get(tauler, i, j):\n",
    "    return 0 <= i < len(tauler) and 0 <= j < len(tauler[i])\n",
    "\n",
    "def is_lonely(tauler, i, j):\n",
    "    for ni, nj in DIRECCIONS:\n",
    "        if (can_get(tauler, i+ni, j+nj)):\n",
    "\n",
    "            if (tauler[i][j] == tauler[i+ni][j+nj]):\n",
    "                return False\n",
    "    return True\n",
    "\n",
    "def sols(tauler):\n",
    "    newtauler = [[e for e in fila] for fila in tauler]\n",
    "    \n",
    "    for i in range(len(tauler)):\n",
    "        for j in range(len(tauler[i])):\n",
    "            if not is_lonely(newtauler, i, j):\n",
    "                newtauler[i][j] = 0\n",
    "    \n",
    "    return newtauler\n",
    "    "
   ]
  },
  {
   "cell_type": "code",
   "execution_count": 7,
   "metadata": {},
   "outputs": [
    {
     "name": "stdout",
     "output_type": "stream",
     "text": [
      "9 9 3 3 7\n",
      "3 7 6 6 5\n",
      "1 4 2 2 4\n",
      "8 8 4 9 7\n",
      "4 7 9 7 8\n",
      "\n",
      "0 9 0 3 7\n",
      "3 7 0 6 5\n",
      "1 0 0 2 4\n",
      "0 8 4 0 0\n",
      "4 7 9 7 8\n"
     ]
    }
   ],
   "source": [
    "tauler = fer_tauler(5, 9)\n",
    "ensenya_tauler(tauler)\n",
    "\n",
    "tauler = sols(tauler)\n",
    "print()\n",
    "ensenya_tauler(tauler)"
   ]
  },
  {
   "cell_type": "code",
   "execution_count": 8,
   "metadata": {},
   "outputs": [
    {
     "data": {
      "text/plain": [
       "[(-1, -1), (-1, 0), (-1, 1), (0, -1), (0, 1), (1, -1), (1, 0), (1, 1)]"
      ]
     },
     "execution_count": 8,
     "metadata": {},
     "output_type": "execute_result"
    }
   ],
   "source": [
    "[(a, b) for a in range(-1, 1+1) for b in range(-1, 1+1) if not (a == b == 0)]"
   ]
  },
  {
   "cell_type": "markdown",
   "metadata": {},
   "source": [
    "# Exercici 4"
   ]
  },
  {
   "cell_type": "code",
   "execution_count": 9,
   "metadata": {},
   "outputs": [],
   "source": [
    "def canviar_sols(tauler, m):\n",
    "    canviat = False\n",
    "    for i in range(len(tauler)):\n",
    "        for j in range(len(tauler[i])):\n",
    "            if (tauler[i][j] == 0):\n",
    "                canviat = True\n",
    "                tauler[i][j] = random.randint(1, m)\n",
    "    \n",
    "    return canviat, tauler"
   ]
  },
  {
   "cell_type": "code",
   "execution_count": 10,
   "metadata": {},
   "outputs": [
    {
     "data": {
      "text/plain": [
       "(False, [[1, 2], [3, 4]])"
      ]
     },
     "execution_count": 10,
     "metadata": {},
     "output_type": "execute_result"
    }
   ],
   "source": [
    "canviar_sols([[1, 2], [3, 4]], 6)"
   ]
  },
  {
   "cell_type": "code",
   "execution_count": 11,
   "metadata": {},
   "outputs": [
    {
     "name": "stdout",
     "output_type": "stream",
     "text": [
      "5 9 7 3 4\n",
      "3 5 9 5 2\n",
      "6 9 6 5 2\n",
      "1 9 6 5 1\n",
      "7 6 8 4 6\n",
      "\n",
      "0 0 7 3 4\n",
      "3 5 0 0 0\n",
      "6 0 0 0 2\n",
      "1 9 0 5 1\n",
      "7 6 8 4 6\n",
      "\n",
      "2 4 7 3 4\n",
      "3 5 1 4 3\n",
      "6 1 1 3 2\n",
      "1 9 4 5 1\n",
      "7 6 8 4 6\n"
     ]
    }
   ],
   "source": [
    "tauler = fer_tauler(5, 9)\n",
    "ensenya_tauler(tauler)\n",
    "\n",
    "tauler = sols(tauler)\n",
    "print()\n",
    "ensenya_tauler(tauler)\n",
    "\n",
    "canviat, tauler = canviar_sols(tauler, 5)\n",
    "print()\n",
    "ensenya_tauler(tauler)\n"
   ]
  },
  {
   "cell_type": "markdown",
   "metadata": {},
   "source": [
    "# Exercici 5"
   ]
  },
  {
   "cell_type": "code",
   "execution_count": 12,
   "metadata": {},
   "outputs": [],
   "source": [
    "def connectar(n, m):\n",
    "    vegades = 0\n",
    "    repetir = True\n",
    "    tauler = fer_tauler(n, m)\n",
    "#     ensenya_tauler(tauler)\n",
    "    \n",
    "    \n",
    "    while repetir:\n",
    "        tauler = sols(tauler)\n",
    "#         print()\n",
    "        \n",
    "#         ensenya_tauler(tauler)\n",
    "        \n",
    "        repetir, tauler = canviar_sols(tauler, m)\n",
    "        \n",
    "        if (repetir):\n",
    "            vegades += 1\n",
    "    \n",
    "    return (vegades, tauler)\n",
    "        "
   ]
  },
  {
   "cell_type": "code",
   "execution_count": 13,
   "metadata": {},
   "outputs": [
    {
     "name": "stdout",
     "output_type": "stream",
     "text": [
      "7 3 8 2 8 1 2 5 2 3\n",
      "9 2 5 7 5 7 8 7 8 1\n",
      "6 7 6 1 6 2 3 9 4 3\n",
      "8 3 2 8 4 1 4 6 1 5\n",
      "5 9 7 5 7 6 7 3 9 4\n",
      "1 6 3 2 1 9 1 5 8 3\n",
      "9 8 9 6 3 8 2 7 2 7\n",
      "7 2 5 4 1 4 5 9 3 9\n",
      "4 3 7 6 2 8 1 7 4 5\n",
      "8 1 9 8 9 7 5 2 1 8\n",
      "\n",
      "8\n"
     ]
    }
   ],
   "source": [
    "veg, tau = connectar(10, 9) # no provo amb m = 4 ja que es pot estar tota la vida\n",
    "ensenya_tauler(tau)\n",
    "\n",
    "print()\n",
    "print(veg)"
   ]
  },
  {
   "cell_type": "markdown",
   "metadata": {},
   "source": [
    "# Exercici 6"
   ]
  },
  {
   "cell_type": "code",
   "execution_count": 16,
   "metadata": {},
   "outputs": [
    {
     "name": "stdout",
     "output_type": "stream",
     "text": [
      "8 5 6 2 7 6 9 2 3 7\n",
      "7 1 8 1 5 1 5 7 4 2\n",
      "8 4 3 7 4 3 9 2 6 7\n",
      "2 5 8 5 8 7 4 1 3 8\n",
      "4 6 3 4 3 5 3 5 7 9\n",
      "2 9 8 6 2 6 9 1 6 2\n",
      "5 4 7 1 7 3 7 5 9 8\n",
      "3 8 6 5 6 8 4 2 3 2\n",
      "7 5 1 4 3 2 6 8 1 5\n",
      "8 4 2 8 5 9 5 9 4 9\n",
      "\n",
      "8\n",
      "\n",
      "Tauler guardat a connectat.txt\n"
     ]
    }
   ],
   "source": [
    "veg, tau = connectar(10, 9) # no provo amb m = 4 ja que es pot estar tota la vida\n",
    "ensenya_tauler(tau)\n",
    "\n",
    "print()\n",
    "print(veg)\n",
    "print()\n",
    "with open(\"connectat.txt\", \"w\") as file:\n",
    "    for fila in tau:\n",
    "        file.write(\"\\t\".join([str(el) for el in fila]) + \"\\n\")\n",
    "\n",
    "print(\"Tauler guardat a connectat.txt\")"
   ]
  },
  {
   "cell_type": "code",
   "execution_count": null,
   "metadata": {},
   "outputs": [],
   "source": []
  }
 ],
 "metadata": {
  "kernelspec": {
   "display_name": "Python 3",
   "language": "python",
   "name": "python3"
  },
  "language_info": {
   "codemirror_mode": {
    "name": "ipython",
    "version": 3
   },
   "file_extension": ".py",
   "mimetype": "text/x-python",
   "name": "python",
   "nbconvert_exporter": "python",
   "pygments_lexer": "ipython3",
   "version": "3.8.3"
  }
 },
 "nbformat": 4,
 "nbformat_minor": 4
}
