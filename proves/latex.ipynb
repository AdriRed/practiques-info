{
 "cells": [
  {
   "cell_type": "markdown",
   "metadata": {},
   "source": [
    "# A\n",
    "## A\n",
    "### A\n",
    "#### A\n",
    "##### 5\n",
    "###### 6\n",
    "\n",
    "_1_\n",
    "**2**\n",
    "_**3**_\n",
    "\n",
    "[google](https://google.com)\n",
    "\n",
    "|title1|2333|3333|\n",
    "|---|---|---|\n",
    "|1|a|3|\n",
    "|4|5|6|\n",
    "\n",
    "$$ \\frac{1}{3} $$\n",
    "\n",
    "$$ \\sqrt{3}{333} $$\n",
    "\n",
    "$$ ajaja^fa_{f_4} $$"
   ]
  }
 ],
 "metadata": {
  "kernelspec": {
   "display_name": "Python 3",
   "language": "python",
   "name": "python3"
  },
  "language_info": {
   "codemirror_mode": {
    "name": "ipython",
    "version": 3
   },
   "file_extension": ".py",
   "mimetype": "text/x-python",
   "name": "python",
   "nbconvert_exporter": "python",
   "pygments_lexer": "ipython3",
   "version": "3.8.5"
  }
 },
 "nbformat": 4,
 "nbformat_minor": 4
}
