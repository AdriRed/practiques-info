{
 "metadata": {
  "language_info": {
   "codemirror_mode": {
    "name": "ipython",
    "version": 3
   },
   "file_extension": ".py",
   "mimetype": "text/x-python",
   "name": "python",
   "nbconvert_exporter": "python",
   "pygments_lexer": "ipython3",
   "version": "3.8.3-final"
  },
  "orig_nbformat": 2,
  "kernelspec": {
   "name": "python3",
   "display_name": "Python 3"
  }
 },
 "nbformat": 4,
 "nbformat_minor": 2,
 "cells": [
  {
   "cell_type": "code",
   "execution_count": 31,
   "metadata": {},
   "outputs": [
    {
     "output_type": "stream",
     "name": "stdout",
     "text": [
      "2\n3\n4\n5\n6\n7\n8\n9\n10\n11\n12\n13\n14\n15\n16\n17\n"
     ]
    },
    {
     "output_type": "execute_result",
     "data": {
      "text/plain": [
       "False"
      ]
     },
     "metadata": {},
     "execution_count": 31
    }
   ],
   "source": [
    "# es pot divir 10 / 2? si -> 10 no es primer\n",
    "# 49\n",
    "# es pot divir 49 / 2? no -> 49 % 2 != 0 (aixo dona true)\n",
    "# es pot divir 49 / 3? no -> 49 % 3 != 0\n",
    "# es pot divir 49 / 4? no -> 49 % 4 != 0\n",
    "# ...\n",
    "# es pot divir 49 / 7? si\n",
    "\n",
    "\n",
    "\n",
    "\n",
    "def es_pot_dividir(dividend, divsor):\n",
    "    return (dividend % divsor) == 0\n",
    "\n",
    "def no_es_pot_dividir(dividend, divsor):\n",
    "    return (dividend % divsor) != 0\n",
    "\n",
    "def es_primer(n, i = 2):\n",
    "    \n",
    "    print(i)\n",
    "\n",
    "    if (i == n-1):\n",
    "        return no_es_pot_dividir(n, i)\n",
    "\n",
    "    return no_es_pot_dividir(n, i) and es_primer(n, i+1)\n"
   ]
  },
  {
   "cell_type": "code",
   "execution_count": null,
   "metadata": {},
   "outputs": [],
   "source": [
    "1 + (2 + (3 + 4+ 5)"
   ]
  },
  {
   "cell_type": "code",
   "execution_count": 20,
   "metadata": {},
   "outputs": [
    {
     "output_type": "execute_result",
     "data": {
      "text/plain": [
       "True"
      ]
     },
     "metadata": {},
     "execution_count": 20
    }
   ],
   "source": [
    "no_es_pot_dividir(7, 2) and (no_es_pot_dividir(7, 3) and no_es_pot_dividir(7, 4) and no_es_pot_dividir(7, 5) and no_es_pot_dividir(7, 6))"
   ]
  },
  {
   "cell_type": "code",
   "execution_count": 9,
   "metadata": {},
   "outputs": [
    {
     "output_type": "stream",
     "name": "stdout",
     "text": [
      "3\n4\n5\n6\n7\n8\n9\n10\n"
     ]
    },
    {
     "output_type": "execute_result",
     "data": {
      "text/plain": [
       "52"
      ]
     },
     "metadata": {},
     "execution_count": 9
    }
   ],
   "source": [
    "# factorial(10)\n",
    "sumatori(3, 10)"
   ]
  },
  {
   "cell_type": "code",
   "execution_count": null,
   "metadata": {},
   "outputs": [],
   "source": [
    "# 7\n",
    "\n",
    "# 7 / 2 -> no se puede hacer\n",
    "# 7 / 3 -> no se puede hacer\n",
    "# 7 / 4 -> no se puede hacer\n",
    "# 7 / 5 -> no se puede hacer\n",
    "# 7 / 6 -> no se puede hacer\n",
    "\n",
    "# no se ha podido hacer ninguno? es primo :)"
   ]
  },
  {
   "source": [
    "7 % 2 == 0"
   ],
   "cell_type": "code",
   "metadata": {},
   "execution_count": 3,
   "outputs": [
    {
     "output_type": "execute_result",
     "data": {
      "text/plain": [
       "False"
      ]
     },
     "metadata": {},
     "execution_count": 3
    }
   ]
  },
  {
   "cell_type": "code",
   "execution_count": null,
   "metadata": {},
   "outputs": [],
   "source": []
  },
  {
   "cell_type": "code",
   "execution_count": 13,
   "metadata": {},
   "outputs": [],
   "source": [
    "\n",
    "# n! = n * (n-1)!\n",
    "# 1! = 1\n",
    "\n",
    "# factorial(n) => n * factorial(n-1)\n",
    "# factorial(n-1) => n-1 * factorial(n-2)\n",
    "# ...\n",
    "# factorial(1) => 1\n",
    "\n",
    "# (5 * (4 * (3 * (2 * (1)))))\n",
    "\n",
    "# factorial(5) => 5 * factorial(4)\n",
    "\n",
    "\n",
    "def factorial(n):\n",
    "    print(n)\n",
    "    # Caso Base\n",
    "    if (n == 1):\n",
    "        return 1\n",
    "    return n * factorial(n-1)\n",
    "\n",
    "# for i in range(5):\n",
    "#     print(i)\n",
    "\n",
    "\n",
    "\n",
    "\n",
    "def es_divisible(dividend, divisor):\n",
    "    return dividend % divisor == 0\n",
    "\n",
    "\n",
    "\n",
    "# es_divisible(7, 2)"
   ]
  },
  {
   "cell_type": "code",
   "execution_count": 29,
   "metadata": {},
   "outputs": [
    {
     "output_type": "stream",
     "name": "stdout",
     "text": [
      "121 2\n121 3\n121 4\n121 5\n121 6\n121 7\n121 8\n121 9\n121 10\n121 11\n"
     ]
    },
    {
     "output_type": "execute_result",
     "data": {
      "text/plain": [
       "False"
      ]
     },
     "metadata": {},
     "execution_count": 29
    }
   ],
   "source": [
    "def no_es_divisible(dividend, divisor):\n",
    "    return dividend % divisor != 0\n",
    "\n",
    "# 2 .. enter-1\n",
    "# Casos base:\n",
    "# -> Que llegues al final (enter-1) y no hayas encontrado ningun numero que pueda dividir a enter (DONE)\n",
    "# -> Que encuentres un numero que pueda dividir a enter\n",
    "def es_primer(enter, n):\n",
    "    print(enter, n)\n",
    "\n",
    "    if (n == enter-1): # es el final?\n",
    "        return no_es_divisible(enter, n)\n",
    "\n",
    "    if (no_es_divisible(enter, n) and es_primer(enter, n+1)): # este numero es divisible?\n",
    "        return True\n",
    "    else:\n",
    "        return False\n",
    "        #      Comprovación de que no es divisible el entero por este numero \n",
    "        #           |\n",
    "        #           V                        Comprovar el siguiente numero\n",
    "        # return no_es_divisible(enter, n) and es_primer(enter, n+1)\n",
    "\n",
    "\n",
    "es_primer(121, 2)\n",
    "\n",
    "# no_es_divisible(7, 2) and (no_es_divisible(7, 3) and (no_es_divisible(7, 4) and (no_es_divisible(7, 5) and (no_es_divisible(7, 6)))))\n",
    "\n",
    "# no_es_divisible(4, 2) and no_es_divisible(4, 3)"
   ]
  },
  {
   "cell_type": "code",
   "execution_count": null,
   "metadata": {},
   "outputs": [],
   "source": []
  }
 ]
}