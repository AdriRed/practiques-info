{
 "cells": [
  {
   "cell_type": "code",
   "execution_count": null,
   "metadata": {},
   "outputs": [],
   "source": [
    "# bool string int float complex\n",
    "\n",
    "True and True and True and True and False # -> True\n",
    "True and False # -> False\n",
    "False and False # -> False\n",
    "False and False # -> False\n",
    "\n",
    "True or True # -> True\n",
    "True or False # -> True\n",
    "False or False # -> True\n",
    "False or False # -> False\n",
    "\n",
    "\n",
    "# + - / * % //\n",
    "# and or not\n",
    "# == != > < >= <=\n",
    "\n",
    "True False\n",
    "\n",
    "\n",
    "# + - / * %\n",
    "# "
   ]
  },
  {
   "cell_type": "code",
   "execution_count": 60,
   "metadata": {},
   "outputs": [
    {
     "name": "stdout",
     "output_type": "stream",
     "text": [
      "33\n"
     ]
    }
   ],
   "source": []
  },
  {
   "cell_type": "code",
   "execution_count": 96,
   "metadata": {
    "tags": []
   },
   "outputs": [
    {
     "data": {
      "text/plain": [
       "''"
      ]
     },
     "execution_count": 96,
     "metadata": {},
     "output_type": "execute_result"
    }
   ],
   "source": [
    "a = 3\n",
    "b = \"iauysdfd\"\n",
    "c = \"detectiu conan\"\n",
    "d = True\n",
    "\n",
    "if askfdsalkdn:\n",
    "    oañsndfsa\n",
    "\n",
    "if askfdsalkdn:\n",
    "    oañsndfsa\n",
    "elif naospidfijasf:\n",
    "    asjdfnsad\n",
    "elif naospidfijasf:\n",
    "    asjdfnsad\n",
    "    \n",
    "if askfdsalkdn:\n",
    "    oañsndfsa\n",
    "else:\n",
    "    ñkljasnfkjld\n",
    "    \n",
    "if askfdsalkdn:\n",
    "    oañsndfsa\n",
    "elif naospidfijasf:\n",
    "    asjdfnsad\n",
    "elif naospidfijasf:\n",
    "    asjdfnsad\n",
    "else:\n",
    "    ñkljasnfkjld\n",
    "\n",
    "input()"
   ]
  },
  {
   "cell_type": "code",
   "execution_count": 89,
   "metadata": {},
   "outputs": [
    {
     "name": "stdout",
     "output_type": "stream",
     "text": [
      "4 iauysdfd detectiu conan True---ala que ha fet un salt de linia\n"
     ]
    }
   ],
   "source": [
    "print(a, b, c, d, end='---')\n",
    "print(\"ala que ha fet un salt de linia\")\n"
   ]
  },
  {
   "cell_type": "code",
   "execution_count": 52,
   "metadata": {},
   "outputs": [
    {
     "name": "stdout",
     "output_type": "stream",
     "text": [
      "Año no bisiesto\n"
     ]
    }
   ],
   "source": [
    "\n",
    "year = 100\n",
    "\n",
    "if year % 4 == 0:\n",
    "    if (year % 100 == 0):\n",
    "        if (year % 400 == 0):\n",
    "            es_bisiesto = True\n",
    "        else:\n",
    "            es_bisiesto = False\n",
    "    else:\n",
    "        es_bisiesto = True\n",
    "else:\n",
    "    es_bisiesto = False\n",
    "\n",
    "    \n",
    "no = \" no \"\n",
    "\n",
    "    \n",
    "if (es_bisiesto):\n",
    "    no = \" \"\n",
    "\n",
    "print(\"Año{:s}bisiesto\".format(no))"
   ]
  },
  {
   "cell_type": "code",
   "execution_count": 3,
   "metadata": {},
   "outputs": [
    {
     "output_type": "stream",
     "name": "stdout",
     "text": [
      "('a', 10)\n('b', 20)\n('c', 30)\n('d', 40)\n"
     ]
    }
   ],
   "source": [
    "llista_lletres = ['a', 'b', 'c', 'd']\n",
    "llista_deu = [10, 20, 30, 40, 50]\n",
    "for tupla in zip(llista_lletres, llista_deu):\n",
    "    print(tupla)"
   ]
  },
  {
   "cell_type": "code",
   "execution_count": 10,
   "metadata": {},
   "outputs": [],
   "source": [
    "dicc_1 = {\n",
    "    'a': 1,\n",
    "    'k': 50,\n",
    "    'u': 3\n",
    "}\n",
    "\n",
    "dicc_2 = {\n",
    "    'a': 4,\n",
    "    'o': 9,\n",
    "    'm': 3,\n",
    "}\n",
    "\n",
    "dicc_resultat = {\n",
    "    'a': 5,\n",
    "    'k': 50,\n",
    "    'u': 3,\n",
    "    'o': 9,\n",
    "    'm': 3,\n",
    "    'u': 3\n",
    "}\n",
    "\n",
    "for lletra in dicc_1:\n",
    "    if (lletra not in dicc_2):\n",
    "        dicc_2[lletra] = dicc_1[lletra]\n",
    "    else:\n",
    "        dicc_2[lletra] = dicc_2[lletra] + dicc_1[lletra]\n",
    "\n",
    "assert dicc_resultat == dicc_2"
   ]
  },
  {
   "cell_type": "code",
   "execution_count": 15,
   "metadata": {},
   "outputs": [
    {
     "output_type": "execute_result",
     "data": {
      "text/plain": [
       "{'à': 'a',\n",
       " 'á': 'a',\n",
       " 'ä': 'a',\n",
       " 'è': 'e',\n",
       " 'é': 'e',\n",
       " 'ë': 'e',\n",
       " 'ì': 'i',\n",
       " 'í': 'i',\n",
       " 'ï': 'i',\n",
       " 'ò': 'o',\n",
       " 'ó': 'o',\n",
       " 'ö': 'o',\n",
       " 'ù': 'u',\n",
       " 'ú': 'u',\n",
       " 'ü': 'u'}"
      ]
     },
     "metadata": {},
     "execution_count": 15
    }
   ],
   "source": [
    "lletres = [('àáä', 'a'),('èéë', 'e'),('ìíï', 'i'),('òóö', 'o'),('ùúü', 'u')]\n",
    "\n",
    "substitucions = dict((subst, lletra) for (multiples, lletra) in lletres for subst in multiples)\n",
    "\n",
    "substitucions"
   ]
  },
  {
   "cell_type": "code",
   "execution_count": 5,
   "metadata": {},
   "outputs": [
    {
     "output_type": "stream",
     "name": "stdout",
     "text": [
      "       hola\tque\ttal       \nhola\tque\ttal\n"
     ]
    },
    {
     "output_type": "execute_result",
     "data": {
      "text/plain": [
       "['hola', 'que', 'tal']"
      ]
     },
     "metadata": {},
     "execution_count": 5
    }
   ],
   "source": [
    "cadena = \"       hola\\tque\\ttal       \"\n",
    "print(cadena)\n",
    "print(cadena.strip())\n",
    "\n",
    "\n",
    "cadena.strip().split('\\t')"
   ]
  },
  {
   "cell_type": "code",
   "execution_count": 9,
   "metadata": {},
   "outputs": [
    {
     "output_type": "execute_result",
     "data": {
      "text/plain": [
       "['a   10', 'b   174', 'c   318', '']"
      ]
     },
     "metadata": {},
     "execution_count": 9
    }
   ],
   "source": [
    "fitxer = \"\"\"a   10\n",
    "b   174\n",
    "c   318\n",
    "\"\"\".split('\\n')\n",
    "\n",
    "\n",
    "fitxer"
   ]
  },
  {
   "cell_type": "code",
   "execution_count": 3,
   "metadata": {},
   "outputs": [
    {
     "output_type": "stream",
     "name": "stdout",
     "text": [
      "('a', 5)\n('k', 50)\n('u', 3)\n('o', 9)\n('m', 3)\n"
     ]
    }
   ],
   "source": [
    "dicc_resultat = {\n",
    "    'a': 5,\n",
    "    'k': 50,\n",
    "    'u': 3,\n",
    "    'o': 9,\n",
    "    'm': 3,\n",
    "}\n",
    "\n",
    "for i in dicc_resultat.items():\n",
    "    print(i)"
   ]
  },
  {
   "cell_type": "code",
   "execution_count": 4,
   "metadata": {},
   "outputs": [
    {
     "output_type": "error",
     "ename": "AxisError",
     "evalue": "axis 1 is out of bounds for array of dimension 1",
     "traceback": [
      "\u001b[1;31m---------------------------------------------------------------------------\u001b[0m",
      "\u001b[1;31mAxisError\u001b[0m                                 Traceback (most recent call last)",
      "\u001b[1;32m<ipython-input-4-2e150650dbfa>\u001b[0m in \u001b[0;36m<module>\u001b[1;34m\u001b[0m\n\u001b[1;32m----> 1\u001b[1;33m \u001b[0mnp\u001b[0m\u001b[1;33m.\u001b[0m\u001b[0msort\u001b[0m\u001b[1;33m(\u001b[0m\u001b[1;33m[\u001b[0m\u001b[1;36m1\u001b[0m\u001b[1;33m,\u001b[0m \u001b[1;36m2\u001b[0m\u001b[1;33m,\u001b[0m \u001b[1;36m3\u001b[0m\u001b[1;33m,\u001b[0m \u001b[1;36m4\u001b[0m\u001b[1;33m,\u001b[0m \u001b[1;36m5\u001b[0m\u001b[1;33m,\u001b[0m \u001b[1;36m6\u001b[0m\u001b[1;33m,\u001b[0m \u001b[1;36m7\u001b[0m\u001b[1;33m,\u001b[0m \u001b[1;36m8\u001b[0m\u001b[1;33m,\u001b[0m \u001b[1;36m9\u001b[0m\u001b[1;33m]\u001b[0m\u001b[1;33m,\u001b[0m \u001b[0maxis\u001b[0m\u001b[1;33m=\u001b[0m\u001b[1;36m1\u001b[0m\u001b[1;33m)\u001b[0m\u001b[1;33m\u001b[0m\u001b[1;33m\u001b[0m\u001b[0m\n\u001b[0m",
      "\u001b[1;32m<__array_function__ internals>\u001b[0m in \u001b[0;36msort\u001b[1;34m(*args, **kwargs)\u001b[0m\n",
      "\u001b[1;32mD:\\ProgramData\\Anaconda3\\lib\\site-packages\\numpy\\core\\fromnumeric.py\u001b[0m in \u001b[0;36msort\u001b[1;34m(a, axis, kind, order)\u001b[0m\n\u001b[0;32m    987\u001b[0m     \u001b[1;32melse\u001b[0m\u001b[1;33m:\u001b[0m\u001b[1;33m\u001b[0m\u001b[1;33m\u001b[0m\u001b[0m\n\u001b[0;32m    988\u001b[0m         \u001b[0ma\u001b[0m \u001b[1;33m=\u001b[0m \u001b[0masanyarray\u001b[0m\u001b[1;33m(\u001b[0m\u001b[0ma\u001b[0m\u001b[1;33m)\u001b[0m\u001b[1;33m.\u001b[0m\u001b[0mcopy\u001b[0m\u001b[1;33m(\u001b[0m\u001b[0morder\u001b[0m\u001b[1;33m=\u001b[0m\u001b[1;34m\"K\"\u001b[0m\u001b[1;33m)\u001b[0m\u001b[1;33m\u001b[0m\u001b[1;33m\u001b[0m\u001b[0m\n\u001b[1;32m--> 989\u001b[1;33m     \u001b[0ma\u001b[0m\u001b[1;33m.\u001b[0m\u001b[0msort\u001b[0m\u001b[1;33m(\u001b[0m\u001b[0maxis\u001b[0m\u001b[1;33m=\u001b[0m\u001b[0maxis\u001b[0m\u001b[1;33m,\u001b[0m \u001b[0mkind\u001b[0m\u001b[1;33m=\u001b[0m\u001b[0mkind\u001b[0m\u001b[1;33m,\u001b[0m \u001b[0morder\u001b[0m\u001b[1;33m=\u001b[0m\u001b[0morder\u001b[0m\u001b[1;33m)\u001b[0m\u001b[1;33m\u001b[0m\u001b[1;33m\u001b[0m\u001b[0m\n\u001b[0m\u001b[0;32m    990\u001b[0m     \u001b[1;32mreturn\u001b[0m \u001b[0ma\u001b[0m\u001b[1;33m\u001b[0m\u001b[1;33m\u001b[0m\u001b[0m\n\u001b[0;32m    991\u001b[0m \u001b[1;33m\u001b[0m\u001b[0m\n",
      "\u001b[1;31mAxisError\u001b[0m: axis 1 is out of bounds for array of dimension 1"
     ]
    }
   ],
   "source": [
    "np.sort([1, 2, 3, 4, 5, 6, 7, 8, 9])"
   ]
  },
  {
   "cell_type": "code",
   "execution_count": 2,
   "metadata": {},
   "outputs": [],
   "source": [
    "import sympy as sp\n",
    "sp.init_printing()\n",
    "\n",
    "equacio = sp.sympify(\"A*x**2+B*x+C\")\n",
    "\n",
    "sp.solve(equacio, \"x\")"
   ]
  },
  {
   "cell_type": "code",
   "execution_count": null,
   "metadata": {},
   "outputs": [],
   "source": []
  }
 ],
 "metadata": {
  "kernelspec": {
   "display_name": "Python 3",
   "language": "python",
   "name": "python3"
  },
  "language_info": {
   "codemirror_mode": {
    "name": "ipython",
    "version": 3
   },
   "file_extension": ".py",
   "mimetype": "text/x-python",
   "name": "python",
   "nbconvert_exporter": "python",
   "pygments_lexer": "ipython3",
   "version": "3.8.3-final"
  }
 },
 "nbformat": 4,
 "nbformat_minor": 2
}