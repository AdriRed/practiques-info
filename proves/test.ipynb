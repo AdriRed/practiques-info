{
 "metadata": {
  "language_info": {
   "codemirror_mode": {
    "name": "ipython",
    "version": 3
   },
   "file_extension": ".py",
   "mimetype": "text/x-python",
   "name": "python",
   "nbconvert_exporter": "python",
   "pygments_lexer": "ipython3",
   "version": "3.8.3-final"
  },
  "orig_nbformat": 2,
  "kernelspec": {
   "name": "python3",
   "display_name": "Python 3"
  }
 },
 "nbformat": 4,
 "nbformat_minor": 2,
 "cells": [
  {
   "cell_type": "code",
   "execution_count": 14,
   "metadata": {},
   "outputs": [],
   "source": [
    "import tkinter\n",
    "\n",
    "root = tkinter.Tk()\n",
    "\n",
    "finestra = tkinter.Canvas(root,\n",
    "                          borderwidth=20,\n",
    "                          background='white',\n",
    "                          cursor='circle',\n",
    "                          height=400,\n",
    "                          width=400)\n",
    "\n",
    "\n",
    "finestra.pack()\n",
    "\n",
    "\n",
    "# finestra.create_rectangle(100, 100, 200, 200)\n",
    "finestra.create_arc(100, 100, 200, 200, style= tkinter.PIESLICE, start=180, extent=90)\n",
    "\n",
    "\n",
    "\n",
    "root.mainloop()"
   ]
  },
  {
   "cell_type": "code",
   "execution_count": 6,
   "metadata": {},
   "outputs": [],
   "source": [
    "def funcion1(a):\n",
    "    print(\"funcion1 -> \" + str(a))\n",
    "\n",
    "def funcion2(a):\n",
    "    print(\"funcion2 -> \" + str(a))\n",
    "    funcion1(a**2)"
   ]
  },
  {
   "cell_type": "code",
   "execution_count": 7,
   "metadata": {},
   "outputs": [
    {
     "output_type": "stream",
     "name": "stdout",
     "text": [
      "funcion2 -> 5\nfuncion1 -> 25\n"
     ]
    }
   ],
   "source": [
    "\n",
    "funcion2(5)\n"
   ]
  },
  {
   "cell_type": "code",
   "execution_count": null,
   "metadata": {},
   "outputs": [],
   "source": []
  }
 ]
}