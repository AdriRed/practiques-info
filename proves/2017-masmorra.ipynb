{
 "cells": [
  {
   "cell_type": "markdown",
   "metadata": {},
   "source": [
    "# Pas 1"
   ]
  },
  {
   "cell_type": "code",
   "execution_count": 80,
   "metadata": {},
   "outputs": [],
   "source": [
    "objectes = []\n",
    "pesos = []\n",
    "valors = []\n",
    "\n",
    "with open(\"dungeon.txt\", \"r\") as fitxer:\n",
    "    for linia in fitxer:\n",
    "        objecte, pes, valor = linia.split(';')\n",
    "        objectes.append(objecte.strip())\n",
    "        pesos.append(int(pes.strip()))\n",
    "        valors.append(int(valor.strip()))\n",
    "        \n"
   ]
  },
  {
   "cell_type": "markdown",
   "metadata": {},
   "source": [
    "# Pas 2"
   ]
  },
  {
   "cell_type": "code",
   "execution_count": 81,
   "metadata": {},
   "outputs": [],
   "source": [
    "import random as rnd\n",
    "import string\n",
    "\n",
    "def atzar(llista):\n",
    "    escollits = []\n",
    "    while len(escollits) < 3: # utilitzo randint en comptes de choice ja que potser que l'element que hagi agafat l'agafi 2 vegades\n",
    "        escollit = rnd.randint(0, len(llista)-1)\n",
    "        if (escollit not in escollits):\n",
    "            escollits.append(escollit)\n",
    "    \n",
    "    return [llista[i] for i in escollits]"
   ]
  },
  {
   "cell_type": "markdown",
   "metadata": {},
   "source": [
    "# Pas 3"
   ]
  },
  {
   "cell_type": "code",
   "execution_count": 82,
   "metadata": {},
   "outputs": [],
   "source": [
    "def igual(A, B): \n",
    "    return all([a in B for a in A]) # [a in B for a in B] construeix una llista amb booleans que diuen si cada element d'A apareix a B\n",
    "            # Per exemple si A es [1, 4, 6] i B es [4, 6, 7]\n",
    "            # llavors la liista [a in B for a in B] seria [False, True, True] (1 no apareix, 4 apareix, 7 apareix)\n",
    "            # despres la funcio all retorna True si la llista de dins es tota de True"
   ]
  },
  {
   "cell_type": "markdown",
   "metadata": {},
   "source": [
    "# Pas 4"
   ]
  },
  {
   "cell_type": "code",
   "execution_count": 83,
   "metadata": {},
   "outputs": [],
   "source": [
    "from math import factorial\n",
    "\n",
    "def combi(llista):\n",
    "    combs = []\n",
    "    for i in range(len(llista)-2):\n",
    "        for j in range(i+1, len(llista)):\n",
    "            for k in range(j+1, len(llista)):\n",
    "                combs.append([llista[i], llista[j], llista[k]])\n",
    "    \n",
    "    assert len(combs) == factorial(len(llista))/(6*factorial(len(llista)-3))\n",
    "    \n",
    "    return combs"
   ]
  },
  {
   "cell_type": "markdown",
   "metadata": {},
   "source": [
    "# Pas 5"
   ]
  },
  {
   "cell_type": "code",
   "execution_count": 86,
   "metadata": {},
   "outputs": [],
   "source": [
    "def possibles(objectes, pesos):\n",
    "    indexes = combi(list(range(len(objectes)))) # genera llista de 0 a len(pesos) i em donen les combinacions d'aquesta llista\n",
    "    return [[objectes[a], objectes[b], objectes[c]] for a, b, c in indexes if (pesos[a]+pesos[b]+pesos[c] < 50)]"
   ]
  },
  {
   "cell_type": "code",
   "execution_count": 87,
   "metadata": {},
   "outputs": [
    {
     "data": {
      "text/plain": [
       "[['espasa_daurada', 'corona', 'cofre'],\n",
       " ['espasa_daurada', 'corona', 'entrepa'],\n",
       " ['espasa_daurada', 'cofre', 'entrepa'],\n",
       " ['armadura_elfica', 'corona', 'cofre'],\n",
       " ['armadura_elfica', 'corona', 'entrepa'],\n",
       " ['armadura_elfica', 'cofre', 'entrepa'],\n",
       " ['corona', 'cofre', 'entrepa'],\n",
       " ['corona', 'pedra_descomunal', 'entrepa']]"
      ]
     },
     "execution_count": 87,
     "metadata": {},
     "output_type": "execute_result"
    }
   ],
   "source": [
    "possibles(objectes, pesos)"
   ]
  },
  {
   "cell_type": "markdown",
   "metadata": {},
   "source": [
    "# Pas 6"
   ]
  },
  {
   "cell_type": "code",
   "execution_count": 88,
   "metadata": {},
   "outputs": [],
   "source": [
    "def valor(escollits, objectes, valors):\n",
    "    \n",
    "    indexes = [objectes.index(i) for i in escollits]\n",
    "    \n",
    "    return escollits + [sum([valors[i] for i in indexes])]\n",
    "    "
   ]
  },
  {
   "cell_type": "markdown",
   "metadata": {},
   "source": [
    "# Pas 7"
   ]
  },
  {
   "cell_type": "code",
   "execution_count": 92,
   "metadata": {},
   "outputs": [],
   "source": [
    "def ordre(objectes, pesos, valors):\n",
    "    pes50 = possibles(objectes, pesos)\n",
    "    \n",
    "    ambvalors = [valor(k, objectes, valors) for k in pes50]\n",
    "    return max(ambvalors, key=lambda w: w[3])\n"
   ]
  },
  {
   "cell_type": "code",
   "execution_count": 93,
   "metadata": {},
   "outputs": [
    {
     "data": {
      "text/plain": [
       "['espasa_daurada', 'corona', 'cofre', 2200]"
      ]
     },
     "execution_count": 93,
     "metadata": {},
     "output_type": "execute_result"
    }
   ],
   "source": [
    "ordre(objectes, pesos, valors)"
   ]
  },
  {
   "cell_type": "markdown",
   "metadata": {},
   "source": [
    "# Pas 8"
   ]
  },
  {
   "cell_type": "code",
   "execution_count": 94,
   "metadata": {},
   "outputs": [],
   "source": [
    "with open(\"boti.txt\", \"w\") as file:\n",
    "    file.write(\";\".join(map(str, ordre(objectes, pesos, valors))))"
   ]
  }
 ],
 "metadata": {
  "kernelspec": {
   "display_name": "Python 3",
   "language": "python",
   "name": "python3"
  },
  "language_info": {
   "codemirror_mode": {
    "name": "ipython",
    "version": 3
   },
   "file_extension": ".py",
   "mimetype": "text/x-python",
   "name": "python",
   "nbconvert_exporter": "python",
   "pygments_lexer": "ipython3",
   "version": "3.8.3"
  }
 },
 "nbformat": 4,
 "nbformat_minor": 4
}
