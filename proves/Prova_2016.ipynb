{
 "cells": [
  {
   "cell_type": "code",
   "execution_count": 1,
   "metadata": {},
   "outputs": [
    {
     "name": "stdout",
     "output_type": "stream",
     "text": [
      "Quina posicio de la llista d'espera estàs? (un numero enter): 49\n"
     ]
    },
    {
     "data": {
      "text/plain": [
       "49"
      ]
     },
     "execution_count": 1,
     "metadata": {},
     "output_type": "execute_result"
    }
   ],
   "source": [
    "def demanar_posicio():\n",
    "    posicio = int(input(\"Quina posicio de la llista d'espera estàs? (un numero enter): \"))\n",
    "    return posicio"
   ]
  },
  {
   "cell_type": "code",
   "execution_count": 6,
   "metadata": {},
   "outputs": [],
   "source": [
    "import random\n",
    "\n",
    "def temps_espera(posicio):\n",
    "    # per cada persona que te davant, s'espera un temps aleatori entre 10 i 20 minuts\n",
    "    temps = 0\n",
    "    persona = 1\n",
    "    while persona != posicio:\n",
    "        temps = temps + random.randint(10, 20)\n",
    "        persona = persona + 1 \n",
    "    \n",
    "    return temps"
   ]
  },
  {
   "cell_type": "code",
   "execution_count": 9,
   "metadata": {},
   "outputs": [],
   "source": [
    "import tkinter\n",
    "\n",
    "def dibuixar_quadrat(finestra, X):\n",
    "    finestra.create_rectangle(10, 50, 100+X, 100+X)\n",
    "\n"
   ]
  },
  {
   "cell_type": "code",
   "execution_count": 12,
   "metadata": {},
   "outputs": [
    {
     "name": "stdout",
     "output_type": "stream",
     "text": [
      "Quina posicio de la llista d'espera estàs? (un numero enter): 10\n"
     ]
    }
   ],
   "source": [
    "import tkinter\n",
    "\n",
    "L = demanar_posicio()\n",
    "temps_que_sha_desperar = temps_espera(L)\n",
    "\n",
    "root = tkinter.Tk()\n",
    "finestra = tkinter.Canvas(root, height=300, width=300)\n",
    "\n",
    "finestra.pack()\n",
    "\n",
    "dibuixar_quadrat(finestra, 100)\n",
    "finestra.create_text(200, 150, text=\"T'has d'esperar\")\n",
    "finestra.create_text(200, 200, text=str(temps_que_sha_desperar))\n",
    "finestra.create_text(200, 250, text=\"minuts\")\n",
    "\n",
    "finestra.mainloop()\n"
   ]
  },
  {
   "cell_type": "code",
   "execution_count": null,
   "metadata": {},
   "outputs": [],
   "source": []
  }
 ],
 "metadata": {
  "kernelspec": {
   "display_name": "Python 3",
   "language": "python",
   "name": "python3"
  },
  "language_info": {
   "codemirror_mode": {
    "name": "ipython",
    "version": 3
   },
   "file_extension": ".py",
   "mimetype": "text/x-python",
   "name": "python",
   "nbconvert_exporter": "python",
   "pygments_lexer": "ipython3",
   "version": "3.8.3"
  }
 },
 "nbformat": 4,
 "nbformat_minor": 4
}
