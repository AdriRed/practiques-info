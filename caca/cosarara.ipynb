{
 "cells": [
  {
   "cell_type": "code",
   "execution_count": 23,
   "metadata": {},
   "outputs": [
    {
     "name": "stdout",
     "output_type": "stream",
     "text": [
      "caca de la vaca\n",
      "que tal esta\n",
      "ola ke ase\n",
      "1 2 3 4 5 6\n",
      "kamala harris\n"
     ]
    }
   ],
   "source": [
    "fitxer = open(\"test.txt\", \"r\") # r -> read, w -> write\n",
    "\n",
    "for linia in fitxer:\n",
    "    print(linia.strip())\n",
    "\n",
    "fitxer.close()"
   ]
  },
  {
   "cell_type": "code",
   "execution_count": 33,
   "metadata": {},
   "outputs": [],
   "source": [
    "import csv\n",
    "\n",
    "with open(\"test.csv\", \"w\", newline='') as fitxer: # r -> read, w -> write\n",
    "    \n",
    "    peta = csv.writer(fitxer, delimiter=';')\n",
    "    for i in range(10):\n",
    "        peta.writerow([i*10, i*20, i*30])\n",
    "            \n"
   ]
  },
  {
   "cell_type": "code",
   "execution_count": 42,
   "metadata": {},
   "outputs": [],
   "source": [
    "import json\n",
    "\n",
    "comanda = {\n",
    "    \"patatas\": 2, \n",
    "    \"hamburgesas\": [\n",
    "        \"bigmac\", \n",
    "        \"cbo\", \n",
    "        \"goikogrill\"\n",
    "    ]\n",
    "}\n",
    "\n",
    "with open(\"nou.json\", \"w\") as fitxer: # r -> read, w -> write\n",
    "    json.dump(comanda, fitxer)"
   ]
  },
  {
   "cell_type": "code",
   "execution_count": 50,
   "metadata": {},
   "outputs": [],
   "source": [
    "import csv\n",
    "\n",
    "# leerlo\n",
    "dades = []\n",
    "\n",
    "with open(\"stress_expansion_1.txt\") as se:\n",
    "    i = 0\n",
    "    for linia in se:\n",
    "        if (i < 8): \n",
    "            i = i+1\n",
    "            continue\n",
    "        \n",
    "        dades.append(linia.split())\n",
    "        \n",
    "    \n",
    "# escribir el csv\n",
    "with open(\"dades.csv\", \"w\", newline='') as wt:\n",
    "    csv_writer = csv.writer(wt, delimiter=\";\")\n",
    "    csv_writer.writerows(dades)"
   ]
  },
  {
   "cell_type": "code",
   "execution_count": null,
   "metadata": {},
   "outputs": [],
   "source": []
  }
 ],
 "metadata": {
  "kernelspec": {
   "display_name": "Python 3",
   "language": "python",
   "name": "python3"
  },
  "language_info": {
   "codemirror_mode": {
    "name": "ipython",
    "version": 3
   },
   "file_extension": ".py",
   "mimetype": "text/x-python",
   "name": "python",
   "nbconvert_exporter": "python",
   "pygments_lexer": "ipython3",
   "version": "3.8.3"
  }
 },
 "nbformat": 4,
 "nbformat_minor": 4
}
