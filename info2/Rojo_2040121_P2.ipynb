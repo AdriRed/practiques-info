{
 "metadata": {
  "language_info": {
   "codemirror_mode": {
    "name": "ipython",
    "version": 3
   },
   "file_extension": ".py",
   "mimetype": "text/x-python",
   "name": "python",
   "nbconvert_exporter": "python",
   "pygments_lexer": "ipython3",
   "version": "3.8.3-final"
  },
  "orig_nbformat": 2,
  "kernelspec": {
   "name": "Python 3.8.3 64-bit ('base': conda)",
   "display_name": "Python 3.8.3 64-bit ('base': conda)",
   "metadata": {
    "interpreter": {
     "hash": "e2eb791fbaf3f507dd2894e17437c05eb6fe1eb7fcb23344d745a55910894744"
    }
   }
  }
 },
 "nbformat": 4,
 "nbformat_minor": 2,
 "cells": [
  {
   "source": [
    "# Sessió Introductòria 2: Document en format Markdown\n",
    "### Autor: Adrià Rojo Mérida\n",
    "##### He canviat el text i cita pel lorem ipsum ;)\n",
    "\n",
    "Lorem ipsum dolor **sit** amet, consectetur adipiscing _elit_. Phasellus molestie ***faucibus*** orci, ut aliquet `ligula` ullamcorper commodo. `Vivamus` varius ante id lacus rutrum porta. **Nunc** bibendum eleifend eleifend. Duis _consectetur_ commodo nulla. Sed blandit, nunc at consequat ***ullamcorper***, nunc sem rutrum lacus, nec `efficitur` augue magna vel quam. **Praesent** fringilla ipsum sed urna _pellentesque_ interdum. In `malesuada` molestie molestie. \n",
    "\n",
    "> Una cita d'un amic: Lorem ipsum dolor **sit** amet, consectetur adipiscing _elit_. Phasellus molestie ***faucibus*** orci, ut aliquet `ligula` ullamcorper commodo. `Vivamus` varius ante id lacus rutrum porta. **Nunc** bibendum eleifend eleifend. Duis _consectetur_ commodo nulla. Sed blandit, nunc at consequat ***ullamcorper***, nunc sem rutrum lacus, nec `efficitur` augue magna vel quam. **Praesent** fringilla ipsum sed urna _pellentesque_ interdum. In `malesuada` molestie molestie. \n",
    "\n",
    "---\n",
    "\n",
    "## Hola bon dia\n",
    "\n",
    "### Aixo és un subtítol\n",
    "\n",
    "#### Llista de la compra\n",
    "\n",
    "---\n",
    "\n",
    "* Ous\n",
    "* Patates\n",
    "* Pebrots\n",
    "    * Verd\n",
    "    * Vermell\n",
    "* Mandonguilles\n",
    "* Carn\n",
    "\n",
    "1. Fer deures\n",
    "2. Cuinar\n",
    "3. Escoltar musica\n",
    "\n",
    "---\n",
    "\n",
    "### Imatge web\n",
    "\n",
    "![Logo UB](http://www.ub.edu/web/ub/galeries/imatges/logo_home_nou.png)\n",
    "\n",
    "### Enllaç a la web de la [UB](https://www.ub.edu/web/portal/ca/)\n",
    "\n",
    "### Taules `html`\n",
    "\n",
    "Precedència dels operadors:\n",
    "\n",
    "|**1er**|**2on**|**3er**|\n",
    "|--:|--:|--:|\n",
    "|Aritmètics|Comparació|Booleans|\n",
    "|```+ - * / ** %```|```== != <= >=```|```not and or```|\n",
    "\n",
    "### Blocs de codi font (no executable):\n",
    "\n",
    "```\n",
    "for val in range(1, 10, 2):\n",
    "    print(val)\n",
    "```\n",
    "\n",
    "### Equacions `LaTex`:\n",
    "\n",
    "$$e^x = \\sum^{\\infty}_{n = 0} {\\frac{x^n}{n!}}$$\n",
    "$$e^x = \\lim_{n \\to \\infty} \\Big( 1+ \\frac{x}{n} \\Big)^n$$\n",
    "$$x = \\frac {-b \\pm \\sqrt {b^2 - 4ac}} {2a}$$\n",
    "$$f = b_0 + \\cfrac {a_1} {b_1 + \\cfrac {a_2} {b_2 + \\cfrac {a_3} {b_3 + a_4}}}$$\n",
    "$$A = \\begin{pmatrix} a_{11} & a_{12} & a_{13} \\\\ a_{21} & a_{22} & a_{23} \\\\ a_{31} & a_{32} & a_{33} \\end{pmatrix}$$\n",
    "$$\\begin{array}{rcl} x + y + z &=& 3 \\\\ 2y &=& x + z \\\\ 2x + y &=& z \\end{array}$$\n",
    "$$f(x) = \\int^{x}_{-\\infty} {e^{-t^2}dt}$$\n",
    "\n",
    "### Codi executable (falten parentesis al print de l'exemple):"
   ],
   "cell_type": "markdown",
   "metadata": {}
  },
  {
   "source": [],
   "cell_type": "markdown",
   "metadata": {}
  },
  {
   "cell_type": "code",
   "execution_count": 3,
   "metadata": {},
   "outputs": [
    {
     "output_type": "stream",
     "name": "stdout",
     "text": [
      "1\n3\n5\n7\n9\n11\n13\n15\n17\n19\n21\n23\n25\n27\n29\n"
     ]
    }
   ],
   "source": [
    "for val in range(1,30,2): # imprimeix tots els enters senars menors de 30\n",
    "    print(val)"
   ]
  }
 ]
}