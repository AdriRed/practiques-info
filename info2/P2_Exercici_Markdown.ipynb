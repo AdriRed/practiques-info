{
 "metadata": {
  "name": "P2_Exercici_Markdown"
 },
 "nbformat": 3,
 "nbformat_minor": 0,
 "worksheets": [
  {
   "cells": [
    {
     "cell_type": "markdown",
     "metadata": {},
     "source": "#Sessi\u00f3 Introduct\u00f2ria 2: Document en format Markdown\n\nText text text **negreta** text text text _cursiva_ text text text ```codi``` text text text. Text text text **negreta** text text text _cursiva_ text text text ```codi``` text text text. ext text text **negreta** text text text _cursiva_ text text text ```codi``` text text text. Text text text **negreta** text text text _cursiva_ text text text ```codi``` text text text. Text text text **negreta** text text text _cursiva_ text text text ```codi``` text text text. ext text text **negreta** text text text _cursiva_ text text text ```codi``` text text text.\n\n> Cita cita cita cita cita cita **negreta** cita cita cita cita cita _cursiva_ cita cita cita cita cita ```codi``` cita cita cita cita cita. Cita cita cita cita cita cita **negreta** cita cita cita cita cita _cursiva_ cita cita cita cita cita ```codi``` cita cita cita cita cita. Cita cita cita cita cita cita **negreta** cita cita cita cita cita _cursiva_ cita cita cita cita cita ```codi``` cita cita cita cita cita.\n\n------\n\n## T\u00edtol nivell 2\n### T\u00edtol nivell 3\n#### T\u00edtol nivell 4\n\n-------\n\n* llista nivell 1\n\n * llista nivell 2\n\n  * llista nivell 3\n\n\n1. primer llista numerada\n\n2. segon llista numerada\n\n------\n\n###Imatge web:\n\n(la podeu trobar a l'adre\u00e7a `http://www.ub.edu/web/ub/galeries/imatges/logo_home_nou.png`)\n\n![Logo-UB](http://www.ub.edu/web/ub/galeries/imatges/logo_home_nou.png)\n\n###Enlla\u00e7 a la Web de la [UB](http://www.ub.edu):\n\n###Taules `html`:\nPreced\u00e8ncia dels operadors:\n<table>\n<tr>\n<td>**1er**</td><td>**2on**</td><td>**3er**</td>\n</tr>\n<tr>\n<td>Aritm\u00e8tics</td><td>Comparaci\u00f3</td><td>Booleans</td>\n</tr>\n<tr>\n<td>```+ - * / ** %```</td><td>```== != <= >=```</td><td>```not and or```</td>\n</tr>\n</table>\n\n###Blocs de codi font (no executable):\n\n    for val in range(1,10,2):\n        print(val)\n        \n###Equacions `LaTeX`: \n$$ \\small e^x=\\sum_{n=0}^\\infty\\frac{x^n}{n!}$$\n\n$$e^x=\\lim_{n\\to\\infty} \\left(1+\\frac xn\\right)^n$$\n\n$$ x=\\frac{-b\\pm\\sqrt{b^2-4ac}}{2a}$$\n\n$$ f=b_o+\\frac{a_1}{b_1+\\frac{a_2}{b_2+\\frac{a_3}{b_3+a_4}}}$$\n\n$$A=\\left( \\begin{array} a_{11}&a_{12}&a_{13}\\\\a_{21}&a_{22}&a_{23}\\\\a_{31}&a_{32}&a_{33} \\end{array} \\right)$$\n\n$$\\begin{array}{rcl} x+y+z&=&3\\\\2y&=&x+z\\\\2x+y&=&z\\end{array}$$\n\n$$\\displaystyle f(x)=\\int_{-\\infty}^x e^{-t^2}dt$$\n\n###Codi executable: "
    },
    {
     "cell_type": "code",
     "collapsed": false,
     "input": "for val in range(1,30,2): # imprimeix tots els enters senars menors de 30\n    print val",
     "language": "python",
     "metadata": {},
     "outputs": [
      {
       "output_type": "stream",
       "stream": "stdout",
       "text": "1\n3\n5\n7\n9\n11\n13\n15\n17\n19\n21\n23\n25\n27\n29\n"
      }
     ],
     "prompt_number": 2
    }
   ],
   "metadata": {}
  }
 ]
}