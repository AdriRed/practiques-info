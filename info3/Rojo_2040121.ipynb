{
 "metadata": {
  "language_info": {
   "codemirror_mode": {
    "name": "ipython",
    "version": 3
   },
   "file_extension": ".py",
   "mimetype": "text/x-python",
   "name": "python",
   "nbconvert_exporter": "python",
   "pygments_lexer": "ipython3",
   "version": "3.8.3-final"
  },
  "orig_nbformat": 2,
  "kernelspec": {
   "name": "Python 3.8.3 64-bit ('base': conda)",
   "display_name": "Python 3.8.3 64-bit ('base': conda)",
   "metadata": {
    "interpreter": {
     "hash": "e2eb791fbaf3f507dd2894e17437c05eb6fe1eb7fcb23344d745a55910894744"
    }
   }
  }
 },
 "nbformat": 4,
 "nbformat_minor": 2,
 "cells": [
  {
   "source": [
    "# Pràctica 3: Tipus de Dades i Variables\n",
    "\n",
    "##### Autor: Adrià Rojo Mérida"
   ],
   "cell_type": "markdown",
   "metadata": {}
  },
  {
   "cell_type": "code",
   "execution_count": 70,
   "metadata": {},
   "outputs": [],
   "source": [
    "# Importo display i Markdown i latex per poder mostrar resultats amb format Markdown i latex\n",
    "from IPython.display import display, Markdown, Latex"
   ]
  },
  {
   "source": [
    "## Exercici 1.1"
   ],
   "cell_type": "markdown",
   "metadata": {}
  },
  {
   "cell_type": "code",
   "execution_count": 71,
   "metadata": {},
   "outputs": [
    {
     "output_type": "display_data",
     "data": {
      "text/plain": "<IPython.core.display.Markdown object>",
      "text/markdown": "|Valor|Bits|Tipus|\n|---|---|---|\n|10000|14|<class 'int'>|\n|100000000|27|<class 'int'>|\n|10000000000000000|54|<class 'int'>|\n|100000000000000000000000000000000|107|<class 'int'>|\n|10000000000000000000000000000000000000000000000000000000000000000|213|<class 'int'>|\n"
     },
     "metadata": {}
    }
   ],
   "source": [
    "\"\"\" \n",
    "Definim la variable valor\n",
    "del tipus enter i li associem\n",
    "el valor 100\n",
    "\"\"\"\n",
    "enter = 100\n",
    "\n",
    "# Imprimiré els valors en una taula tipus Markdown\n",
    "\n",
    "out = \"\"\"|Valor|Bits|Tipus|\n",
    "|---|---|---|\n",
    "\"\"\"\n",
    "\n",
    "# Implemento un bucle 'for' per evitarme la repeticio de codi\n",
    "for i in range(5):\n",
    "    # Vaig augmentant el resultat de forma exponencial\n",
    "    enter = enter ** 2\n",
    "    # Afegeixo els resutlats formatats en python a la taula que imprimiré\n",
    "    out += \"|\"+str(enter)+\"|\"+str(enter.bit_length())+\"|\"+str(type(enter))+\"|\\n\"\n",
    "\n",
    "# Mostro la taula al notebook en format Markdown\n",
    "display(Markdown(out))"
   ]
  },
  {
   "source": [
    "Podem veure que a més gran és el número, més bits necessitarà, i el tipus no canvia del tipus `int`"
   ],
   "cell_type": "markdown",
   "metadata": {}
  },
  {
   "source": [
    "Si posem 10 i l'elevem a 2 repetidament a la calculadora finalment succeirà un error de desbordament:\n",
    "    \n",
    "![desbordament calculadora](desbordament-calc.png)"
   ],
   "cell_type": "markdown",
   "metadata": {}
  },
  {
   "source": [
    "## Exercici 1.2"
   ],
   "cell_type": "markdown",
   "metadata": {}
  },
  {
   "cell_type": "code",
   "execution_count": 72,
   "metadata": {},
   "outputs": [
    {
     "output_type": "display_data",
     "data": {
      "text/plain": "<IPython.core.display.Markdown object>",
      "text/markdown": "|Valor Hexadecimal|Bits|Tipus|\n|---|---|---|\n|0x2710|14|<class 'int'>|\n|0x5f5e100|27|<class 'int'>|\n|0x2386f26fc10000|54|<class 'int'>|\n|0x4ee2d6d415b85acef8100000000|107|<class 'int'>|\n|0x184f03e93ff9f4daa797ed6e38ed64bf6a1f010000000000000000|213|<class 'int'>|\n"
     },
     "metadata": {}
    }
   ],
   "source": [
    "enter = 100\n",
    "\n",
    "# mateix funcionament que l'exercici anterior llevat de la impresió en format hexadecimal de\n",
    "# la variable 'enter'\n",
    "\n",
    "out = \"\"\"|Valor Hexadecimal|Bits|Tipus|\n",
    "|---|---|---|\n",
    "\"\"\"\n",
    "\n",
    "for i in range(5):\n",
    "    enter = enter ** 2\n",
    "    out += \"|\"+str(hex(enter))+\"|\"+str(enter.bit_length())+\"|\"+str(type(enter))+\"|\\n\"\n",
    "\n",
    "display(Markdown(out))\n"
   ]
  },
  {
   "source": [
    "## Exercici 2\n",
    "\n",
    "$$ ax^2+bx+c=0 $$\n",
    "\n",
    "Utilitzaré la fórmula quadràtica\n",
    "\n",
    "$$ x = \\frac {-b \\pm \\sqrt{b^2 -4ac}} {2a} $$"
   ],
   "cell_type": "markdown",
   "metadata": {}
  },
  {
   "cell_type": "code",
   "execution_count": 73,
   "metadata": {},
   "outputs": [
    {
     "output_type": "display_data",
     "data": {
      "text/plain": "<IPython.core.display.Latex object>",
      "text/latex": "$$ x_1 = 1.25 $$"
     },
     "metadata": {}
    },
    {
     "output_type": "display_data",
     "data": {
      "text/plain": "<IPython.core.display.Latex object>",
      "text/latex": "$$ x_2 = -2.0 $$"
     },
     "metadata": {}
    }
   ],
   "source": [
    "# Defineixo variables\n",
    "a = 4\n",
    "b = 3\n",
    "c = -10\n",
    "\n",
    "# Precalculo la part de l'arrel i la del divisor\n",
    "arrel = ((b**2)-(4*a*c))**0.5\n",
    "divisor = 2*a\n",
    "\n",
    "# Calculo per si es fa la suma o la resta\n",
    "si_suma = (-b + arrel) / divisor\n",
    "si_resta = (-b - arrel) / divisor\n",
    "\n",
    "# Imprimeixo amb LaTex els resultats\n",
    "display(Latex(\"$$ x_1 = \"+ str(si_suma) +\" $$\"))\n",
    "display(Latex(\"$$ x_2 = \"+ str(si_resta) +\" $$\"))"
   ]
  },
  {
   "source": [
    "## Exercici 3"
   ],
   "cell_type": "markdown",
   "metadata": {}
  },
  {
   "cell_type": "code",
   "execution_count": 74,
   "metadata": {},
   "outputs": [
    {
     "output_type": "display_data",
     "data": {
      "text/plain": "<IPython.core.display.Markdown object>",
      "text/markdown": "|||and|or|\n|:-:|:-:|:-:|\n|True|True|`True`|`True`|\n|True|False|`False`|`True`|\n|False|True|`False`|`True`|\n|False|False|`False`|`False`|"
     },
     "metadata": {}
    }
   ],
   "source": [
    "# Nomenclatura de les variables: t = True, f = False, a = and, o = or\n",
    "# Exemple: tat = True and True\n",
    "\n",
    "# Assigno pels casos and\n",
    "tat = True and True\n",
    "taf = True and False\n",
    "fat = False and True\n",
    "faf = False and False\n",
    "\n",
    "# Assigno pels casos or\n",
    "tot = True or True\n",
    "tof = True or False\n",
    "fot = False or True\n",
    "fof = False or False\n",
    "\n",
    "resultat = \"\"\"|||and|or|\n",
    "|:-:|:-:|:-:|\n",
    "|True|True|`%s`|`%s`|\n",
    "|True|False|`%s`|`%s`|\n",
    "|False|True|`%s`|`%s`|\n",
    "|False|False|`%s`|`%s`|\"\"\"\n",
    "\n",
    "display(Markdown( resultat % (tat, tot, taf, tof, fat, fot, faf, fof) ))"
   ]
  },
  {
   "source": [
    "## Exercici 4"
   ],
   "cell_type": "markdown",
   "metadata": {}
  },
  {
   "cell_type": "code",
   "execution_count": 75,
   "metadata": {},
   "outputs": [
    {
     "output_type": "display_data",
     "data": {
      "text/plain": "<IPython.core.display.Markdown object>",
      "text/markdown": "* o1 = True\n* o2 = False\n* o3 = True\n* o4 = True\n* o5 = False\n"
     },
     "metadata": {}
    }
   ],
   "source": [
    "# Defineixo les variables\n",
    "a = False\n",
    "b = False\n",
    "c = True\n",
    "\n",
    "# Assigno els valors amb les operacions esmentades a l'enunciat\n",
    "o1 = a and b or c\n",
    "o2 = a and (b or c)\n",
    "o3 = (a and b) or c\n",
    "o4 = not (a and b) or c\n",
    "o5 = not ( (a and b) or c )\n",
    "\n",
    "# Imprimeixo una llista no ordenada en Markdown subsituint les variables\n",
    "display(Markdown(\"\"\"* o1 = %s\n",
    "* o2 = %s\n",
    "* o3 = %s\n",
    "* o4 = %s\n",
    "* o5 = %s\n",
    "\"\"\" % (o1, o2, o3, o4, o5)))\n"
   ]
  },
  {
   "source": [
    "### Explicació dels resultats anteriors\n",
    "* `o1`\n",
    "    1. S'executa `a and b` = False\n",
    "    2. S'executa `False or c` = **True**\n",
    "* `o2`\n",
    "    1. S'executa primer l'interior del parèntesis `b or c` = True\n",
    "    2. S'executa `a and True` = **False**\n",
    "* `o3`\n",
    "    1. S'executa primer l'interior del parèntesis `a or b` = False\n",
    "    2. S'executa `False or c` = **True**\n",
    "    * _Comentari: aquesta operació és igual que la de o1_\n",
    "* `o4`\n",
    "    1. S'executa primer l'interior del parèntesis `a and b` = False\n",
    "    2. Es nega amb el not `not False` = True\n",
    "    3. S'executa `True or c` = **True**\n",
    "* `o5`\n",
    "    1. S'executa primer l'interior del parèntesis intern `a or b` = False\n",
    "    2. S'executa `False or c` = True\n",
    "    3. Es nega `not True` = **False**\n",
    "    * _Comentari: aquesta operació és igual que `o1` pero negada_\n"
   ],
   "cell_type": "markdown",
   "metadata": {}
  },
  {
   "source": [
    "## Exercici 5"
   ],
   "cell_type": "markdown",
   "metadata": {}
  },
  {
   "source": [
    "Deixo el codi en format Markdown per que no impideix l'execució  \n",
    "\n",
    "```\n",
    "a = \"hola \"\n",
    "b = 2\n",
    "# Imprimeixo la concatenació\n",
    "print(a+b)\n",
    "```\n",
    "Resultat:\n",
    "```\n",
    "---------------------------------------------------------------------------\n",
    "TypeError                                 Traceback (most recent call last)\n",
    "<ipython-input-51-442143f15fa9> in <module>\n",
    "      5 b = 2\n",
    "      6 # Imprimeixo la concatenació\n",
    "----> 7 print(a+b)\n",
    "      8 # ```\n",
    "      9 \n",
    "\n",
    "TypeError: can only concatenate str (not \"int\") to str\n",
    "```"
   ],
   "cell_type": "markdown",
   "metadata": {}
  },
  {
   "source": [
    "Aquest error succeeix perquè no està implementada la suma entre un `str` i un `int` o `float`, s'han de convertir a string les variabels numériques"
   ],
   "cell_type": "markdown",
   "metadata": {}
  },
  {
   "cell_type": "code",
   "execution_count": 76,
   "metadata": {},
   "outputs": [
    {
     "output_type": "stream",
     "name": "stdout",
     "text": [
      "hola 2\n"
     ]
    }
   ],
   "source": [
    "a = \"hola \"\n",
    "b = 2\n",
    "\n",
    "# Imprimeixo la concatenació\n",
    "print(a+str(b))"
   ]
  },
  {
   "source": [
    "# Exercici 6\n",
    "_Comentari: si no importem `math` i `cmath` (utilitzem `**0.5`) el codi és exactament igual que l'exerici 2_"
   ],
   "cell_type": "markdown",
   "metadata": {}
  },
  {
   "cell_type": "code",
   "execution_count": 77,
   "metadata": {},
   "outputs": [
    {
     "output_type": "display_data",
     "data": {
      "text/plain": "<IPython.core.display.Latex object>",
      "text/latex": "$$ x_1 = (-0.09999999999999991+1.4106735979665885j) $$"
     },
     "metadata": {}
    },
    {
     "output_type": "display_data",
     "data": {
      "text/plain": "<IPython.core.display.Latex object>",
      "text/latex": "$$ x_2 = (-0.10000000000000009-1.4106735979665885j) $$"
     },
     "metadata": {}
    }
   ],
   "source": [
    "# Defineixo variables\n",
    "a = 5\n",
    "b = 1\n",
    "c = 10\n",
    "\n",
    "# Precalculo la part de l'arrel i la del divisor\n",
    "arrel = ((b**2)-(4*a*c))**0.5\n",
    "divisor = 2*a\n",
    "\n",
    "# Calculo per si es fa la suma o la resta\n",
    "si_suma = (-b + arrel) / divisor\n",
    "si_resta = (-b - arrel) / divisor\n",
    "\n",
    "# Imprimeixo per pantalla en format LaTex\n",
    "display(Latex(\"$$ x_1 = \"+ str(si_suma) +\" $$\"))\n",
    "display(Latex(\"$$ x_2 = \"+ str(si_resta) +\" $$\"))"
   ]
  },
  {
   "source": [
    "# Exercici 7\n",
    "_Comentari: exactament igual que 6 i 2 però demanant inputs a l'usuari_  \n",
    "_Comentari 2: si introduim un 0 a la variable `a` haurà un error de divisió entre 0 (no incloeixo control d'errors)_"
   ],
   "cell_type": "markdown",
   "metadata": {}
  },
  {
   "cell_type": "code",
   "execution_count": 78,
   "metadata": {},
   "outputs": [
    {
     "output_type": "display_data",
     "data": {
      "text/plain": "<IPython.core.display.Latex object>",
      "text/latex": "$$ a = 3.0, \\ b = 3.0, \\ c = 1.0 $$"
     },
     "metadata": {}
    },
    {
     "output_type": "display_data",
     "data": {
      "text/plain": "<IPython.core.display.Latex object>",
      "text/latex": "$$ x_1 = (-0.5+0.28867513459481287j) $$"
     },
     "metadata": {}
    },
    {
     "output_type": "display_data",
     "data": {
      "text/plain": "<IPython.core.display.Latex object>",
      "text/latex": "$$ x_2 = (-0.5-0.28867513459481287j) $$"
     },
     "metadata": {}
    }
   ],
   "source": [
    "# Demano variables i faig un cast inmediat a float\n",
    "a = float(input(\"Dona un valor per a: \"))\n",
    "b = float(input(\"Dona un valor per b: \"))\n",
    "c = float(input(\"Dona un valor per c: \"))\n",
    "\n",
    "# Precalculo la part de l'arrel i la del divisor\n",
    "arrel = ((b**2)-(4*a*c))**0.5\n",
    "divisor = 2*a\n",
    "\n",
    "# Calculo per si es fa la suma o la resta\n",
    "si_suma = (-b + arrel) / divisor\n",
    "si_resta = (-b - arrel) / divisor\n",
    "\n",
    "# Imprimeixo per pantalla en format LaTex\n",
    "display(Latex(\"$$ a = \"+ str(a) +\", \\\\ b = \"+ str(b) +\", \\\\ c = \"+ str(c) +\" $$\"))\n",
    "display(Latex(\"$$ x_1 = \"+ str(si_suma) +\" $$\"))\n",
    "display(Latex(\"$$ x_2 = \"+ str(si_resta) +\" $$\"))"
   ]
  }
 ]
}