{
 "cells": [
  {
   "cell_type": "code",
   "execution_count": 5,
   "metadata": {},
   "outputs": [
    {
     "output_type": "stream",
     "name": "stdout",
     "text": [
      "Acabo d'importar markdown i latex\n"
     ]
    }
   ],
   "source": [
    "from IPython.display import display, Markdown, Latex\n",
    "print(\"Acabo d'importar markdown i latex\")"
   ]
  },
  {
   "cell_type": "code",
   "execution_count": 6,
   "metadata": {},
   "outputs": [
    {
     "output_type": "display_data",
     "data": {
      "text/plain": "<IPython.core.display.Markdown object>",
      "text/markdown": "|Iteracions(+1)|A|B|Divergència amb $\\pi$ de A|Divergència amb $\\pi$ de B|\n|:-:|:--|:--|:--|:--|\n|0|3.4641016151377553|3.4641016151377553|0.32250896154796216|0.32250896154796216|\n|1|3.215390309173475|3.215390309173473|0.0737976555836819|0.07379765558367968|\n|2|3.1596599420975098|3.1596599420975013|0.01806728850771666|0.018067288507708223|\n|3|3.146086215131467|3.1460862151314357|0.004493561541673685|0.004493561541642599|\n|4|3.1427145996455734|3.1427145996453696|0.0011219460557803096|0.0011219460555764726|\n|5|3.141873049979866|3.141873049979825|0.00028039639007282346|0.00028039639003196726|\n|6|3.141662747055068|3.1416627470568503|7.009346527508953e-05|7.009346705721953e-05|\n|7|3.1416101765995217|3.1416101766046913|1.752300972857057e-05|1.7523014898213063e-05|\n|8|3.141597034323337|3.1415970343215283|4.380733543918325e-06|4.380731735142973e-06|\n|9|3.141593748816856|3.1415937487713546|1.0952270628195038e-06|1.0951815614390625e-06|\n|10|3.141592927873633|3.1415929273850987|2.7428384008487683e-07|2.7379530553872655e-07|\n|11|3.1415927256225915|3.1415927220386157|7.203279839274046e-08|6.844882260992335e-08|\n|12|3.141592671741545|3.141592670702|1.8151752101402963e-08|1.7112206762703863e-08|\n|13|3.1415926189008863|3.141592657867846|3.468890685809356e-08|4.278053022943595e-09|\n|14|3.141592671741545|3.1415926546593083|1.8151752101402963e-08|1.0695151431150407e-09|\n|15|3.141591935881973|3.141592653857174|7.177078202857956e-07|2.673807841802045e-10|\n|16|3.141592671741545|3.14159265365664|1.8151752101402963e-08|6.684697240189053e-11|\n|17|3.141581007579364|3.141592653606507|1.164601042891178e-05|1.6713741501916957e-11|\n|18|3.141592671741545|3.1415926535939738|1.8151752101402963e-08|4.1806558215284895e-12|\n|19|3.1414061547376217|3.1415926535908403|0.0001864988521713684|1.0471623568264476e-12|\n|20|3.1405434924010995|3.141592653590057|0.0010491611886935814|2.637889906509372e-13|\n|21|3.1400068646909682|3.1415926535898615|0.0015857888988248803|6.838973831690964e-14|\n|22|3.1349453756588517|3.1415926535898127|0.006647277930941442|1.9539925233402755e-14|\n|23|3.1400068646909682|3.1415926535898|0.0015857888988248803|7.105427357601002e-15|\n|24|3.224515243534819|3.1415926535897976|0.0829225899450261|4.440892098500626e-15|\n|25|2.791117213058638|3.1415926535897967|0.350475440531155|3.552713678800501e-15|\n|26|0.0|3.1415926535897967|3.141592653589793|3.552713678800501e-15|\n|27|Nan|3.1415926535897967|Nan|3.552713678800501e-15|\n|28|Nan|3.1415926535897967|Nan|3.552713678800501e-15|\n|29|Nan|3.1415926535897967|Nan|3.552713678800501e-15|\n"
     },
     "metadata": {}
    }
   ],
   "source": [
    "from math import pi\n",
    "\n",
    "# inp = input(\"Quantes vegades vols imprimir els valors (s'executaràn n vegades on n seràn les iteracions).\\nPer defecte farà 30 operacions. \")\n",
    "# vegades = int(inp) if inp.isdigit() else 30\n",
    "\n",
    "vegades = 30\n",
    "cas_base = 1. / (3**0.5)\n",
    "\n",
    "def metodeA(iteracio: int) -> float:\n",
    "    if (iteracio == 0): return cas_base\n",
    "    seguent = metodeA(iteracio-1)\n",
    "    res = ((seguent**2+1.)**0.5-1.)/seguent\n",
    "    return res\n",
    "\n",
    "def metodeB(iteracio: int) -> float:\n",
    "    if (iteracio == 0): return cas_base\n",
    "    seguent = metodeB(iteracio-1)\n",
    "    res = seguent/((seguent**2+1.)**0.5+1.)\n",
    "    return res\n",
    "\n",
    "\n",
    "taulaMD = \"|Iteracions(+1)|A|B|Divergència amb $\\\\pi$ de A|Divergència amb $\\\\pi$ de B|\\n\"\n",
    "taulaMD += \"|:-:|:--|:--|:--|:--|\\n\"\n",
    "\n",
    "for i in range(vegades):\n",
    "    pre = 6*2**i\n",
    "    try:\n",
    "        m1 = float(pre * metodeA(i))\n",
    "    except:\n",
    "        m1 = \"Nan\"\n",
    "\n",
    "    try:\n",
    "        m2 = float(pre * metodeB(i))\n",
    "    except:\n",
    "        m2 = \"Nan\"\n",
    "    \n",
    "    diff1 = abs(pi - m1) if type(m1) is float else \"Nan\"\n",
    "    diff2 = abs(pi - m2) if type(m2) is float else \"Nan\"\n",
    "    \n",
    "    \n",
    "    taulaMD += \"|\"+str(i)+\"|\"+str(m1)+\"|\"+str(m2)+\"|\"+str(diff1)+\"|\"+str(diff2)+\"|\\n\"\n",
    "\n",
    "display(Markdown(taulaMD))"
   ]
  },
  {
   "cell_type": "code",
   "execution_count": 7,
   "metadata": {},
   "outputs": [
    {
     "output_type": "display_data",
     "data": {
      "text/plain": "<IPython.core.display.Markdown object>",
      "text/markdown": "# Métodes per calcular $\\pi$"
     },
     "metadata": {}
    },
    {
     "output_type": "display_data",
     "data": {
      "text/plain": "<IPython.core.display.Markdown object>",
      "text/markdown": "## Métode A"
     },
     "metadata": {}
    },
    {
     "output_type": "display_data",
     "data": {
      "text/plain": "<IPython.core.display.Markdown object>",
      "text/markdown": "$$\\large A_{i+1} = \\frac{\\sqrt{1+A_{i}^2}-1}{A_{i}}$$"
     },
     "metadata": {}
    },
    {
     "output_type": "display_data",
     "data": {
      "text/plain": "<IPython.core.display.Markdown object>",
      "text/markdown": "## Métode B"
     },
     "metadata": {}
    },
    {
     "output_type": "display_data",
     "data": {
      "text/plain": "<IPython.core.display.Latex object>",
      "text/latex": "$\\large B_{i+1} = \\frac{B_{i}}{\\sqrt{1+B_{i}^2}+1}$"
     },
     "metadata": {}
    },
    {
     "output_type": "display_data",
     "data": {
      "text/plain": "<IPython.core.display.Markdown object>",
      "text/markdown": "### Cas base dels dos métodes (que son recursius)"
     },
     "metadata": {}
    },
    {
     "output_type": "display_data",
     "data": {
      "text/plain": "<IPython.core.display.Markdown object>",
      "text/markdown": "$$\\large A_{0} = B_{0} = \\frac{1}{\\sqrt{3}}$$"
     },
     "metadata": {}
    }
   ],
   "source": [
    "display(Markdown(\"# Métodes per calcular $\\pi$\"))\n",
    "display(Markdown(\"## Métode A\"))\n",
    "display(Markdown(\"$$\\\\large A_{i+1} = \\\\frac{\\\\sqrt{1+A_{i}^2}-1}{A_{i}}$$\"))\n",
    "display(Markdown(\"## Métode B\"))\n",
    "display(Latex(\"$\\\\large B_{i+1} = \\\\frac{B_{i}}{\\\\sqrt{1+B_{i}^2}+1}$\"))\n",
    "display(Markdown(\"### Cas base dels dos métodes (que son recursius)\"))\n",
    "display(Markdown(\"$$\\\\large A_{0} = B_{0} = \\\\frac{1}{\\\\sqrt{3}}$$\"))"
   ]
  }
 ],
 "metadata": {
  "kernelspec": {
   "display_name": "Python 3",
   "language": "python",
   "name": "python3"
  },
  "language_info": {
   "codemirror_mode": {
    "name": "ipython",
    "version": 3
   },
   "file_extension": ".py",
   "mimetype": "text/x-python",
   "name": "python",
   "nbconvert_exporter": "python",
   "pygments_lexer": "ipython3",
   "version": "3.8.3-final"
  }
 },
 "nbformat": 4,
 "nbformat_minor": 2
}