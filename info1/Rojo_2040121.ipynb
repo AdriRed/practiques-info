{
 "cells": [
  {
   "cell_type": "markdown",
   "metadata": {},
   "source": [
    "# Test Markdown\n",
    "\n",
    "Text text text **negreta** text text text _cursiva_ text text text ```codi``` text text text. Text text text **negreta** text text text _cursiva_ text text text ```codi``` text text text. ext text text **negreta** text text text _cursiva_ text text text ```codi``` text text text. Text text text **negreta** text text text _cursiva_ text text text ```codi``` text text text. Text text text **negreta** text text text _cursiva_ text text text ```codi``` text text text. ext text text **negreta** text text text _cursiva_ text text text ```codi``` text text text.\n",
    "\n",
    "> Cita cita cita cita cita cita **negreta** cita cita cita cita cita _cursiva_ cita cita cita cita cita ```codi``` cita cita cita cita cita. Cita cita cita cita cita cita **negreta** cita cita cita cita cita _cursiva_ cita cita cita cita cita ```codi``` cita cita cita cita cita. Cita cita cita cita cita cita **negreta** cita cita cita cita cita _cursiva_ cita cita cita cita cita ```codi``` cita cita cita cita cita.\n",
    "\n",
    "------\n",
    "\n",
    "## Títol nivell 2\n",
    "### Títol nivell 3\n",
    "#### Títol nivell 4\n",
    "\n",
    "-------\n",
    "\n",
    "* llista nivell 1\n",
    "\n",
    " * llista nivell 2\n",
    "\n",
    "  * llista nivell 3\n",
    "\n",
    "\n",
    "1. primer llista numerada\n",
    "\n",
    "2. segon llista numerada\n",
    "\n",
    "------\n",
    "\n",
    "### Imatge web:\n",
    "\n",
    "![](http://www.ub.edu/web/ub/galeries/imatges/logo_home_nou.png)\n",
    "\n",
    "### Enllaç web [UB](http://www.ub.edu):\n",
    "\n",
    "\n",
    "### Equacions en MathJax: \n",
    "> $$ z = \\frac{x}{y} $$   on\n",
    "> $$ y =\\sum_{i=0}^\\infty \\frac{1}{i!}x^i $$\n",
    "\n",
    "### Blocs de codi font:\n",
    "\n",
    "    for val in range(1,10,2):\n",
    "        print val\n"
   ]
  },
  {
   "cell_type": "markdown",
   "metadata": {},
   "source": [
    "_________\n",
    "\n",
    "# Test Llibreria  ```turtle```\n",
    "\n",
    "El següent codi ha de generar un finestra emergent amb una imatge com aquesta\n",
    "\n",
    "![](https://bitbucket.org/dani_prades/inform-tica-13-14/downloads/win_turtle_test.png) "
   ]
  },
  {
   "cell_type": "code",
   "execution_count": 1,
   "metadata": {
    "collapsed": false
   },
   "outputs": [],
   "source": [
    "import turtle\n",
    "\n",
    "def poligon(turtle, size, segments=4):\n",
    "    \"\"\"Draws a poligon with a turtle.\n",
    "    The segments have a length of size.\n",
    "    The number of segments can be also modified.\"\"\"   \n",
    "    angle = 360./segments   \n",
    "    for i in range(segments):\n",
    "        turtle.forward(size)\n",
    "        turtle.left(angle)\n",
    "        \n",
    "wn = turtle.Screen()        # Set up the window and its attributes\n",
    "wn.screensize(250, 250)\n",
    "wn.setup(width=280, height=280)\n",
    "wn.bgcolor(\"gray\")\n",
    "wn.title(\"Test turtle\")\n",
    "\n",
    "alex = turtle.Turtle()      # Create turtle named alex\n",
    "\n",
    "size = 50 #Poligon size\n",
    "\n",
    "alex.color('red', 'red')\n",
    "poligon(alex, size) #Draw a red square\n",
    "\n",
    "alex.color('blue', 'blue')\n",
    "poligon(alex, size, 5) # Draw a blue pentagon\n",
    "\n",
    "alex.color('orange', 'orange')\n",
    "poligon(alex, size, 6) # Draw an orange hexagon\n",
    "\n",
    "alex.color('yellow', 'yellow')\n",
    "poligon(alex, 10, 40) # Draw nearly a yellow circle\n",
    "\n",
    "wn.exitonclick()"
   ]
  },
  {
   "cell_type": "markdown",
   "metadata": {},
   "source": [
    "_________________\n",
    "# Test IPython 1.0 ```raw_input()```"
   ]
  },
  {
   "cell_type": "code",
   "execution_count": 2,
   "metadata": {
    "collapsed": false
   },
   "outputs": [
    {
     "output_type": "stream",
     "name": "stdout",
     "text": [
      "> El teu nom és Adrià\n"
     ]
    }
   ],
   "source": [
    "# Verifiqueu que el següent codi demana un text per pantalla \n",
    "#  el retorna imprès\n",
    "nom = input(\"Introdueix el teu nom: \")\n",
    "print(\"> El teu nom és\", nom)"
   ]
  },
  {
   "cell_type": "markdown",
   "metadata": {},
   "source": [
    "_________________________\n",
    "# Test Llibreria  ```matplotlib```"
   ]
  },
  {
   "cell_type": "code",
   "execution_count": 3,
   "metadata": {
    "collapsed": false
   },
   "outputs": [
    {
     "output_type": "stream",
     "name": "stdout",
     "text": [
      "Populating the interactive namespace from numpy and matplotlib\n"
     ]
    },
    {
     "output_type": "execute_result",
     "data": {
      "text/plain": [
       "[<matplotlib.lines.Line2D at 0x21423e0cfd0>]"
      ]
     },
     "metadata": {},
     "execution_count": 3
    },
    {
     "output_type": "display_data",
     "data": {
      "text/plain": "<Figure size 432x288 with 1 Axes>",
      "image/svg+xml": "<?xml version=\"1.0\" encoding=\"utf-8\" standalone=\"no\"?>\r\n<!DOCTYPE svg PUBLIC \"-//W3C//DTD SVG 1.1//EN\"\r\n  \"http://www.w3.org/Graphics/SVG/1.1/DTD/svg11.dtd\">\r\n<!-- Created with matplotlib (https://matplotlib.org/) -->\r\n<svg height=\"248.518125pt\" version=\"1.1\" viewBox=\"0 0 368.925 248.518125\" width=\"368.925pt\" xmlns=\"http://www.w3.org/2000/svg\" xmlns:xlink=\"http://www.w3.org/1999/xlink\">\r\n <defs>\r\n  <style type=\"text/css\">\r\n*{stroke-linecap:butt;stroke-linejoin:round;}\r\n  </style>\r\n </defs>\r\n <g id=\"figure_1\">\r\n  <g id=\"patch_1\">\r\n   <path d=\"M -0 248.518125 \r\nL 368.925 248.518125 \r\nL 368.925 0 \r\nL -0 0 \r\nz\r\n\" style=\"fill:none;\"/>\r\n  </g>\r\n  <g id=\"axes_1\">\r\n   <g id=\"patch_2\">\r\n    <path d=\"M 26.925 224.64 \r\nL 361.725 224.64 \r\nL 361.725 7.2 \r\nL 26.925 7.2 \r\nz\r\n\" style=\"fill:#ffffff;\"/>\r\n   </g>\r\n   <g id=\"matplotlib.axis_1\">\r\n    <g id=\"xtick_1\">\r\n     <g id=\"line2d_1\">\r\n      <defs>\r\n       <path d=\"M 0 0 \r\nL 0 3.5 \r\n\" id=\"m2b11c6730d\" style=\"stroke:#000000;stroke-width:0.8;\"/>\r\n      </defs>\r\n      <g>\r\n       <use style=\"stroke:#000000;stroke-width:0.8;\" x=\"42.143182\" xlink:href=\"#m2b11c6730d\" y=\"224.64\"/>\r\n      </g>\r\n     </g>\r\n     <g id=\"text_1\">\r\n      <!-- 0 -->\r\n      <defs>\r\n       <path d=\"M 31.78125 66.40625 \r\nQ 24.171875 66.40625 20.328125 58.90625 \r\nQ 16.5 51.421875 16.5 36.375 \r\nQ 16.5 21.390625 20.328125 13.890625 \r\nQ 24.171875 6.390625 31.78125 6.390625 \r\nQ 39.453125 6.390625 43.28125 13.890625 \r\nQ 47.125 21.390625 47.125 36.375 \r\nQ 47.125 51.421875 43.28125 58.90625 \r\nQ 39.453125 66.40625 31.78125 66.40625 \r\nz\r\nM 31.78125 74.21875 \r\nQ 44.046875 74.21875 50.515625 64.515625 \r\nQ 56.984375 54.828125 56.984375 36.375 \r\nQ 56.984375 17.96875 50.515625 8.265625 \r\nQ 44.046875 -1.421875 31.78125 -1.421875 \r\nQ 19.53125 -1.421875 13.0625 8.265625 \r\nQ 6.59375 17.96875 6.59375 36.375 \r\nQ 6.59375 54.828125 13.0625 64.515625 \r\nQ 19.53125 74.21875 31.78125 74.21875 \r\nz\r\n\" id=\"DejaVuSans-48\"/>\r\n      </defs>\r\n      <g transform=\"translate(38.961932 239.238437)scale(0.1 -0.1)\">\r\n       <use xlink:href=\"#DejaVuSans-48\"/>\r\n      </g>\r\n     </g>\r\n    </g>\r\n    <g id=\"xtick_2\">\r\n     <g id=\"line2d_2\">\r\n      <g>\r\n       <use style=\"stroke:#000000;stroke-width:0.8;\" x=\"103.630785\" xlink:href=\"#m2b11c6730d\" y=\"224.64\"/>\r\n      </g>\r\n     </g>\r\n     <g id=\"text_2\">\r\n      <!-- 20 -->\r\n      <defs>\r\n       <path d=\"M 19.1875 8.296875 \r\nL 53.609375 8.296875 \r\nL 53.609375 0 \r\nL 7.328125 0 \r\nL 7.328125 8.296875 \r\nQ 12.9375 14.109375 22.625 23.890625 \r\nQ 32.328125 33.6875 34.8125 36.53125 \r\nQ 39.546875 41.84375 41.421875 45.53125 \r\nQ 43.3125 49.21875 43.3125 52.78125 \r\nQ 43.3125 58.59375 39.234375 62.25 \r\nQ 35.15625 65.921875 28.609375 65.921875 \r\nQ 23.96875 65.921875 18.8125 64.3125 \r\nQ 13.671875 62.703125 7.8125 59.421875 \r\nL 7.8125 69.390625 \r\nQ 13.765625 71.78125 18.9375 73 \r\nQ 24.125 74.21875 28.421875 74.21875 \r\nQ 39.75 74.21875 46.484375 68.546875 \r\nQ 53.21875 62.890625 53.21875 53.421875 \r\nQ 53.21875 48.921875 51.53125 44.890625 \r\nQ 49.859375 40.875 45.40625 35.40625 \r\nQ 44.1875 33.984375 37.640625 27.21875 \r\nQ 31.109375 20.453125 19.1875 8.296875 \r\nz\r\n\" id=\"DejaVuSans-50\"/>\r\n      </defs>\r\n      <g transform=\"translate(97.268285 239.238437)scale(0.1 -0.1)\">\r\n       <use xlink:href=\"#DejaVuSans-50\"/>\r\n       <use x=\"63.623047\" xlink:href=\"#DejaVuSans-48\"/>\r\n      </g>\r\n     </g>\r\n    </g>\r\n    <g id=\"xtick_3\">\r\n     <g id=\"line2d_3\">\r\n      <g>\r\n       <use style=\"stroke:#000000;stroke-width:0.8;\" x=\"165.118388\" xlink:href=\"#m2b11c6730d\" y=\"224.64\"/>\r\n      </g>\r\n     </g>\r\n     <g id=\"text_3\">\r\n      <!-- 40 -->\r\n      <defs>\r\n       <path d=\"M 37.796875 64.3125 \r\nL 12.890625 25.390625 \r\nL 37.796875 25.390625 \r\nz\r\nM 35.203125 72.90625 \r\nL 47.609375 72.90625 \r\nL 47.609375 25.390625 \r\nL 58.015625 25.390625 \r\nL 58.015625 17.1875 \r\nL 47.609375 17.1875 \r\nL 47.609375 0 \r\nL 37.796875 0 \r\nL 37.796875 17.1875 \r\nL 4.890625 17.1875 \r\nL 4.890625 26.703125 \r\nz\r\n\" id=\"DejaVuSans-52\"/>\r\n      </defs>\r\n      <g transform=\"translate(158.755888 239.238437)scale(0.1 -0.1)\">\r\n       <use xlink:href=\"#DejaVuSans-52\"/>\r\n       <use x=\"63.623047\" xlink:href=\"#DejaVuSans-48\"/>\r\n      </g>\r\n     </g>\r\n    </g>\r\n    <g id=\"xtick_4\">\r\n     <g id=\"line2d_4\">\r\n      <g>\r\n       <use style=\"stroke:#000000;stroke-width:0.8;\" x=\"226.605992\" xlink:href=\"#m2b11c6730d\" y=\"224.64\"/>\r\n      </g>\r\n     </g>\r\n     <g id=\"text_4\">\r\n      <!-- 60 -->\r\n      <defs>\r\n       <path d=\"M 33.015625 40.375 \r\nQ 26.375 40.375 22.484375 35.828125 \r\nQ 18.609375 31.296875 18.609375 23.390625 \r\nQ 18.609375 15.53125 22.484375 10.953125 \r\nQ 26.375 6.390625 33.015625 6.390625 \r\nQ 39.65625 6.390625 43.53125 10.953125 \r\nQ 47.40625 15.53125 47.40625 23.390625 \r\nQ 47.40625 31.296875 43.53125 35.828125 \r\nQ 39.65625 40.375 33.015625 40.375 \r\nz\r\nM 52.59375 71.296875 \r\nL 52.59375 62.3125 \r\nQ 48.875 64.0625 45.09375 64.984375 \r\nQ 41.3125 65.921875 37.59375 65.921875 \r\nQ 27.828125 65.921875 22.671875 59.328125 \r\nQ 17.53125 52.734375 16.796875 39.40625 \r\nQ 19.671875 43.65625 24.015625 45.921875 \r\nQ 28.375 48.1875 33.59375 48.1875 \r\nQ 44.578125 48.1875 50.953125 41.515625 \r\nQ 57.328125 34.859375 57.328125 23.390625 \r\nQ 57.328125 12.15625 50.6875 5.359375 \r\nQ 44.046875 -1.421875 33.015625 -1.421875 \r\nQ 20.359375 -1.421875 13.671875 8.265625 \r\nQ 6.984375 17.96875 6.984375 36.375 \r\nQ 6.984375 53.65625 15.1875 63.9375 \r\nQ 23.390625 74.21875 37.203125 74.21875 \r\nQ 40.921875 74.21875 44.703125 73.484375 \r\nQ 48.484375 72.75 52.59375 71.296875 \r\nz\r\n\" id=\"DejaVuSans-54\"/>\r\n      </defs>\r\n      <g transform=\"translate(220.243492 239.238437)scale(0.1 -0.1)\">\r\n       <use xlink:href=\"#DejaVuSans-54\"/>\r\n       <use x=\"63.623047\" xlink:href=\"#DejaVuSans-48\"/>\r\n      </g>\r\n     </g>\r\n    </g>\r\n    <g id=\"xtick_5\">\r\n     <g id=\"line2d_5\">\r\n      <g>\r\n       <use style=\"stroke:#000000;stroke-width:0.8;\" x=\"288.093595\" xlink:href=\"#m2b11c6730d\" y=\"224.64\"/>\r\n      </g>\r\n     </g>\r\n     <g id=\"text_5\">\r\n      <!-- 80 -->\r\n      <defs>\r\n       <path d=\"M 31.78125 34.625 \r\nQ 24.75 34.625 20.71875 30.859375 \r\nQ 16.703125 27.09375 16.703125 20.515625 \r\nQ 16.703125 13.921875 20.71875 10.15625 \r\nQ 24.75 6.390625 31.78125 6.390625 \r\nQ 38.8125 6.390625 42.859375 10.171875 \r\nQ 46.921875 13.96875 46.921875 20.515625 \r\nQ 46.921875 27.09375 42.890625 30.859375 \r\nQ 38.875 34.625 31.78125 34.625 \r\nz\r\nM 21.921875 38.8125 \r\nQ 15.578125 40.375 12.03125 44.71875 \r\nQ 8.5 49.078125 8.5 55.328125 \r\nQ 8.5 64.0625 14.71875 69.140625 \r\nQ 20.953125 74.21875 31.78125 74.21875 \r\nQ 42.671875 74.21875 48.875 69.140625 \r\nQ 55.078125 64.0625 55.078125 55.328125 \r\nQ 55.078125 49.078125 51.53125 44.71875 \r\nQ 48 40.375 41.703125 38.8125 \r\nQ 48.828125 37.15625 52.796875 32.3125 \r\nQ 56.78125 27.484375 56.78125 20.515625 \r\nQ 56.78125 9.90625 50.3125 4.234375 \r\nQ 43.84375 -1.421875 31.78125 -1.421875 \r\nQ 19.734375 -1.421875 13.25 4.234375 \r\nQ 6.78125 9.90625 6.78125 20.515625 \r\nQ 6.78125 27.484375 10.78125 32.3125 \r\nQ 14.796875 37.15625 21.921875 38.8125 \r\nz\r\nM 18.3125 54.390625 \r\nQ 18.3125 48.734375 21.84375 45.5625 \r\nQ 25.390625 42.390625 31.78125 42.390625 \r\nQ 38.140625 42.390625 41.71875 45.5625 \r\nQ 45.3125 48.734375 45.3125 54.390625 \r\nQ 45.3125 60.0625 41.71875 63.234375 \r\nQ 38.140625 66.40625 31.78125 66.40625 \r\nQ 25.390625 66.40625 21.84375 63.234375 \r\nQ 18.3125 60.0625 18.3125 54.390625 \r\nz\r\n\" id=\"DejaVuSans-56\"/>\r\n      </defs>\r\n      <g transform=\"translate(281.731095 239.238437)scale(0.1 -0.1)\">\r\n       <use xlink:href=\"#DejaVuSans-56\"/>\r\n       <use x=\"63.623047\" xlink:href=\"#DejaVuSans-48\"/>\r\n      </g>\r\n     </g>\r\n    </g>\r\n    <g id=\"xtick_6\">\r\n     <g id=\"line2d_6\">\r\n      <g>\r\n       <use style=\"stroke:#000000;stroke-width:0.8;\" x=\"349.581198\" xlink:href=\"#m2b11c6730d\" y=\"224.64\"/>\r\n      </g>\r\n     </g>\r\n     <g id=\"text_6\">\r\n      <!-- 100 -->\r\n      <defs>\r\n       <path d=\"M 12.40625 8.296875 \r\nL 28.515625 8.296875 \r\nL 28.515625 63.921875 \r\nL 10.984375 60.40625 \r\nL 10.984375 69.390625 \r\nL 28.421875 72.90625 \r\nL 38.28125 72.90625 \r\nL 38.28125 8.296875 \r\nL 54.390625 8.296875 \r\nL 54.390625 0 \r\nL 12.40625 0 \r\nz\r\n\" id=\"DejaVuSans-49\"/>\r\n      </defs>\r\n      <g transform=\"translate(340.037448 239.238437)scale(0.1 -0.1)\">\r\n       <use xlink:href=\"#DejaVuSans-49\"/>\r\n       <use x=\"63.623047\" xlink:href=\"#DejaVuSans-48\"/>\r\n       <use x=\"127.246094\" xlink:href=\"#DejaVuSans-48\"/>\r\n      </g>\r\n     </g>\r\n    </g>\r\n   </g>\r\n   <g id=\"matplotlib.axis_2\">\r\n    <g id=\"ytick_1\">\r\n     <g id=\"line2d_7\">\r\n      <defs>\r\n       <path d=\"M 0 0 \r\nL -3.5 0 \r\n\" id=\"mb144e3ff48\" style=\"stroke:#000000;stroke-width:0.8;\"/>\r\n      </defs>\r\n      <g>\r\n       <use style=\"stroke:#000000;stroke-width:0.8;\" x=\"26.925\" xlink:href=\"#mb144e3ff48\" y=\"214.756364\"/>\r\n      </g>\r\n     </g>\r\n     <g id=\"text_7\">\r\n      <!-- 0 -->\r\n      <g transform=\"translate(13.5625 218.555582)scale(0.1 -0.1)\">\r\n       <use xlink:href=\"#DejaVuSans-48\"/>\r\n      </g>\r\n     </g>\r\n    </g>\r\n    <g id=\"ytick_2\">\r\n     <g id=\"line2d_8\">\r\n      <g>\r\n       <use style=\"stroke:#000000;stroke-width:0.8;\" x=\"26.925\" xlink:href=\"#mb144e3ff48\" y=\"175.02265\"/>\r\n      </g>\r\n     </g>\r\n     <g id=\"text_8\">\r\n      <!-- 2 -->\r\n      <g transform=\"translate(13.5625 178.821869)scale(0.1 -0.1)\">\r\n       <use xlink:href=\"#DejaVuSans-50\"/>\r\n      </g>\r\n     </g>\r\n    </g>\r\n    <g id=\"ytick_3\">\r\n     <g id=\"line2d_9\">\r\n      <g>\r\n       <use style=\"stroke:#000000;stroke-width:0.8;\" x=\"26.925\" xlink:href=\"#mb144e3ff48\" y=\"135.288937\"/>\r\n      </g>\r\n     </g>\r\n     <g id=\"text_9\">\r\n      <!-- 4 -->\r\n      <g transform=\"translate(13.5625 139.088156)scale(0.1 -0.1)\">\r\n       <use xlink:href=\"#DejaVuSans-52\"/>\r\n      </g>\r\n     </g>\r\n    </g>\r\n    <g id=\"ytick_4\">\r\n     <g id=\"line2d_10\">\r\n      <g>\r\n       <use style=\"stroke:#000000;stroke-width:0.8;\" x=\"26.925\" xlink:href=\"#mb144e3ff48\" y=\"95.555224\"/>\r\n      </g>\r\n     </g>\r\n     <g id=\"text_10\">\r\n      <!-- 6 -->\r\n      <g transform=\"translate(13.5625 99.354443)scale(0.1 -0.1)\">\r\n       <use xlink:href=\"#DejaVuSans-54\"/>\r\n      </g>\r\n     </g>\r\n    </g>\r\n    <g id=\"ytick_5\">\r\n     <g id=\"line2d_11\">\r\n      <g>\r\n       <use style=\"stroke:#000000;stroke-width:0.8;\" x=\"26.925\" xlink:href=\"#mb144e3ff48\" y=\"55.821511\"/>\r\n      </g>\r\n     </g>\r\n     <g id=\"text_11\">\r\n      <!-- 8 -->\r\n      <g transform=\"translate(13.5625 59.62073)scale(0.1 -0.1)\">\r\n       <use xlink:href=\"#DejaVuSans-56\"/>\r\n      </g>\r\n     </g>\r\n    </g>\r\n    <g id=\"ytick_6\">\r\n     <g id=\"line2d_12\">\r\n      <g>\r\n       <use style=\"stroke:#000000;stroke-width:0.8;\" x=\"26.925\" xlink:href=\"#mb144e3ff48\" y=\"16.087798\"/>\r\n      </g>\r\n     </g>\r\n     <g id=\"text_12\">\r\n      <!-- 10 -->\r\n      <g transform=\"translate(7.2 19.887016)scale(0.1 -0.1)\">\r\n       <use xlink:href=\"#DejaVuSans-49\"/>\r\n       <use x=\"63.623047\" xlink:href=\"#DejaVuSans-48\"/>\r\n      </g>\r\n     </g>\r\n    </g>\r\n   </g>\r\n   <g id=\"line2d_13\">\r\n    <path clip-path=\"url(#pa208455f9e)\" d=\"M 42.143182 214.756364 \r\nL 45.217562 194.889507 \r\nL 48.291942 186.660386 \r\nL 51.366322 180.345959 \r\nL 54.440702 175.02265 \r\nL 57.515083 170.332722 \r\nL 60.589463 166.092702 \r\nL 63.663843 162.193602 \r\nL 66.738223 158.564408 \r\nL 69.812603 155.155794 \r\nL 72.886983 151.931847 \r\nL 75.961364 148.865455 \r\nL 79.035744 145.935554 \r\nL 82.110124 143.125393 \r\nL 85.184504 140.421393 \r\nL 88.258884 137.812359 \r\nL 91.333264 135.288937 \r\nL 94.407645 132.843215 \r\nL 97.482025 130.46843 \r\nL 100.556405 128.158743 \r\nL 103.630785 125.90908 \r\nL 106.705165 123.714989 \r\nL 109.779545 121.572546 \r\nL 112.853926 119.478267 \r\nL 115.928306 117.429041 \r\nL 119.002686 115.422081 \r\nL 122.077066 113.454874 \r\nL 125.151446 111.525149 \r\nL 128.225826 109.63084 \r\nL 131.300207 107.770067 \r\nL 134.374587 105.941109 \r\nL 137.448967 104.142387 \r\nL 140.523347 102.372451 \r\nL 143.597727 100.629961 \r\nL 146.672107 98.913679 \r\nL 149.746488 97.222455 \r\nL 152.820868 95.555224 \r\nL 155.895248 93.910993 \r\nL 158.969628 92.288835 \r\nL 162.044008 90.687884 \r\nL 165.118388 89.10733 \r\nL 168.192769 87.546413 \r\nL 171.267149 86.004418 \r\nL 174.341529 84.480673 \r\nL 177.415909 82.974545 \r\nL 180.490289 81.485438 \r\nL 183.564669 80.012786 \r\nL 186.63905 78.556057 \r\nL 189.71343 77.114744 \r\nL 192.78781 75.688367 \r\nL 195.86219 74.276473 \r\nL 198.93657 72.878629 \r\nL 202.01095 71.494423 \r\nL 205.085331 70.123464 \r\nL 208.159711 68.765379 \r\nL 211.234091 67.419812 \r\nL 214.308471 66.086422 \r\nL 217.382851 64.764886 \r\nL 220.457231 63.454891 \r\nL 223.531612 62.156143 \r\nL 226.605992 60.868354 \r\nL 229.680372 59.591253 \r\nL 232.754752 58.324578 \r\nL 235.829132 57.068078 \r\nL 238.903512 55.821511 \r\nL 241.977893 54.584645 \r\nL 245.052273 53.357258 \r\nL 248.126653 52.139134 \r\nL 251.201033 50.930067 \r\nL 254.275413 49.729859 \r\nL 257.349793 48.538316 \r\nL 260.424174 47.355254 \r\nL 263.498554 46.180495 \r\nL 266.572934 45.013866 \r\nL 269.647314 43.855201 \r\nL 272.721694 42.704339 \r\nL 275.796074 41.561123 \r\nL 278.870455 40.425405 \r\nL 281.944835 39.297037 \r\nL 285.019215 38.17588 \r\nL 288.093595 37.061796 \r\nL 291.167975 35.954654 \r\nL 294.242355 34.854326 \r\nL 297.316736 33.760686 \r\nL 300.391116 32.673615 \r\nL 303.465496 31.592996 \r\nL 306.539876 30.518715 \r\nL 309.614256 29.450662 \r\nL 312.688636 28.388729 \r\nL 315.763017 27.332813 \r\nL 318.837397 26.282813 \r\nL 321.911777 25.23863 \r\nL 324.986157 24.200169 \r\nL 328.060537 23.167337 \r\nL 331.134917 22.140043 \r\nL 334.209298 21.118198 \r\nL 337.283678 20.101718 \r\nL 340.358058 19.090518 \r\nL 343.432438 18.084517 \r\nL 346.506818 17.083636 \r\n\" style=\"fill:none;stroke:#1f77b4;stroke-linecap:square;stroke-width:2;\"/>\r\n   </g>\r\n   <g id=\"patch_3\">\r\n    <path d=\"M 26.925 224.64 \r\nL 26.925 7.2 \r\n\" style=\"fill:none;stroke:#000000;stroke-linecap:square;stroke-linejoin:miter;stroke-width:0.8;\"/>\r\n   </g>\r\n   <g id=\"patch_4\">\r\n    <path d=\"M 361.725 224.64 \r\nL 361.725 7.2 \r\n\" style=\"fill:none;stroke:#000000;stroke-linecap:square;stroke-linejoin:miter;stroke-width:0.8;\"/>\r\n   </g>\r\n   <g id=\"patch_5\">\r\n    <path d=\"M 26.925 224.64 \r\nL 361.725 224.64 \r\n\" style=\"fill:none;stroke:#000000;stroke-linecap:square;stroke-linejoin:miter;stroke-width:0.8;\"/>\r\n   </g>\r\n   <g id=\"patch_6\">\r\n    <path d=\"M 26.925 7.2 \r\nL 361.725 7.2 \r\n\" style=\"fill:none;stroke:#000000;stroke-linecap:square;stroke-linejoin:miter;stroke-width:0.8;\"/>\r\n   </g>\r\n  </g>\r\n </g>\r\n <defs>\r\n  <clipPath id=\"pa208455f9e\">\r\n   <rect height=\"217.44\" width=\"334.8\" x=\"26.925\" y=\"7.2\"/>\r\n  </clipPath>\r\n </defs>\r\n</svg>\r\n",
      "image/png": "[encoded data removed]"
     },
     "metadata": {
      "needs_background": "light"
     }
    }
   ],
   "source": [
    "%pylab inline\n",
    "import matplotlib.pyplot as plt\n",
    "from numpy import sqrt\n",
    "x = range(0, 100) \n",
    "plt.plot(x, sqrt(x), '-', linewidth=2)"
   ]
  },
  {
   "cell_type": "markdown",
   "metadata": {
    "slideshow": {
     "slide_type": "skip"
    }
   },
   "source": [
    "___________________________\n",
    "# Test Llibreria ```numpy```"
   ]
  },
  {
   "cell_type": "code",
   "execution_count": 4,
   "metadata": {
    "collapsed": false,
    "slideshow": {
     "slide_type": "-"
    }
   },
   "outputs": [
    {
     "output_type": "stream",
     "name": "stdout",
     "text": [
      "A: [[1. 2. 3.]\n [5. 3. 7.]\n [9. 1. 6.]]\nb: [1. 3. 5.]\nx: [ 0.81818182  0.90909091 -0.54545455]\n"
     ]
    }
   ],
   "source": [
    "def solve_lin_sys(mat, vec):\n",
    "    \"\"\"Solves linear system mat·sol = vec\n",
    "    by direct inversion with numpy functions\"\"\"    \n",
    "    sol = inv(mat).dot(vec)\n",
    "    return sol\n",
    "\n",
    "A = array([[1., 2., 3.],[5., 3., 7.],[9., 1., 6.]])\n",
    "b = array([1., 3., 5.])\n",
    "x = solve_lin_sys(A,b)\n",
    "\n",
    "print(\"A:\" , A)\n",
    "print(\"b:\" , b)\n",
    "print(\"x:\", x)"
   ]
  },
  {
   "cell_type": "markdown",
   "metadata": {},
   "source": [
    "____________________________\n",
    "# Test Llibreria ```sympy```"
   ]
  },
  {
   "cell_type": "code",
   "execution_count": 5,
   "metadata": {
    "collapsed": false
   },
   "outputs": [
    {
     "output_type": "stream",
     "name": "stdout",
     "text": [
      "Standard output:\n(x + 2*y**3)**2\n12*y**2*(x + 2*y**3)\n2*x + 4*y**3\n2\n12*y**2\n"
     ]
    },
    {
     "output_type": "execute_result",
     "data": {
      "text/plain": [
       "<IPython.core.display.Latex object>"
      ],
      "text/latex": "Latex output: \\begin{eqnarray} f(x,y) = \\left(x + 2 y^{3}\\right)^{2}\\\\ \\frac{\\partial f(x,y)}{\\partial x}=2 x + 4 y^{3}\\\\ \\frac{\\partial f(x,y)}{\\partial y}=12 y^{2} \\left(x + 2 y^{3}\\right)\\\\ \\frac{\\partial^2 f(x,y)}{\\partial^2 x}=2\\\\ \\frac{\\partial^2 f(x,y)}{\\partial x \\partial y}=12 y^{2}\\end{eqnarray}"
     },
     "metadata": {},
     "execution_count": 5
    }
   ],
   "source": [
    "from IPython.display import Latex\n",
    "import sympy\n",
    "\n",
    "x=sympy.Symbol('x')\n",
    "y=sympy.Symbol('y')\n",
    "f=(x+2*y**3)**2\n",
    "\n",
    "print(\"Standard output:\")\n",
    "print(f)\n",
    "print(f.diff(y))\n",
    "print(f.diff(x))\n",
    "print(f.diff(x).diff(x))\n",
    "print(f.diff(y).diff(x))\n",
    "\n",
    "Latex(r'Latex output: \\begin{eqnarray} f(x,y) = '+ sympy.latex(f) \n",
    "      + r'\\\\ \\frac{\\partial f(x,y)}{\\partial x}=' + sympy.latex(f.diff(x)) \n",
    "      + r'\\\\ \\frac{\\partial f(x,y)}{\\partial y}=' + sympy.latex(f.diff(y)) \n",
    "      + r'\\\\ \\frac{\\partial^2 f(x,y)}{\\partial^2 x}='+ sympy.latex(f.diff(x).diff(x)) \n",
    "      + r'\\\\ \\frac{\\partial^2 f(x,y)}{\\partial x \\partial y}='+ sympy.latex(f.diff(y).diff(x)) \n",
    "      + r'\\end{eqnarray}')"
   ]
  }
 ],
 "metadata": {
  "kernelspec": {
   "display_name": "Python 3",
   "language": "python",
   "name": "python3"
  },
  "language_info": {
   "codemirror_mode": {
    "name": "ipython",
    "version": 3
   },
   "file_extension": ".py",
   "mimetype": "text/x-python",
   "name": "python",
   "nbconvert_exporter": "python",
   "pygments_lexer": "ipython3",
   "version": "3.8.3-final"
  }
 },
 "nbformat": 4,
 "nbformat_minor": 0
}