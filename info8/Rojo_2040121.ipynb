{
 "cells": [
  {
   "cell_type": "markdown",
   "metadata": {},
   "source": [
    "# Pràctica 8: fitxers\n",
    "\n",
    "##### Adrià Rojo\n",
    "\n",
    "---\n"
   ]
  },
  {
   "cell_type": "markdown",
   "metadata": {},
   "source": [
    "## Exercici 1: fitxers de text bàsics\n",
    "\n",
    "### Funció `contar_caracters` i `substituir_accent`"
   ]
  },
  {
   "cell_type": "code",
   "execution_count": null,
   "metadata": {},
   "outputs": [],
   "source": [
    "import string\n",
    "\n",
    "LLETRES = [('àáä', 'a'),('èéë', 'e'),('ìíï', 'i'),('òóö', 'o'),('ùúü', 'u')] # dic amb tuples, les substitucions que hi hauran\n",
    "\n",
    "DICC_SUBST = dict((lletra_in, lletra_out) for (substitucions, lletra_out) in LLETRES for (lletra_in) in substitucions)\n",
    "\n",
    "def diccionari_alfabet():\n",
    "    return dict((lletra, 0) for lletra in string.ascii_lowercase + 'ñç')\n",
    "\n",
    "def substituir_accent(lletra: str) -> str:\n",
    "    \"\"\"\n",
    "    Substitueix la vocal accentuada (accents simples '`' '´' i diéresi '¨') per una vocal no accentuades\n",
    "    \"\"\"\n",
    "    # per cada tupla agafo el segon element i per cada lletra del primer element creo una entrada\n",
    "\n",
    "    if (lletra in DICC_SUBST):\n",
    "        lletra = DICC_SUBST[lletra]\n",
    "\n",
    "    return lletra\n",
    "\n",
    "def contar_caracters(cadena: str) -> dict:\n",
    "    \"\"\"\n",
    "    Conta els caracters (sense distinguir minuscules de majuscules) i retorna un diccionari amb les ocurrències de cada caràcter\n",
    "    \"\"\"\n",
    "    cadena = cadena.lower() # a minuscules tot\n",
    "\n",
    "    diccionari = diccionari_alfabet()\n",
    "\n",
    "    for caracter in cadena:\n",
    "        caracter = substituir_accent(caracter) # substitueixo accent\n",
    "        if (caracter in diccionari): # si resulta que existeix al diccionari (lletra controlada)\n",
    "            diccionari[caracter] += 1 \n",
    "\n",
    "    return diccionari"
   ]
  },
  {
   "cell_type": "code",
   "execution_count": null,
   "metadata": {},
   "outputs": [],
   "source": [
    "def filtrar_diccionari_0(original: dict) -> dict: # funcio per fer els asserts\n",
    "    \"\"\"\n",
    "    Crea un diccionari nou amb aquelles claus que no tinguin com el valor\n",
    "    \"\"\"\n",
    "    return dict((el, v) for (el, v) in original.items() if v != 0)"
   ]
  },
  {
   "cell_type": "code",
   "execution_count": null,
   "metadata": {},
   "outputs": [],
   "source": [
    "cadena = input(\"Posa una cadena i compto les lletres: \")\n",
    "contar_caracters(cadena)"
   ]
  },
  {
   "cell_type": "markdown",
   "metadata": {},
   "source": [
    "### Tests"
   ]
  },
  {
   "cell_type": "code",
   "execution_count": null,
   "metadata": {},
   "outputs": [],
   "source": [
    "assert filtrar_diccionari_0(contar_caracters(\"hola\")) == {'a':1,'h':1,'l':1,'o':1}\n",
    "assert filtrar_diccionari_0(contar_caracters(\"muricec\")) == {'c':2,'e':1,'i':1,'m':1,'r':1,'u':1}\n",
    "assert filtrar_diccionari_0(contar_caracters(\"Ratapinyada\")) == {'a':4,'d':1,'i':1,'n':1,'p':1,'r':1,'t':1,'y':1}"
   ]
  },
  {
   "cell_type": "markdown",
   "metadata": {},
   "source": [
    "### Funció `llegir_llibre`"
   ]
  },
  {
   "cell_type": "code",
   "execution_count": null,
   "metadata": {},
   "outputs": [],
   "source": [
    "\n",
    "def llegir_llibre(nom_fitxer: str) -> dict:\n",
    "    \"\"\"\n",
    "    Obre un fitxer de text i conta les ocurrències de les lletres, retornant un diccionari (només compta les lletres de la constant string.ascii_lowercase al mòdul string)\n",
    "    \"\"\"\n",
    "    diccionari = diccionari_alfabet() # creo diccionari buit\n",
    "    with open(nom_fitxer, 'rt', encoding=\"utf-8-sig\") as fitxer:\n",
    "        for line in fitxer.readlines(): # per cada linia\n",
    "            resultat_diccionari = contar_caracters(line) # conto els caractersr\n",
    "            for (k, v) in resultat_diccionari.items():\n",
    "                diccionari[k] += v # afegeixo a cada elemen\n",
    "\n",
    "    return diccionari\n"
   ]
  },
  {
   "cell_type": "code",
   "execution_count": null,
   "metadata": {},
   "outputs": [],
   "source": [
    "fitxer = input(\"Digues el nom d'un fitxer i compto les seves lletres: \")\n",
    "\n",
    "llegir_llibre(fitxer)"
   ]
  },
  {
   "source": [
    "### Funció `guardar_txt`"
   ],
   "cell_type": "markdown",
   "metadata": {}
  },
  {
   "cell_type": "code",
   "execution_count": null,
   "metadata": {},
   "outputs": [],
   "source": [
    "def guardar_txt(nom_fitxer: str, frequencies: dict) -> None:\n",
    "    \"\"\"\n",
    "    Donat un nom de fitxer i un diccionari del tipus {str: int}, crea un fitxer que representa aquest diccionari amb el format 'clau{tabulacio}valor'\n",
    "    \"\"\"\n",
    "    with open(nom_fitxer, 'wt', encoding=\"utf-8-sig\") as file:\n",
    "        for i in frequencies: # per cada clau de les frequencies\n",
    "            file.write('{:s}\\t{:d}\\n'.format(i, frequencies[i])) # ho escric a l'arxiu"
   ]
  },
  {
   "cell_type": "code",
   "execution_count": null,
   "metadata": {},
   "outputs": [],
   "source": [
    "freq = llegir_llibre('auca.txt')\n",
    "guardar_txt('freq_auca.txt', freq)\n",
    "%less freq_auca.txt"
   ]
  },
  {
   "cell_type": "code",
   "execution_count": null,
   "metadata": {},
   "outputs": [],
   "source": [
    "freq = llegir_llibre('romeo.txt')\n",
    "guardar_txt('freq_romeo.txt', freq)\n",
    "%less freq_romeo.txt"
   ]
  },
  {
   "cell_type": "markdown",
   "metadata": {},
   "source": [
    "### Explicació\n",
    "\n",
    "#### Funció `contar_caracters`\n",
    "\n",
    "Hi han diferents maneres de fer la funció\n",
    "\n",
    "1. La primera es crear un diccionari inicialitzat amb totes les lletres (`string.ascii_lowercase + 'ñç'`) = 0 i anar augmentant, que és la que he escollit (generant el diccionari amb _comprehension lists_)\n",
    "2. L'altre és crear el diccionari a mesura que ens anem trobant les lletres.\n",
    "\n",
    "    1. Passem la cadena a minuscules\n",
    "    2. Creem un diccionari vuit, i ara lletra a lletra de la cadena:\n",
    "\n",
    "        1. Substituim la possible vocal accentuada per una vocal no accentuada\n",
    "        2. Comprovem que es un caracter controlat veient si la cadena constant `ascii_lowercase` del mòdul `string`, sumant-hi les lletres `ç` i `ñ`, conté la lletra actual\n",
    "        3. Si resulta que el diccionari no tè una entrada per la lletra actual la iniciem amb 0\n",
    "        4. Augmentem en 1 la frecuencia de la lletra al diccionari\n",
    "\n",
    "> Faria falta dir a l'enunciat que s'ha de fer `import string`\n",
    "\n",
    "#### Tests\n",
    "\n",
    "Depenent de la forma que haguem fet la funcio de contar caracters, els tests tindràn un codi o un altre\n",
    "\n",
    "#### Funció `substituir_accent`\n",
    "\n",
    "És bastant simple, ja que només fa la substitució i si no, la retorna tal qual \n",
    "\n",
    "#### Funció `llegir_llibre`\n",
    "\n",
    "Utilitzant la sentencia `with`, amb l'`open` obrim l'arxiu en mode 'read text' (`rt`) i línea a linea anem executant la funció de `contar_caracters` i amb el diccionari que retorna anem actualitzant el diccionari general.\n",
    "\n",
    "> Utilitzo un l'encoding `utf-8-sig` (UTF with BOM) ja que per llegir un arxiu amb lletres `ç` o `ñ` amb l'encoding `utf-8` donava un error de lectura\n",
    "\n",
    "#### Funció `guardar_txt`\n",
    "\n",
    "Simple, ja que en comptes d'obrir l'arxiu en `read text` l'he d'obrir en 'write text' (`wt`), i per cada entrada del dicionari he de fer un write amb la cadena formatada desitjada\n"
   ]
  },
  {
   "cell_type": "markdown",
   "metadata": {},
   "source": [
    "## Exercici 2: json\n",
    "\n",
    "### Funcio `guardar_json`"
   ]
  },
  {
   "cell_type": "code",
   "execution_count": null,
   "metadata": {},
   "outputs": [],
   "source": [
    "import json\n",
    "\n",
    "def guardar_json(nom_fitxer: str, frequencies: dict) -> None:\n",
    "    \"\"\"\n",
    "    Guarda un diccionari al fitxer indicat en format json\n",
    "    \"\"\"\n",
    "    with open(nom_fitxer, 'wt', encoding=\"utf-8-sig\") as file:\n",
    "        json.dump(frequencies, file)"
   ]
  },
  {
   "cell_type": "code",
   "execution_count": null,
   "metadata": {},
   "outputs": [],
   "source": [
    "guardar_json('test.json', {'a': 1, 'b': 2})"
   ]
  },
  {
   "cell_type": "code",
   "execution_count": null,
   "metadata": {},
   "outputs": [],
   "source": [
    "import json\n",
    "\n",
    "def llegir_json(nom_fitxer: str) -> dict:\n",
    "    \"\"\"\n",
    "    Llegeix l'arxiu en format json i retorna el diccionari que hi representa\n",
    "    \"\"\"\n",
    "    with open(nom_fitxer, 'rt', encoding=\"utf-8-sig\") as file: \n",
    "        resultat = json.load(file)\n",
    "\n",
    "    return resultat"
   ]
  },
  {
   "cell_type": "code",
   "execution_count": null,
   "metadata": {},
   "outputs": [],
   "source": [
    "llegir_json('test.json')"
   ]
  },
  {
   "cell_type": "code",
   "execution_count": null,
   "metadata": {},
   "outputs": [],
   "source": [
    "nom_fitxer='freq_auca.json'\n",
    "frequencies = llegir_llibre('auca.txt')\n",
    "guardar_json(nom_fitxer, frequencies)\n",
    "assert llegir_json(nom_fitxer) == frequencies"
   ]
  },
  {
   "source": [
    "### Explicació \n",
    "\n",
    "No hi ha massa a explicar, ja que utilitzem el mòdul `json` amb les funcions corresponents per escriure el fitxer i recuperar.\n",
    "\n",
    "Podriem posar l'argument de `ident=4` a l'hora de fer el `dump` per tenir una millor lectura del fitxer .json."
   ],
   "cell_type": "markdown",
   "metadata": {}
  },
  {
   "cell_type": "markdown",
   "metadata": {},
   "source": [
    "## Exercici 3: text estructurat"
   ]
  },
  {
   "cell_type": "code",
   "execution_count": null,
   "metadata": {},
   "outputs": [],
   "source": [
    "def llegir_txt(nom_fitxer: str) -> dict:\n",
    "    \"\"\"\n",
    "    Llegeix un fitxer de text estructurat on cada linia te el format <lletra>(tabulacio)<numero>\n",
    "    \"\"\"\n",
    "    diccionari = {}\n",
    "    with open(nom_fitxer, 'rt', encoding=\"utf-8-sig\") as file:\n",
    "        for line in file:\n",
    "            lletra, numero = line.strip().split('\\t') # neteixo d'espais i separo per tabulacions\n",
    "            diccionari[lletra] = int(numero) # afegeixo al diccionari\n",
    "\n",
    "    return diccionari\n"
   ]
  },
  {
   "cell_type": "code",
   "execution_count": null,
   "metadata": {},
   "outputs": [],
   "source": [
    "frequencies = llegir_llibre('auca.txt')\n",
    "nom_fitxer = 'freq_auca.txt'\n",
    "guardar_txt(nom_fitxer, frequencies)\n",
    "assert llegir_txt(nom_fitxer) == frequencies"
   ]
  },
  {
   "source": [
    "### Explicacio\n",
    "\n",
    "Igual que a la funcio `guardar_txt` ho escric amb un format, aqui ho recupero dividint i convertint"
   ],
   "cell_type": "markdown",
   "metadata": {}
  },
  {
   "cell_type": "markdown",
   "metadata": {},
   "source": [
    "## Exercici 4: CSV"
   ]
  },
  {
   "cell_type": "code",
   "execution_count": null,
   "metadata": {},
   "outputs": [],
   "source": [
    "import csv\n",
    "\n",
    "def guardar_csv(nom_fitxer: str, frequencies: dict) -> None:\n",
    "    \"\"\"\n",
    "    Guarda un diccionari al fitxer indicat en format csv separat per ;\n",
    "    \"\"\"\n",
    "    with open(nom_fitxer, 'wt', encoding=\"utf-8-sig\", newline='') as file: # newline='' per evitar tenir una linea buida extra\n",
    "        writer = csv.writer(file, delimiter=';')\n",
    "        writer.writerows(frequencies.items())"
   ]
  },
  {
   "cell_type": "code",
   "execution_count": null,
   "metadata": {},
   "outputs": [],
   "source": [
    "def llegir_csv(nom_fitxer: str) -> dict:\n",
    "    \"\"\"\n",
    "    Llegeix un csv que te dues columnes separades per ; on la segona haurà de ser un número i ho interpreta en un diccionari\n",
    "    \"\"\"\n",
    "    with open(nom_fitxer, 'rt', encoding=\"utf-8-sig\") as file:\n",
    "        reader = csv.reader(file, delimiter=';') # llegeixo amb el delimitador qu ehe posat\n",
    "        diccionari = dict( (k, int(v)) for (k, v) in reader) # per cada element al reader creo un diccionari clau valor\n",
    "    return diccionari"
   ]
  },
  {
   "cell_type": "code",
   "execution_count": null,
   "metadata": {},
   "outputs": [],
   "source": [
    "frequencies = llegir_llibre('auca.txt')\n",
    "nom_fitxer = 'freq_auca.csv'\n",
    "guardar_csv(nom_fitxer, frequencies)\n",
    "assert llegir_csv(nom_fitxer) == frequencies"
   ]
  },
  {
   "source": [
    "### Explicacions\n",
    "\n",
    "Utilitzo les funcions del mòdul `csv` per escriure i llegir. A l'hora de llegir haurè de convertir les dades numeriques a numeros"
   ],
   "cell_type": "markdown",
   "metadata": {}
  },
  {
   "cell_type": "markdown",
   "metadata": {},
   "source": [
    "## Pregunta\n",
    "\n",
    "* **Podeu fer servir el segon program dels exercicis 2, 3 i 4 per llegir fitxers d’altres exercicis? Raoneula resposta**\n",
    "\n",
    "Generalment no es podria fer, ja que una llibreria dedicada a la lectura d'un format no ha de saber com es fa la lectura per un altre format. Pero hi han excepcions.  \n",
    "\n",
    "En el nostre cas l'excepció que hi ha es el `llegir_text` i el `llegir_csv` ja que hem programat l'escriptura del text d'una forma molt semblant al csv, ja que el delimitador seria la tabulació."
   ]
  },
  {
   "cell_type": "markdown",
   "metadata": {},
   "source": [
    "Per cert, ja us val, aixó de posar una entrega per la última hora de l'ultim dia. Bones festes."
   ]
  }
 ],
 "metadata": {
  "kernelspec": {
   "display_name": "Python 3",
   "language": "python",
   "name": "python3"
  },
  "language_info": {
   "codemirror_mode": {
    "name": "ipython",
    "version": 3
   },
   "file_extension": ".py",
   "mimetype": "text/x-python",
   "name": "python",
   "nbconvert_exporter": "python",
   "pygments_lexer": "ipython3",
   "version": "3.8.3-final"
  }
 },
 "nbformat": 4,
 "nbformat_minor": 2
}