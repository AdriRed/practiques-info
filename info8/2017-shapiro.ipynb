{
 "cells": [
  {
   "cell_type": "markdown",
   "metadata": {},
   "source": [
    "# Exercici 1"
   ]
  },
  {
   "cell_type": "code",
   "execution_count": 13,
   "metadata": {},
   "outputs": [
    {
     "name": "stdout",
     "output_type": "stream",
     "text": [
      "UNIFORM: 0.0033593797124922276\n",
      "GAUSS: 0.5084587931632996\n"
     ]
    }
   ],
   "source": [
    "import random as rnd\n",
    "import scipy.stats as st\n",
    "\n",
    "# uniforme\n",
    "llista_uni = []\n",
    "for i in range(100):\n",
    "    llista_uni.append(rnd.uniform(0, 1))\n",
    "\n",
    "# normal (gauss)\n",
    "llista_norm = []\n",
    "for i in range(100):\n",
    "    llista_norm.append(rnd.gauss(0, 1))\n",
    "    \n",
    "(w, p_uni) = st.shapiro(llista_uni)\n",
    "(w, p_norm) = st.shapiro(llista_norm)\n",
    "\n",
    "print(\"UNIFORM: \" + str(p_uni))\n",
    "print(\"GAUSS: \" + str(p_norm))\n"
   ]
  },
  {
   "cell_type": "markdown",
   "metadata": {},
   "source": [
    "# Exercici 2"
   ]
  },
  {
   "cell_type": "code",
   "execution_count": 18,
   "metadata": {},
   "outputs": [
    {
     "data": {
      "text/plain": [
       "3.0"
      ]
     },
     "execution_count": 18,
     "metadata": {},
     "output_type": "execute_result"
    }
   ],
   "source": [
    "def test_uniform(N):\n",
    "    \"\"\"\n",
    "    pon docstring perro\n",
    "    \"\"\"\n",
    "    llista = []\n",
    "    for i in range(N):\n",
    "        llista.append(rnd.uniform(0, 1))\n",
    "    (w, p) = st.shapiro(llista)\n",
    "    return p\n",
    "\n",
    "def test_normal(N):\n",
    "    \"\"\"\n",
    "    pon docstring perro\n",
    "    \"\"\"\n",
    "    llista = []\n",
    "    for i in range(N):\n",
    "        llista.append(rnd.gauss(0, 1))\n",
    "    (w, p) = st.shapiro(llista)\n",
    "    return p\n",
    "\n",
    "def mitjana(llista):\n",
    "    \"\"\"\n",
    "    docstring\n",
    "    \"\"\"\n",
    "    \n",
    "#     for element in llista:\n",
    "#         sumatori = sumatori + element\n",
    "    \n",
    "    return sum(llista) / len(llista)\n",
    "\n",
    "mitjana([1, 2, 3, 4, 5])"
   ]
  },
  {
   "cell_type": "markdown",
   "metadata": {},
   "source": [
    "# Exercici 3"
   ]
  },
  {
   "cell_type": "code",
   "execution_count": 21,
   "metadata": {},
   "outputs": [
    {
     "name": "stdout",
     "output_type": "stream",
     "text": [
      "MITJANA NORMAL: 0.5134680265380884\n",
      "MITJANA UNIFORM: 0.00295568533398\n"
     ]
    }
   ],
   "source": [
    "llista_p_norm = []\n",
    "for i in range(500):\n",
    "    llista_p_norm.append(test_normal(100))\n",
    "\n",
    "llista_p_uni = []\n",
    "for i in range(500):\n",
    "    llista_p_uni.append(test_uniform(100))\n",
    "    \n",
    "mitjana_p_norm = mitjana(llista_p_norm)\n",
    "mitjana_p_uni = mitjana(llista_p_uni)\n",
    "\n",
    "print(\"MITJANA NORMAL: \" + str(mitjana_p_norm))\n",
    "print(\"MITJANA UNIFORM: \" + str(mitjana_p_uni))"
   ]
  },
  {
   "cell_type": "markdown",
   "metadata": {},
   "source": [
    "# Exercici 4"
   ]
  },
  {
   "cell_type": "code",
   "execution_count": 30,
   "metadata": {},
   "outputs": [
    {
     "data": {
      "text/plain": [
       "(array([461.,  19.,  10.,   2.,   2.,   1.,   2.,   1.,   1.,   1.]),\n",
       " array([3.64415382e-06, 8.54265913e-03, 1.70816741e-02, 2.56206891e-02,\n",
       "        3.41597040e-02, 4.26987190e-02, 5.12377340e-02, 5.97767490e-02,\n",
       "        6.83157639e-02, 7.68547789e-02, 8.53937939e-02]),\n",
       " <a list of 10 Patch objects>)"
      ]
     },
     "execution_count": 30,
     "metadata": {},
     "output_type": "execute_result"
    },
    {
     "data": {
      "image/png": "[encoded data removed]",
      "text/plain": [
       "<Figure size 432x288 with 2 Axes>"
      ]
     },
     "metadata": {
      "needs_background": "light"
     },
     "output_type": "display_data"
    }
   ],
   "source": [
    "%matplotlib inline\n",
    "import matplotlib.pyplot as plt\n",
    "\n",
    "plt.subplot(1, 2, 1)\n",
    "plt.xlim(0, 1)\n",
    "plt.xlabel(\"Normal\")\n",
    "plt.hist(llista_p_norm)\n",
    "plt.subplot(1, 2, 2)\n",
    "\n",
    "plt.xlabel(\"Uniform\")\n",
    "plt.xlim(0, 1)\n",
    "plt.hist(llista_p_uni)\n"
   ]
  },
  {
   "cell_type": "markdown",
   "metadata": {},
   "source": [
    "# Exercici 5"
   ]
  },
  {
   "cell_type": "code",
   "execution_count": 36,
   "metadata": {
    "scrolled": true
   },
   "outputs": [
    {
     "name": "stdout",
     "output_type": "stream",
     "text": [
      "Valor decimal entre 0 i 1: 0.5\n",
      "Valor decimal entre 0 i 1: 0.4\n",
      "Valor decimal entre 0 i 1: 0.3\n",
      "Valor decimal entre 0 i 1: 0.4\n",
      "Valor decimal entre 0 i 1: 0.001\n",
      "Valor decimal entre 0 i 1: 0.4\n",
      "Valor decimal entre 0 i 1: 0.3\n",
      "Valor decimal entre 0 i 1: 0.4\n",
      "Valor decimal entre 0 i 1: 0.5\n",
      "Valor decimal entre 0 i 1: 0.3\n",
      "XD ShapiroResult(statistic=0.8075660467147827, pvalue=0.017914600670337677)\n"
     ]
    }
   ],
   "source": [
    "def demanar_float():\n",
    "    valid = False\n",
    "    while not valid:\n",
    "        try:\n",
    "            valor = float(input(\"Valor decimal entre 0 i 1: \"))\n",
    "            if (0 <= valor <= 1):\n",
    "                valid=True\n",
    "            else:\n",
    "                print(\"Valor fora del rang 0, 1\")\n",
    "        except:\n",
    "            print(\"Entrada no valida\")\n",
    "    \n",
    "    return valor\n",
    "\n",
    "\n",
    "llista = []\n",
    "for i in range(10):\n",
    "    llista.append(demanar_float())\n",
    "\n",
    "shapiro = st.shapiro(llista)\n",
    "\n",
    "print(\"XD \" + str(shapiro))"
   ]
  },
  {
   "cell_type": "code",
   "execution_count": 46,
   "metadata": {},
   "outputs": [
    {
     "data": {
      "text/plain": [
       "[0, -1, -2, -3, -4, -5, -6, -7, -8, -9]"
      ]
     },
     "execution_count": 46,
     "metadata": {},
     "output_type": "execute_result"
    }
   ],
   "source": [
    "def negatiu(num):\n",
    "    return -num\n",
    "\n",
    "numeros = list(range(10))\n",
    "\n",
    "list(map(negatiu, numeros))"
   ]
  },
  {
   "cell_type": "code",
   "execution_count": null,
   "metadata": {},
   "outputs": [],
   "source": []
  }
 ],
 "metadata": {
  "kernelspec": {
   "display_name": "Python 3",
   "language": "python",
   "name": "python3"
  },
  "language_info": {
   "codemirror_mode": {
    "name": "ipython",
    "version": 3
   },
   "file_extension": ".py",
   "mimetype": "text/x-python",
   "name": "python",
   "nbconvert_exporter": "python",
   "pygments_lexer": "ipython3",
   "version": "3.8.3"
  }
 },
 "nbformat": 4,
 "nbformat_minor": 4
}
