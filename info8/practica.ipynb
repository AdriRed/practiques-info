{
 "metadata": {
  "language_info": {
   "codemirror_mode": {
    "name": "ipython",
    "version": 3
   },
   "file_extension": ".py",
   "mimetype": "text/x-python",
   "name": "python",
   "nbconvert_exporter": "python",
   "pygments_lexer": "ipython3",
   "version": "3.8.3-final"
  },
  "orig_nbformat": 2,
  "kernelspec": {
   "name": "python3",
   "display_name": "Python 3",
   "language": "python"
  }
 },
 "nbformat": 4,
 "nbformat_minor": 2,
 "cells": [
  {
   "source": [
    "# Pràctica 8: fitxers\n",
    "\n",
    "##### Adrià Rojo\n",
    "\n",
    "---\n"
   ],
   "cell_type": "markdown",
   "metadata": {}
  },
  {
   "source": [
    "## Exercici 1: fitxers de text bàsics\n",
    "\n",
    "### Funció `contar_caracters` i `substituir_accent`"
   ],
   "cell_type": "markdown",
   "metadata": {}
  },
  {
   "cell_type": "code",
   "execution_count": 1,
   "metadata": {},
   "outputs": [],
   "source": [
    "import string\n",
    "\n",
    "def substituir_accent(lletra: str) -> str:\n",
    "    \"\"\"\n",
    "    Substitueix la vocal accentuada (accents simples '`' '´') per una vocal no accentuades\n",
    "    \"\"\"\n",
    "    if (lletra in 'àá'):\n",
    "        lletra = 'a'\n",
    "    elif (lletra in 'èé'):\n",
    "        lletra = 'e'\n",
    "    elif (lletra in 'ìí'):\n",
    "        lletra = 'i'\n",
    "    elif (lletra in 'òó'):\n",
    "        lletra = 'o'\n",
    "    elif (lletra in 'ùú'):\n",
    "        lletra = 'u'\n",
    "\n",
    "    return lletra\n",
    "\n",
    "def contar_caracters(cadena: str) -> dict:\n",
    "    \"\"\"\n",
    "    Conta els caracters (sense distinguir minuscules de majuscules) i retorna un diccionari amb les ocurrències de cada caràcter\n",
    "    \"\"\"\n",
    "    cadena = cadena.lower() # a minuscules tot\n",
    "\n",
    "    diccionari = {}\n",
    "\n",
    "    for caracter in cadena:\n",
    "        caracter = substituir_accent(caracter) # substitueixo accent\n",
    "        if caracter not in string.ascii_lowercase + 'ñç': # comprovació si es lletra controlada, equivalent a 'abcdefghijklmnopqrstuvwxyzñç'\n",
    "            continue\n",
    "\n",
    "        if caracter not in diccionari: # si no existeix l'entrada, la creo amb 0\n",
    "            diccionari[caracter] = 0\n",
    "        diccionari[caracter] += 1 # augmento\n",
    "\n",
    "    return diccionari"
   ]
  },
  {
   "source": [
    "### Tests"
   ],
   "cell_type": "markdown",
   "metadata": {}
  },
  {
   "cell_type": "code",
   "execution_count": 2,
   "metadata": {},
   "outputs": [],
   "source": [
    "assert contar_caracters(\"hola\") == {'a':1,'h':1,'l':1,'o':1}\n",
    "assert contar_caracters(\"muricec\") == {'c':2,'e':1,'i':1,'m':1,'r':1,'u':1}\n",
    "assert contar_caracters(\"Ratapinyada\") == {'a':4,'d':1,'i':1,'n':1,'p':1,'r':1,'t':1,'y':1}"
   ]
  },
  {
   "source": [
    "### Funció `llegir_llibre`"
   ],
   "cell_type": "markdown",
   "metadata": {}
  },
  {
   "cell_type": "code",
   "execution_count": 3,
   "metadata": {},
   "outputs": [],
   "source": [
    "\n",
    "def llegir_llibre(nom_fitxer: str) -> dict:\n",
    "    \"\"\"\n",
    "    Obre un fitxer de text i conta les ocurrències de les lletres, retornant un diccionari (només compta les lletres de la constant string.ascii_lowercase al mòdul string)\n",
    "    \"\"\"\n",
    "    diccionari = {}\n",
    "    with open(nom_fitxer, 'rt', encoding='utf-8-sig') as fitxer:\n",
    "        for line in fitxer.readlines():\n",
    "            resultat_diccionari = contar_caracters(line)\n",
    "            for k in resultat_diccionari:\n",
    "                if k not in diccionari: # si no existeix l'entrada, la creo amb 0\n",
    "                    diccionari[k] = 0\n",
    "                diccionari[k] += resultat_diccionari[k] # sumo les occurrencies\n",
    "            \n",
    "    return diccionari\n"
   ]
  },
  {
   "cell_type": "code",
   "execution_count": 4,
   "metadata": {},
   "outputs": [
    {
     "output_type": "execute_result",
     "data": {
      "text/plain": [
       "{'t': 11068,\n",
       " 'h': 7415,\n",
       " 'e': 14308,\n",
       " 'p': 1990,\n",
       " 'r': 7696,\n",
       " 'o': 9959,\n",
       " 'j': 376,\n",
       " 'c': 2754,\n",
       " 'g': 2266,\n",
       " 'u': 4092,\n",
       " 'n': 7502,\n",
       " 'b': 2026,\n",
       " 'k': 990,\n",
       " 'f': 2481,\n",
       " 'm': 3816,\n",
       " 'a': 9162,\n",
       " 'd': 4449,\n",
       " 'l': 5292,\n",
       " 'i': 7866,\n",
       " 'y': 2940,\n",
       " 'w': 2865,\n",
       " 's': 7393,\n",
       " 'v': 1172,\n",
       " 'x': 160,\n",
       " 'z': 35,\n",
       " 'q': 76}"
      ]
     },
     "metadata": {},
     "execution_count": 4
    }
   ],
   "source": [
    "llegir_llibre('romeo.txt')"
   ]
  },
  {
   "source": [
    "llegir_llibre('auca.txt')"
   ],
   "cell_type": "code",
   "metadata": {},
   "execution_count": 5,
   "outputs": [
    {
     "output_type": "execute_result",
     "data": {
      "text/plain": [
       "{'t': 14250,\n",
       " 'h': 2678,\n",
       " 'e': 32678,\n",
       " 'p': 6039,\n",
       " 'r': 17215,\n",
       " 'o': 13730,\n",
       " 'j': 1027,\n",
       " 'c': 6370,\n",
       " 'g': 3268,\n",
       " 'u': 9826,\n",
       " 'n': 16416,\n",
       " 'b': 2753,\n",
       " 'k': 135,\n",
       " 'f': 2390,\n",
       " 'l': 14884,\n",
       " 'a': 30910,\n",
       " 'd': 8465,\n",
       " 's': 17573,\n",
       " 'y': 1073,\n",
       " 'v': 5388,\n",
       " 'i': 16572,\n",
       " 'ñ': 11,\n",
       " 'w': 277,\n",
       " 'm': 6512,\n",
       " 'x': 1076,\n",
       " 'q': 3933,\n",
       " 'ç': 308,\n",
       " 'z': 96}"
      ]
     },
     "metadata": {},
     "execution_count": 5
    }
   ]
  },
  {
   "source": [
    "### Funció `guardar_txt`"
   ],
   "cell_type": "markdown",
   "metadata": {}
  },
  {
   "cell_type": "code",
   "execution_count": 6,
   "metadata": {},
   "outputs": [],
   "source": [
    "def guardar_txt(nom_fitxer: str, frequencies: dict) -> None:\n",
    "    \"\"\"\n",
    "    Donat un nom de fitxer i un diccionari del tipus {str: int}, crea un fitxer que representa aquest diccionari amb el format 'clau{tabulacio}valor'\n",
    "    \"\"\"\n",
    "    with open(nom_fitxer, 'wt', encoding='utf-8-sig') as file:\n",
    "        for i in frequencies: # per cada clau de les frequencies\n",
    "            file.write('{:s}\\t{:d}\\n'.format(i, frequencies[i])) # ho escric a l'arxiu"
   ]
  },
  {
   "cell_type": "code",
   "execution_count": 7,
   "metadata": {},
   "outputs": [
    {
     "output_type": "stream",
     "text": [
      "ï»¿t\t14250\n",
      "h\t2678\n",
      "e\t32678\n",
      "p\t6039\n",
      "r\t17215\n",
      "o\t13730\n",
      "j\t1027\n",
      "c\t6370\n",
      "g\t3268\n",
      "u\t9826\n",
      "n\t16416\n",
      "b\t2753\n",
      "k\t135\n",
      "f\t2390\n",
      "l\t14884\n",
      "a\t30910\n",
      "d\t8465\n",
      "s\t17573\n",
      "y\t1073\n",
      "v\t5388\n",
      "i\t16572\n",
      "Ã±\t11\n",
      "w\t277\n",
      "m\t6512\n",
      "x\t1076\n",
      "q\t3933\n",
      "Ã§\t308\n",
      "z\t96\n"
     ],
     "name": "stdout"
    }
   ],
   "source": [
    "freq = llegir_llibre('auca.txt')\n",
    "guardar_txt('freq_auca.txt', freq)\n",
    "%less freq_auca.txt"
   ]
  },
  {
   "cell_type": "code",
   "execution_count": 8,
   "metadata": {},
   "outputs": [
    {
     "output_type": "stream",
     "text": [
      "ï»¿t\t11068\n",
      "h\t7415\n",
      "e\t14308\n",
      "p\t1990\n",
      "r\t7696\n",
      "o\t9959\n",
      "j\t376\n",
      "c\t2754\n",
      "g\t2266\n",
      "u\t4092\n",
      "n\t7502\n",
      "b\t2026\n",
      "k\t990\n",
      "f\t2481\n",
      "m\t3816\n",
      "a\t9162\n",
      "d\t4449\n",
      "l\t5292\n",
      "i\t7866\n",
      "y\t2940\n",
      "w\t2865\n",
      "s\t7393\n",
      "v\t1172\n",
      "x\t160\n",
      "z\t35\n",
      "q\t76\n"
     ],
     "name": "stdout"
    }
   ],
   "source": [
    "freq = llegir_llibre('romeo.txt')\n",
    "guardar_txt('freq_romeo.txt', freq)\n",
    "%less freq_romeo.txt"
   ]
  },
  {
   "source": [
    "### Explicació\n",
    "\n",
    "#### Funció `contar_caracters`\n",
    "\n",
    "1. Passem la cadena a minuscules\n",
    "2. Creem un diccionari vuit\n",
    "\n",
    "I ara lletra a lletra de la cadena\n",
    "\n",
    "3. Substituim la possible vocal accentuada per una vocal no accentuada\n",
    "4. Comprovem que es un caracter controlat veient si la cadena constant `ascii_lowercase` del mòdul `string`, sumant-hi les lletres `ç` i `ñ`, conté la lletra actual\n",
    "5. Si resulta que el diccionari no tè una entrada per la lletra actual la iniciem amb 0\n",
    "6. Augmentem en 1 la frecuencia de la lletra al diccionari\n",
    "\n",
    "> Faria falta dir a l'enunciat que s'ha de fer `import string`\n",
    "\n",
    "#### Funció `substituir_accent`\n",
    "\n",
    "És bastant simple, ja que només fa la substitució i si no, la retorna tal qual \n",
    "\n",
    "#### Funció `llegir_llibre`\n",
    "\n",
    "Utilitzant la sentencia `with`, amb l'`open` obrim l'arxiu en mode 'read text' (`rt`) i línea a linea anem executant la funció de `contar_caracters` i amb el diccionari que retorna anem actualitzant el diccionari general.\n",
    "\n",
    "> Utilitzo un l'encoding utf-8-sig (UTF 8 amb BOM) ja que per llegir un arxiu amb lletres `ç` o `ñ` amb l'encoding 'utf-8' donava un error de lectura\n",
    "\n",
    "#### Funció `guardar_txt`\n",
    "\n",
    "Simple, ja que en comptes d'obrir l'arxiu en `read text` l'he d'obrir en 'write text' (`wt`), i per cada entrada del dicionari he de fer un write amb la cadena formatada desitjada\n"
   ],
   "cell_type": "markdown",
   "metadata": {}
  },
  {
   "source": [
    "## Exercici 2: json\n",
    "\n",
    "### Funcio `guardar_json`"
   ],
   "cell_type": "markdown",
   "metadata": {}
  },
  {
   "cell_type": "code",
   "execution_count": 9,
   "metadata": {},
   "outputs": [],
   "source": [
    "import json\n",
    "\n",
    "def guardar_json(nom_fitxer: str, frequencies: dict) -> None:\n",
    "    with open(nom_fitxer, 'wt', encoding='utf-8-sig') as file:\n",
    "        json.dump(frequencies, file, indent=4)"
   ]
  },
  {
   "cell_type": "code",
   "execution_count": 10,
   "metadata": {},
   "outputs": [],
   "source": [
    "guardar_json('test.json', {'a': 1, 'b': 2})"
   ]
  },
  {
   "cell_type": "code",
   "execution_count": 11,
   "metadata": {},
   "outputs": [],
   "source": [
    "import json\n",
    "\n",
    "def llegir_json(nom_fitxer: str) -> dict:\n",
    "    with open(nom_fitxer, 'rt', encoding='utf-8-sig') as file: \n",
    "        resultat = json.load(file)\n",
    "\n",
    "    return resultat"
   ]
  },
  {
   "cell_type": "code",
   "execution_count": 12,
   "metadata": {},
   "outputs": [
    {
     "output_type": "execute_result",
     "data": {
      "text/plain": [
       "{'a': 1, 'b': 2}"
      ]
     },
     "metadata": {},
     "execution_count": 12
    }
   ],
   "source": [
    "llegir_json('test.json')"
   ]
  },
  {
   "cell_type": "code",
   "execution_count": 13,
   "metadata": {},
   "outputs": [],
   "source": [
    "nom_fitxer='freq_auca.json'\n",
    "frequencies = llegir_llibre('auca.txt')\n",
    "guardar_json(nom_fitxer, frequencies)\n",
    "assert llegir_json(nom_fitxer) == frequencies"
   ]
  },
  {
   "source": [
    "## Exercici 3: text estructurat"
   ],
   "cell_type": "markdown",
   "metadata": {}
  },
  {
   "cell_type": "code",
   "execution_count": 14,
   "metadata": {},
   "outputs": [],
   "source": [
    "def llegir_txt(nom_fitxer: str) -> dict:\n",
    "    diccionari = {}\n",
    "    with open(nom_fitxer, 'rt', encoding='utf-8-sig') as file:\n",
    "        for line in file.readlines():\n",
    "            [clau, valor] = line.split('\\t')\n",
    "            diccionari[clau] = int(valor)\n",
    "\n",
    "    return diccionari\n"
   ]
  },
  {
   "cell_type": "code",
   "execution_count": 15,
   "metadata": {},
   "outputs": [],
   "source": [
    "frequencies = llegir_llibre('auca.txt')\n",
    "nom_fitxer = 'freq_auca.txt'\n",
    "guardar_txt(nom_fitxer, frequencies)\n",
    "assert llegir_txt(nom_fitxer) == frequencies"
   ]
  },
  {
   "source": [
    "## Exercici 4: CSV"
   ],
   "cell_type": "markdown",
   "metadata": {}
  },
  {
   "cell_type": "code",
   "execution_count": 16,
   "metadata": {},
   "outputs": [],
   "source": [
    "import csv\n",
    "\n",
    "def guardar_csv(nom_fitxer: str, frequencies: dict) -> None:\n",
    "    with open(nom_fitxer, 'wt', encoding='utf-8-sig', newline='') as file:\n",
    "        writer = csv.writer(file, quotechar='\\'')\n",
    "        writer.writerows((i, frequencies[i]) for i in frequencies)"
   ]
  },
  {
   "cell_type": "code",
   "execution_count": 17,
   "metadata": {},
   "outputs": [],
   "source": [
    "def llegir_csv(nom_fitxer: str) -> dict:\n",
    "    with open(nom_fitxer, 'rt', encoding='utf-8-sig') as file:\n",
    "        reader = csv.reader(file, quotechar='\\'')\n",
    "        diccionari = {}\n",
    "        for filera in reader:\n",
    "            diccionari[filera[0]] = int(filera[1])\n",
    "    return diccionari"
   ]
  },
  {
   "cell_type": "code",
   "execution_count": 18,
   "metadata": {},
   "outputs": [],
   "source": [
    "frequencies = llegir_llibre('auca.txt')\n",
    "nom_fitxer = 'freq_auca.csv'\n",
    "guardar_csv(nom_fitxer, frequencies)\n",
    "assert llegir_csv(nom_fitxer) == frequencies"
   ]
  },
  {
   "source": [
    "## Pregunta\n",
    "\n",
    "* **Podeu fer servir el segon program dels exercicis 2, 3 i 4 per llegir fitxers d’altres exercicis? Raoneula resposta**\n",
    "\n",
    "Generalment no es podria fer, ja que una llibreria dedicada a la lectura d'un format no ha de saber com es fa la lectura per un altre format. Pero hi han excepcions.  \n",
    "\n",
    "En el nostre cas l'excepció que hi ha es el `llegir_text` i el `llegir_csv` ja que hem programat l'escriptura del text d'una forma molt semblant al csv, ja que el delimitador seria la tabulació."
   ],
   "cell_type": "markdown",
   "metadata": {}
  },
  {
   "source": [
    "Ja us val, aixó de posar una entrega per la última hora de l'ultim dia. Bones festes."
   ],
   "cell_type": "markdown",
   "metadata": {}
  }
 ]
}