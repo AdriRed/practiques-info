{
 "cells": [
  {
   "cell_type": "markdown",
   "metadata": {},
   "source": [
    "# Exercici 1"
   ]
  },
  {
   "cell_type": "code",
   "execution_count": 3,
   "metadata": {},
   "outputs": [],
   "source": [
    "import random\n",
    "\n",
    "def fer_tauler(n, m):\n",
    "    \"\"\"\n",
    "    crea un tauler de nxn amb numeros enters aleatoris que van d'1 a m\n",
    "    \"\"\"\n",
    "    tauler = []\n",
    "    for i in range(n):\n",
    "        fila= []\n",
    "        for j in range(n):\n",
    "            fila.append(random.randint(1, m))\n",
    "        tauler.append(fila)\n",
    "    \n",
    "    return tauler"
   ]
  },
  {
   "cell_type": "code",
   "execution_count": 6,
   "metadata": {},
   "outputs": [
    {
     "data": {
      "text/plain": [
       "[[5, 7, 9, 2, 5],\n",
       " [5, 4, 4, 10, 2],\n",
       " [2, 3, 9, 5, 9],\n",
       " [8, 7, 4, 5, 4],\n",
       " [5, 10, 7, 8, 10]]"
      ]
     },
     "execution_count": 6,
     "metadata": {},
     "output_type": "execute_result"
    }
   ],
   "source": [
    "fer_tauler(5, 10)"
   ]
  },
  {
   "cell_type": "markdown",
   "metadata": {},
   "source": [
    "# Exercici 2"
   ]
  },
  {
   "cell_type": "code",
   "execution_count": 24,
   "metadata": {},
   "outputs": [],
   "source": [
    "def ensenya_tauler(tauler):\n",
    "    \"\"\"\n",
    "    imprimeix el tauler de forma ordenada per pantalla\n",
    "    \"\"\"\n",
    "    \n",
    "    for linia in tauler:\n",
    "        print(*linia, sep=\"-\")\n",
    "#         for numero in linia:\n",
    "#             print(str(numero) + \" \", end=\"\")\n",
    "#         print()"
   ]
  },
  {
   "cell_type": "code",
   "execution_count": 25,
   "metadata": {},
   "outputs": [
    {
     "name": "stdout",
     "output_type": "stream",
     "text": [
      "2-5-5-7-8\n",
      "6-5-1-7-2\n",
      "6-1-3-6-4\n",
      "5-7-4-2-5\n",
      "4-6-7-8-8\n"
     ]
    }
   ],
   "source": [
    "tauler = fer_tauler(5, 9)\n",
    "ensenya_tauler(tauler)"
   ]
  },
  {
   "cell_type": "code",
   "execution_count": 23,
   "metadata": {},
   "outputs": [
    {
     "name": "stdout",
     "output_type": "stream",
     "text": [
      "Help on built-in function print in module builtins:\n",
      "\n",
      "print(...)\n",
      "    print(value, ..., sep=' ', end='\\n', file=sys.stdout, flush=False)\n",
      "    \n",
      "    Prints the values to a stream, or to sys.stdout by default.\n",
      "    Optional keyword arguments:\n",
      "    file:  a file-like object (stream); defaults to the current sys.stdout.\n",
      "    sep:   string inserted between values, default a space.\n",
      "    end:   string appended after the last value, default a newline.\n",
      "    flush: whether to forcibly flush the stream.\n",
      "\n"
     ]
    }
   ],
   "source": [
    "help(print)"
   ]
  },
  {
   "cell_type": "code",
   "execution_count": null,
   "metadata": {},
   "outputs": [],
   "source": []
  }
 ],
 "metadata": {
  "kernelspec": {
   "display_name": "Python 3",
   "language": "python",
   "name": "python3"
  },
  "language_info": {
   "codemirror_mode": {
    "name": "ipython",
    "version": 3
   },
   "file_extension": ".py",
   "mimetype": "text/x-python",
   "name": "python",
   "nbconvert_exporter": "python",
   "pygments_lexer": "ipython3",
   "version": "3.8.3"
  }
 },
 "nbformat": 4,
 "nbformat_minor": 4
}
