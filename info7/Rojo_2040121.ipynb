{
 "cells": [
  {
   "cell_type": "markdown",
   "metadata": {},
   "source": [
    "# Pràctica 7. Ús de bucles condicionals i funcions amb Tkinter. Tres en ratlla\n",
    "#### Adrià Rojo\n",
    "---"
   ]
  },
  {
   "source": [
    "Defineixo funcions per dibuixar figures des del seu centre"
   ],
   "cell_type": "markdown",
   "metadata": {}
  },
  {
   "cell_type": "code",
   "execution_count": 2,
   "metadata": {},
   "outputs": [],
   "source": [
    "# importo tkinter\n",
    "import tkinter\n",
    "\n",
    "# defineixo funcions útils\n",
    "def crear_cercle(canvas: tkinter.Canvas, x: int, y: int, radi: int, **kwargs) -> None:\n",
    "    \"\"\"\n",
    "    Crea un cercle a les coordenades x i y, amb el radi asignat, al canvas passat per arguments\n",
    "    \"\"\"\n",
    "    canvas.create_oval(x-radi, y-radi, x+radi, y+radi, **kwargs)\n",
    "\n",
    "def crear_rectangle(canvas: tkinter.Canvas, x: int, y: int, llargada: int, altura: int, **kwargs) -> None:\n",
    "    \"\"\"\n",
    "    Crea un rectangle amb el centre a x, y i de llargada i altura asignats\n",
    "    \"\"\"\n",
    "    canvas.create_rectangle(x-llargada/2, y-altura/2, x+llargada/2, y+altura/2, **kwargs)\n",
    "\n",
    "def crear_quadrat(canvas: tkinter.Canvas, x: int, y: int, costat: int, **kwargs) -> None:\n",
    "    \"\"\"\n",
    "    Crea un quadrat amb el centre a x, y i de costat asignats\n",
    "    \"\"\"\n",
    "    canvas.create_rectangle(x-costat/2, y-costat/2, x+costat/2, y+costat/2, **kwargs)\n"
   ]
  },
  {
   "cell_type": "markdown",
   "metadata": {},
   "source": [
    "## Pas 1: Funció demanar un enter"
   ]
  },
  {
   "cell_type": "code",
   "execution_count": 3,
   "metadata": {},
   "outputs": [],
   "source": [
    "def demanar_enter(text: str, min: int = 1, max: int = 3) -> int:\n",
    "    \"\"\"\n",
    "    Demana una entrada numérica a l'usuari amb un text i que estigui dins del rang [min, max]\n",
    "    \"\"\"\n",
    "    entrada = \"\"\n",
    "    while (not entrada.isdigit()) or (not min <= int(entrada) <= max): \n",
    "        # degut al funcionament de l'or, puc comprovar al principi si es un digit primerament\n",
    "        # i quan passa aquesta condició, veure si està dins del rang\n",
    "        entrada = input(text)\n",
    "\n",
    "    return int(entrada)\n"
   ]
  },
  {
   "cell_type": "markdown",
   "metadata": {},
   "source": [
    "## Pas 2: Inicialitzar finestra"
   ]
  },
  {
   "cell_type": "code",
   "execution_count": 4,
   "metadata": {},
   "outputs": [],
   "source": [
    "CANVAS_WIDTH = 600\n",
    "CANVAS_HEIGHT = 600\n",
    "\n",
    "# res a comentar\n",
    "def ini_finestra() -> tkinter.Canvas:\n",
    "    \"\"\"\n",
    "    Inicialitza una finestra blanca 600x600 (CANVAS_WIDTHxCANVAS_HEIGHT) i retorna el root i el canvas\n",
    "    \"\"\"\n",
    "    root = tkinter.Tk()\n",
    "    root.title(\"3 en ratlla\")\n",
    "    canvas = tkinter.Canvas(root,\n",
    "                            background='white',\n",
    "                            height=CANVAS_WIDTH,\n",
    "                            width=CANVAS_HEIGHT)\n",
    "    canvas.pack()\n",
    "    return canvas"
   ]
  },
  {
   "cell_type": "markdown",
   "metadata": {},
   "source": [
    "## Pas 3: Inicialitzar graella\n"
   ]
  },
  {
   "cell_type": "code",
   "execution_count": 5,
   "metadata": {},
   "outputs": [],
   "source": [
    "SIDE_SQUARE = 150\n",
    "OFFSET_TOP = 75\n",
    "OFFSET_LEFT = 75\n",
    "\n",
    "def ini_graella(finestra: tkinter.Canvas, **kwargs) -> None:\n",
    "    \"\"\"\n",
    "    Dibuixa la graella amb quadrats de costat SIDE_SQUARE i amb un offset a cada costat de OFFSET_TOP i OFFSET_LEFT\n",
    "    \"\"\"\n",
    "    # en comptes de fer 4 linies i columens, faig 3x3 rectangles (que es le matiex)\n",
    "    # li afegeixo l'offset de cada costat i mig rectangle per què dibuixo les figures des del seu centre\n",
    "    for i in range(3):\n",
    "        for j in range(3):\n",
    "            crear_quadrat(finestra, OFFSET_LEFT + SIDE_SQUARE/2 + SIDE_SQUARE * i, OFFSET_TOP + SIDE_SQUARE/2 + SIDE_SQUARE * j, SIDE_SQUARE, **kwargs)\n"
   ]
  },
  {
   "cell_type": "markdown",
   "metadata": {},
   "source": [
    "## Pas 4: Marcar casella"
   ]
  },
  {
   "cell_type": "code",
   "execution_count": 6,
   "metadata": {},
   "outputs": [],
   "source": [
    "PLAYER_1 = 1\n",
    "PLAYER_2 = 2\n",
    "\n",
    "def marca_casella(finestra: tkinter.Canvas, columna: int, fila: int, jugador: int) -> None:\n",
    "    \"\"\"\n",
    "    Marca la casella a la fila i la columna asignades pel jugador\n",
    "    \"\"\"\n",
    "    # El calcul es per la mateixa raó que a ini_graella, com la fila i la columna estàn dins del rang [1, 3] he de restar 1 per\n",
    "    # poder-ho dibuixar a dins de la graella\n",
    "    crear_cercle(finestra, OFFSET_LEFT + SIDE_SQUARE/2 + SIDE_SQUARE*(columna-1), OFFSET_TOP+SIDE_SQUARE/2 +SIDE_SQUARE*(fila-1), SIDE_SQUARE/2, fill=(\"red\" if jugador == PLAYER_1 else \"blue\"))\n",
    "\n"
   ]
  },
  {
   "cell_type": "markdown",
   "metadata": {},
   "source": [
    "## Pas 5: Control del ratolí"
   ]
  },
  {
   "cell_type": "code",
   "execution_count": 7,
   "metadata": {},
   "outputs": [],
   "source": [
    "# Funció que s'activa quan es clica el botó esquerre del ratolí\n",
    "def motion(event):\n",
    "    \"\"\"Aquesta funció està preparada per rebre un event de TKinter.Quan es rep l'event s'imprimeixen les coordenades del clica la finestra.\"\"\"\n",
    "    print(\"Mouse position: (%s %s)\" % (event.x, event.y))\n",
    "\n",
    "# Inicialitzem TKinter\n",
    "master = tkinter.Tk()\n",
    "# Posem un missatge de text a la finestra\n",
    "missatge = \"Cliqueu amb el ratolí sobre qualsevol punt de l'area verda. Observeu que s'imprimeixen les coordenades del clic.\"\n",
    "msg = tkinter.Message(master, text = missatge)\n",
    "msg.config(bg='white', font=('times', 24, 'italic'))\n",
    "msg.pack()\n",
    "\n",
    "# Inicialitzem el canvas\n",
    "canvas = tkinter.Canvas(master, borderwidth = 0,background = 'green',height = 300, width = 300)\n",
    "# En la zona del canvas associem el click esquerra del\n",
    "# ratolí a la funció \"motion\"\n",
    "canvas.bind('<ButtonRelease-1>',motion)\n",
    "canvas.pack()\n",
    "# Bucle principal de TKinter. Tanqueu la finestra per acabar.\n",
    "tkinter.mainloop()"
   ]
  },
  {
   "cell_type": "markdown",
   "metadata": {},
   "source": [
    "## Pas 6: Control bàsic del joc"
   ]
  },
  {
   "cell_type": "code",
   "execution_count": 9,
   "metadata": {},
   "outputs": [],
   "source": [
    "# finestres emergents\n",
    "import tkinter.messagebox\n",
    "\n",
    "# definir variables globals\n",
    "jugades = 0\n",
    "acabat = False\n",
    "game = [\n",
    "    [None, None, None],\n",
    "    [None, None, None],\n",
    "    [None, None, None]\n",
    "]\n",
    "current_player = PLAYER_1\n",
    "\n",
    "def check_guanyador() -> bool:\n",
    "    \"\"\"\n",
    "    Comprova la variable game i si hi ha un n-en ratlla retorna True, en cas contrari retorna None\n",
    "    \"\"\"\n",
    "    # Defineixo funcio helper que donat un enumerador returna si tots els elements del mateix son iguals al current_player\n",
    "    def check_linea(linea) -> bool:\n",
    "        return all(x == current_player for x in linea)\n",
    " \n",
    "    for i in range(len(game)): \n",
    "        if (check_linea(game[i]) or check_linea(linea[i] for linea in game)): return True # Miro per cada fila (game[i]) i per cada columna (game[?][i])\n",
    "    \n",
    "    #      miro per la diagonal (game[i][i])                            \n",
    "    #                 |         miro per la diagonal inversa aprofitant que es pot accedir a l'array des del final (game[i][-i-1]) (per exemple game[0][-1])\n",
    "    #                 |                                                                         |\n",
    "    #                 V                                                                         V\n",
    "    return (check_linea(linea[ind] for (ind, linea) in enumerate(game)) or check_linea(linea[-(ind+1)] for (ind, linea) in enumerate(game)))\n",
    "\n",
    "def control_joc(event: tkinter.Event) -> None:\n",
    "    \"\"\"\n",
    "    Executa la logica del joc cada vegada que hi ha un click\n",
    "    \"\"\"\n",
    "    # variables globals (array no ja que es de referencia)\n",
    "    global current_player \n",
    "    global jugades\n",
    "    global acabat\n",
    "    \n",
    "    # si s'ha acabat talla el joc\n",
    "    if (acabat):\n",
    "        return\n",
    "\n",
    "    # agafo la columna i la fila corresponent al ratolí (com veure a quina secció   )\n",
    "    x = int((event.x - OFFSET_LEFT) // SIDE_SQUARE) +1\n",
    "    y = int((event.y - OFFSET_TOP) // SIDE_SQUARE) +1\n",
    "\n",
    "    \n",
    "    # check si el click ha caigut fora de la graella\n",
    "    if not (1 <= x <= len(game) and 1 <= y <= len(game)):\n",
    "        print(\"Fora de linea\")\n",
    "        return\n",
    "        \n",
    "    # check si la casella esta ocupada\n",
    "    if (game[y-1][x-1] != None):\n",
    "        print(\"Casella ocupada\")\n",
    "        return\n",
    "\n",
    "    # tot be: augmentem jugades, asignem casella al jugador i pintem fitxa\n",
    "    jugades += 1\n",
    "    game[y-1][x-1] = current_player\n",
    "    marca_casella(event.widget, x, y, current_player)\n",
    "    \n",
    "    # check el guanyador a partir de la jugada 5 (abans no te sentit)\n",
    "    if (jugades >= (len(game) * 2 -1) and check_guanyador()):\n",
    "        acabat = True\n",
    "        tkinter.messagebox.showinfo(\"Guanyador!\", message=\"Guanyador jugador \" + str(current_player))\n",
    "        return\n",
    "\n",
    "    current_player = PLAYER_2 if current_player == PLAYER_1 else PLAYER_1 \n",
    "    # check de si s'ha acabat el joc\n",
    "    if (jugades == 9):\n",
    "        acabat = True\n",
    "        tkinter.messagebox.showinfo(\"Fi\", message=\"Fi del joc!\")\n",
    "\n",
    "finestra = ini_finestra()\n",
    "ini_graella(finestra)\n",
    "\n",
    "finestra.bind('<ButtonRelease-1>',control_joc)\n",
    "\n",
    "finestra.mainloop()   \n"
   ]
  },
  {
   "source": [
    "## Pas 7: Millores\n",
    "Totes les millores han siguit implementades amb un parell de canvis:\n",
    "* La graella que controla l'estat del joc (variable `game`) marca amb `None` en comptes de `0` quan la casella esta buïda\n",
    "* Faig el check de que una casella està plena\n",
    "* Implemento la funcio `check_guanyador()` per a un joc en ratlla genèric (n-en ratlla) (possiblement hi hagin solucions més fàcils de llegir amb la funció `all()`)\n",
    "---\n",
    "### Explicació del flux de l'exercici\n",
    "\n",
    "Tinc diverses variables de l'estat del joc:\n",
    "\n",
    "* El jugador actual: `current_player`\n",
    "* Quantitat de jugades: `jugades`\n",
    "* Partida acabada: `acabat` de forma que `True` si s'ha acabat o `False` si no\n",
    "* Estat de les caselles: `game`\n",
    "    * De forma que es pot interpretar d'aquesta forma:\n",
    "    ```\n",
    "    |---|---|---|           [\n",
    "    | A | B | C |               [A, B, C],\n",
    "    |---|---|---|\n",
    "    | D | E | F |               [D, E, F],\n",
    "    |---|---|---|\n",
    "    | G | H | I |               [G, H, I]\n",
    "    |---|---|---|           ]\n",
    "\n",
    "    Graella a pantalla      Graella en programació / memòria, implementada amb una llista de llistes\n",
    "                            on hi ha una llista superior que conté fileres, i cada filera és una llista\n",
    "                            amb caselles\n",
    "    ```"
   ],
   "cell_type": "markdown",
   "metadata": {}
  }
 ],
 "metadata": {
  "kernelspec": {
   "display_name": "Python 3",
   "language": "python",
   "name": "python3"
  },
  "language_info": {
   "codemirror_mode": {
    "name": "ipython",
    "version": 3
   },
   "file_extension": ".py",
   "mimetype": "text/x-python",
   "name": "python",
   "nbconvert_exporter": "python",
   "pygments_lexer": "ipython3",
   "version": "3.8.3-final"
  }
 },
 "nbformat": 4,
 "nbformat_minor": 2
}