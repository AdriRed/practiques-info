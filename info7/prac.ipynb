{
 "metadata": {
  "language_info": {
   "codemirror_mode": {
    "name": "ipython",
    "version": 3
   },
   "file_extension": ".py",
   "mimetype": "text/x-python",
   "name": "python",
   "nbconvert_exporter": "python",
   "pygments_lexer": "ipython3",
   "version": "3.8.3-final"
  },
  "orig_nbformat": 2,
  "kernelspec": {
   "name": "python3",
   "display_name": "Python 3"
  }
 },
 "nbformat": 4,
 "nbformat_minor": 2,
 "cells": [
  {
   "source": [
    "# Pràctica 7. Ús de bucles condicionals i funcions amb Tkinter. Tres en ratlla\n",
    "#### Adrià Rojo\n",
    "---"
   ],
   "cell_type": "markdown",
   "metadata": {}
  },
  {
   "cell_type": "code",
   "execution_count": 2,
   "metadata": {},
   "outputs": [],
   "source": [
    "# importo tkinter\n",
    "import tkinter\n",
    "\n",
    "# defineixo funcions útils\n",
    "def crear_cercle(canvas: tkinter.Canvas, x: int, y: int, radi: int, **kwargs) -> None:\n",
    "    \"\"\"\n",
    "    Crea un cercle a les coordenades x i y, amb el radi asignat, al canvas passat per arguments\n",
    "    \"\"\"\n",
    "    canvas.create_oval(x-radi, y-radi, x+radi, y+radi, **kwargs)\n",
    "\n",
    "def crear_rectangle(canvas: tkinter.Canvas, x: int, y: int, llargada: int, altura: int, **kwargs) -> None:\n",
    "    \"\"\"\n",
    "    Crea un rectangle amb el centre a x, y i de llargada i altura asignats\n",
    "    \"\"\"\n",
    "    canvas.create_rectangle(x-llargada/2, y-altura/2, x+llargada/2, y+altura/2, **kwargs)\n",
    "\n",
    "def crear_quadrat(canvas: tkinter.Canvas, x: int, y: int, costat: int, **kwargs) -> None:\n",
    "    \"\"\"\n",
    "    Crea un quadrat amb el centre a x, y i de costat asignats\n",
    "    \"\"\"\n",
    "    canvas.create_rectangle(x-costat/2, y-costat/2, x+costat/2, y+costat/2, **kwargs)\n"
   ]
  },
  {
   "source": [
    "## Pas 1: Funció demanar un enter"
   ],
   "cell_type": "markdown",
   "metadata": {}
  },
  {
   "cell_type": "code",
   "execution_count": 3,
   "metadata": {},
   "outputs": [],
   "source": [
    "def demanar_enter(text: str, min: int = 1, max: int = 3) -> int:\n",
    "    \"\"\"\n",
    "    Demana una entrada numérica a l'usuari amb un text i que estigui dins del rang [min, max]\n",
    "    \"\"\"\n",
    "    entrada = \"\"\n",
    "    while (not entrada.isdigit()) or (not min <= int(entrada) <= max):\n",
    "        entrada = input(text)\n",
    "\n",
    "    return int(entrada)\n"
   ]
  },
  {
   "source": [
    "## Pas 2: Inicialitzar finestra"
   ],
   "cell_type": "markdown",
   "metadata": {}
  },
  {
   "cell_type": "code",
   "execution_count": 9,
   "metadata": {},
   "outputs": [],
   "source": [
    "CANVAS_WIDTH = 600\n",
    "CANVAS_HEIGHT = 600\n",
    "\n",
    "def ini_finestra() -> tkinter.Canvas:\n",
    "    \"\"\"\n",
    "    Inicialitza una finestra blanca 600x600 (CANVAS_WIDTHxCANVAS_HEIGHT) i retorna el root i el canvas\n",
    "    \"\"\"\n",
    "    root = tkinter.Tk()\n",
    "    canvas = tkinter.Canvas(root,\n",
    "                            background='white',\n",
    "                            height=CANVAS_WIDTH,\n",
    "                            width=CANVAS_HEIGHT)\n",
    "    canvas.pack()\n",
    "    return canvas"
   ]
  },
  {
   "source": [
    "## Pas 3: Inicialitzar graella\n"
   ],
   "cell_type": "markdown",
   "metadata": {}
  },
  {
   "cell_type": "code",
   "execution_count": 5,
   "metadata": {},
   "outputs": [],
   "source": [
    "SIDE_SQUARE = 150\n",
    "OFFSET_TOP = 150\n",
    "OFFSET_LEFT = 150\n",
    "\n",
    "def ini_graella(finestra: tkinter.Canvas, **kwargs) -> None:\n",
    "    \"\"\"\n",
    "    Dibuixa la graella amb quadrats de costat SIDE_SQUARE i amb un offset a cada costat de OFFSET_TOP i OFFSET_LEFT\n",
    "    \"\"\"\n",
    "    for i in range(3):\n",
    "        for j in range(3):\n",
    "            crear_quadrat(finestra, OFFSET_LEFT + SIDE_SQUARE * i, OFFSET_TOP + SIDE_SQUARE * j, SIDE_SQUARE, **kwargs)\n"
   ]
  },
  {
   "source": [
    "## Pas 4: Marcar casella"
   ],
   "cell_type": "markdown",
   "metadata": {}
  },
  {
   "cell_type": "code",
   "execution_count": 6,
   "metadata": {},
   "outputs": [],
   "source": [
    "PLAYER_1 = 1\n",
    "PLAYER_2 = 2\n",
    "\n",
    "def marca_casella(finestra: tkinter.Canvas, fila: int, columna: int, jugador: int) -> None:\n",
    "    \"\"\"\n",
    "    Marca la casella a la fila i la columna asignades pel jugador\n",
    "    \"\"\"\n",
    "    crear_cercle(finestra, OFFSET_LEFT + SIDE_SQUARE*(fila-1), OFFSET_TOP+SIDE_SQUARE*(columna-1), SIDE_SQUARE/2, fill=(\"red\" if jugador == PLAYER_1 else \"blue\"))\n",
    "\n"
   ]
  },
  {
   "source": [
    "## Pas 5: Control del ratolí"
   ],
   "cell_type": "markdown",
   "metadata": {}
  },
  {
   "cell_type": "code",
   "execution_count": 7,
   "metadata": {},
   "outputs": [],
   "source": [
    "# Funció que s'activa quan es clica el botó esquerre del ratolí\n",
    "def motion(event):\n",
    "    \"\"\"Aquesta funció està preparada per rebre un event de TKinter.Quan es rep l'event s'imprimeixen les coordenades del clica la finestra.\"\"\"\n",
    "    print(\"Mouse position: (%s %s)\" % (event.x, event.y))\n",
    "\n",
    "# Inicialitzem TKinter\n",
    "master = tkinter.Tk()\n",
    "# Posem un missatge de text a la finestra\n",
    "missatge = \"Cliqueu amb el ratolí sobre qualsevol punt de l'area verda. Observeu que s'imprimeixen les coordenades del clic.\"\n",
    "msg = tkinter.Message(master, text = missatge)\n",
    "msg.config(bg='white', font=('times', 24, 'italic'))\n",
    "msg.pack()\n",
    "\n",
    "# Inicialitzem el canvas\n",
    "canvas = tkinter.Canvas(master, borderwidth = 0,background = 'green',height = 300, width = 300)\n",
    "# En la zona del canvas associem el click esquerra del\n",
    "# ratolí a la funció \"motion\"\n",
    "canvas.bind('<ButtonRelease-1>',motion)\n",
    "canvas.pack()\n",
    "# Bucle principal de TKinter. Tanqueu la finestra per acabar.\n",
    "tkinter.mainloop()"
   ]
  },
  {
   "source": [
    "## Pas 6: Control bàsic del joc"
   ],
   "cell_type": "markdown",
   "metadata": {}
  },
  {
   "cell_type": "code",
   "execution_count": 13,
   "metadata": {},
   "outputs": [],
   "source": [
    "import tkinter.messagebox\n",
    "LIMIT_GRAELLA = 3\n",
    "jugades = 0\n",
    "CURRENT_PLAYER = PLAYER_1\n",
    "\n",
    "def control_joc(event: tkinter.Event) -> None:\n",
    "    global CURRENT_PLAYER \n",
    "    global jugades\n",
    "\n",
    "    x, y = (event.x - OFFSET_LEFT + SIDE_SQUARE/2) // SIDE_SQUARE, (event.y - OFFSET_TOP + SIDE_SQUARE/2) // SIDE_SQUARE\n",
    "\n",
    "    if (jugades >= 9):\n",
    "        return\n",
    "\n",
    "    if not (0 <= x < LIMIT_GRAELLA and 0 <= y < LIMIT_GRAELLA):\n",
    "        return\n",
    "\n",
    "    \n",
    "    marca_casella(event.widget, x+1, y+1, CURRENT_PLAYER)\n",
    "    CURRENT_PLAYER = PLAYER_2 if CURRENT_PLAYER == PLAYER_1 else PLAYER_1 \n",
    "    jugades += 1\n",
    "    if (jugades == 9):\n",
    "        tkinter.messagebox.showinfo(\"Fi\", message=\"Fi del joc!\")\n",
    "\n",
    "finestra = ini_finestra()\n",
    "ini_graella(finestra)\n",
    "\n",
    "finestra.bind('<ButtonRelease-1>',control_joc)\n",
    "\n",
    "\n",
    "\n",
    "finestra.mainloop()"
   ]
  },
  {
   "cell_type": "code",
   "execution_count": null,
   "metadata": {},
   "outputs": [],
   "source": [
    "## Pas 7: Millores"
   ]
  }
 ]
}