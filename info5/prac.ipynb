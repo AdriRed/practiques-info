{
 "metadata": {
  "language_info": {
   "codemirror_mode": {
    "name": "ipython",
    "version": 3
   },
   "file_extension": ".py",
   "mimetype": "text/x-python",
   "name": "python",
   "nbconvert_exporter": "python",
   "pygments_lexer": "ipython3",
   "version": "3.8.3-final"
  },
  "orig_nbformat": 2,
  "kernelspec": {
   "name": "python3",
   "display_name": "Python 3"
  }
 },
 "nbformat": 4,
 "nbformat_minor": 2,
 "cells": [
  {
   "source": [
    "# Sessió introductòria 5: programació gràfica amb Tkinter\n",
    "#### Adrià Rojo \n",
    "---"
   ],
   "cell_type": "markdown",
   "metadata": {}
  },
  {
   "cell_type": "code",
   "execution_count": 1,
   "metadata": {},
   "outputs": [],
   "source": [
    "# Importació de tkinter\n",
    "import tkinter\n",
    "#Importació de display i Markdown per mostrar resultats en tipus Markdown\n",
    "from IPython.display import display, Markdown"
   ]
  },
  {
   "source": [
    "## Comprovació de exemple basic"
   ],
   "cell_type": "markdown",
   "metadata": {}
  },
  {
   "cell_type": "code",
   "execution_count": 2,
   "metadata": {},
   "outputs": [],
   "source": [
    "# Codi de l'enunciat, no el comento per què és una cópia\n",
    "\n",
    "root = tkinter.Tk()\n",
    "\n",
    "finestra = tkinter.Canvas(root,\n",
    "                          borderwidth=20,\n",
    "                          background='white',\n",
    "                          cursor='circle',\n",
    "                          height=240,\n",
    "                          width=320)\n",
    "\n",
    "finestra.pack()\n",
    "\n",
    "finestra.create_line(20, 25,\n",
    "                     50, 30,\n",
    "                     65, 40,\n",
    "                     80, 65,\n",
    "                     100, 150,\n",
    "                     120, 220,\n",
    "                     135, 230,\n",
    "                     200, 280,\n",
    "                     fill='red',\n",
    "                     width=5)\n",
    "\n",
    "finestra.create_rectangle(250,50,300,150,fill='yellow',width=0)\n",
    "\n",
    "finestra.create_oval(100,130,120,170,fill='blue',width=5)\n",
    "\n",
    "finestra.create_polygon(50,50,80,99,80,170,150,170,275,250,outline='black',fill='green',width=5)\n",
    "\n",
    "finestra.create_arc(20,190,120,290,fill='red',outline='cyan',width=5,start=90,extent=130,style=tkinter.CHORD,activefill='pink',activewidth=10)\n",
    "\n",
    "finestra.create_text(150,25,text=\"Hola mon\",fill='red')\n",
    "\n",
    "finestra.mainloop()"
   ]
  },
  {
   "source": [
    "## Exercici 1"
   ],
   "cell_type": "markdown",
   "metadata": {}
  },
  {
   "cell_type": "code",
   "execution_count": 3,
   "metadata": {},
   "outputs": [],
   "source": [
    "root = tkinter.Tk()\n",
    "\n",
    "# Defineixo una funció per crear un cercle\n",
    "# kwargs pels arguments escrits pasar-los a create_oval\n",
    "def crear_cercle(canvas: tkinter.Canvas, x: int, y: int, radi: int, **kwargs) -> None:\n",
    "    \"\"\"Crea un cercle a les coordenades x i y, amb el radi asignat, al canvas passat per arguments\"\"\"\n",
    "    canvas.create_oval(x-radi, y-radi, x+radi, y+radi, **kwargs)\n",
    "    \n",
    "\n",
    "canvas = tkinter.Canvas(root,\n",
    "                          background='white',\n",
    "                          height=240,\n",
    "                          width=320)\n",
    "\n",
    "canvas.pack()\n",
    "# creo un cercle\n",
    "crear_cercle(canvas, 150, 130, 100, fill='red', width=6)\n",
    "\n",
    "root.mainloop()"
   ]
  },
  {
   "source": [
    "Aquest exercici consistia en fer un cercle vermell amb vora gruixuda. La meva aproximació ha sigut fer una funció de fer un cercle ja que la llibreria `tkinter` no implementa create_circle sino create_oval."
   ],
   "cell_type": "markdown",
   "metadata": {}
  },
  {
   "source": [
    "## Exercici 2"
   ],
   "cell_type": "markdown",
   "metadata": {}
  },
  {
   "cell_type": "code",
   "execution_count": 4,
   "metadata": {},
   "outputs": [],
   "source": [
    "\n",
    "# Defineixó la funció que utilitza la anterior funció crear cercle per fer\n",
    "# la forma de la cara i els ulls\n",
    "def dibuixa_cara(finestra: tkinter.Canvas, x: int, y: int, mida: int) -> None:\n",
    "    \"\"\"\n",
    "    Crea una cara a la finestra a les coordenades x i y i de diàmetre mida\n",
    "    \"\"\"\n",
    "    radi = mida/2\n",
    "\n",
    "    crear_cercle(finestra, x, y, radi) # Cara\n",
    "    crear_cercle(finestra, x-radi/2, y-radi/2, radi/4) # Ull dret\n",
    "    crear_cercle(finestra, x+radi/2, y-radi/2, radi/4) # Ull esquerra\n",
    "\n",
    "    finestra.create_polygon(x, y-radi/3, x+radi/8, y, x-radi/8, y, fill='black') # Nas\n",
    "    finestra.create_arc(x-3*radi/4, y, x+3*radi/4, y+radi/2, style=tkinter.ARC, outline='red', start=180, extent=180) # Boca\n",
    "\n",
    "root = tkinter.Tk()\n",
    "\n",
    "canvas = tkinter.Canvas(root,\n",
    "                          background='white',\n",
    "                          height=240,\n",
    "                          width=320)\n",
    "\n",
    "canvas.pack()\n",
    "dibuixa_cara(canvas, 150, 150, 80)\n",
    "root.mainloop()\n"
   ]
  },
  {
   "source": [
    "En aquest, reutilitzo la anterior funció de `crear_cercle` per crear el contorn de la cara, i els dos ulls. Pel nas utilitzo la funció `create_polygon` ja que el nas el dibuixem amb un triangle isòsceles. Pel contorn de la boca utilitzo el create arc que crea un arc dins del rectangle especificat; per defecte et crea un arc de 0 a 90º de forma que n'utilitza només el primer quadrant del rectangle.\n",
    "\n",
    "Creo la funció `dibuixa_cara` de forma que et crea totes les formas a partir del centre de la cara x i y."
   ],
   "cell_type": "markdown",
   "metadata": {}
  },
  {
   "source": [
    "## 1.4 Números aleatoris"
   ],
   "cell_type": "markdown",
   "metadata": {}
  },
  {
   "cell_type": "code",
   "execution_count": 5,
   "metadata": {},
   "outputs": [
    {
     "output_type": "display_data",
     "data": {
      "text/plain": "<IPython.core.display.Markdown object>",
      "text/markdown": "|Iteració|Enter|Decimal|\n|---|---|---|\n|0|1|0.483872|\n|1|2|0.394015|\n|2|3|0.891537|\n|3|2|0.754011|\n|4|2|0.293629|\n|5|1|0.114549|\n|6|2|0.681237|\n|7|1|0.843801|\n|8|1|0.614586|\n|9|3|0.610519|\n"
     },
     "metadata": {}
    }
   ],
   "source": [
    "import random\n",
    "result = \"\"\"|Iteració|Enter|Decimal|\n",
    "|---|---|---|\n",
    "\"\"\"\n",
    "for i in range(10):\n",
    "    enter = random.randint(1, 3)\n",
    "    decimal = random.random()\n",
    "    result += \"|{:d}|{:d}|{:f}|\\n\".format(i, enter, decimal)\n",
    "\n",
    "display(Markdown(result))"
   ]
  },
  {
   "source": [
    "### Comentari de l'execució de números aleatoris\n",
    "\n",
    "La veritat és que no hi ha molt a comentar sobre aquest exemple, ja s'explica a l'enunciat i a l'ajuda de la funció (`help()`), `randint(a, b)` genera números enters aleatoris en l'interval $[a, b]$ i `random()` genera números en l'interval $[0, 1)$ "
   ],
   "cell_type": "markdown",
   "metadata": {}
  },
  {
   "source": [
    "## Exercici 3\n",
    "##### He canviat el gruix maxim a 10 perquè 100 era massa"
   ],
   "cell_type": "markdown",
   "metadata": {}
  },
  {
   "cell_type": "code",
   "execution_count": 6,
   "metadata": {},
   "outputs": [],
   "source": [
    "root = tkinter.Tk()\n",
    "\n",
    "# Constants width i height\n",
    "CANVAS_WIDTH = 320\n",
    "CANVAS_HEIGHT = 240\n",
    "\n",
    "# Redefineixo dibuixa cara (canvi als arguments) per agafar la el gruix i el color\n",
    "def dibuixa_cara(finestra: tkinter.Canvas, x: int, y: int, mida: int, gruix: int = None, color: str = None) -> None:\n",
    "    \"\"\"\n",
    "    Crea una cara a la finestra a les coordenades x i y i de diàmetre mida\n",
    "    \"\"\"\n",
    "    radi = mida/2\n",
    "\n",
    "    crear_cercle(finestra, x, y, radi, outline=color, width=gruix) # Cara\n",
    "    crear_cercle(finestra, x-radi/2, y-radi/2, radi/4, outline=color, width=gruix) # Ull dret\n",
    "    crear_cercle(finestra, x+radi/2, y-radi/2, radi/4, outline=color, width=gruix) # Ull esquerra\n",
    "\n",
    "    finestra.create_polygon(x, y-radi/3, x+radi/8, y, x-radi/8, y, fill=color) # Nas\n",
    "    finestra.create_arc(x-3*radi/4, y, x+3*radi/4, y+radi/2, style=tkinter.ARC, outline=color, start=180, extent=180, width=gruix) # Boca\n",
    "\n",
    "canvas = tkinter.Canvas(root,\n",
    "                          background='white',\n",
    "                          height=CANVAS_HEIGHT,\n",
    "                          width=CANVAS_WIDTH)\n",
    "\n",
    "canvas.pack()\n",
    "\n",
    "# Creo una llista dels colors disponibles\n",
    "random_colors = [\n",
    "    \"black\",\n",
    "    \"red\",\n",
    "    \"green\",\n",
    "    \"blue\",\n",
    "    \"yellow\"\n",
    "]\n",
    "\n",
    "# Dins d'un for creo les cares per evitar repeticio de codi\n",
    "for i in range(10):\n",
    "    # als arguments crido a randint\n",
    "    dibuixa_cara(canvas, \n",
    "        random.randint(0, CANVAS_WIDTH), \n",
    "        random.randint(0, CANVAS_HEIGHT), \n",
    "        random.randint(5, 100), \n",
    "        gruix=random.randint(1, 10), \n",
    "        color=random_colors[random.randint(0, 4)])\n",
    "\n",
    "root.mainloop()\n"
   ]
  },
  {
   "source": [
    "Aquest exercici m'he aproximat de forma que redefineixo la funció `dibuixa_cara` ja que afegeixo dos arguments: color i gruix. Repeteixo codi per veure l'evolució que hi ha amb l'anterior funció. Podria haver implementat alguna aproximació amb els `kwargs` però em va semblar massa ambigu (`outline` pel color de la linia i `fill` pel color del polígon)\n",
    "\n",
    "Amb els colors aleatoris, he escollit crear una llista de colors predefinits i agafant un dels registres de forma aleatòria amb `randint`"
   ],
   "cell_type": "markdown",
   "metadata": {}
  },
  {
   "source": [
    "## 1.5 Data i hora"
   ],
   "cell_type": "markdown",
   "metadata": {}
  },
  {
   "cell_type": "code",
   "execution_count": 7,
   "metadata": {},
   "outputs": [
    {
     "output_type": "display_data",
     "data": {
      "text/plain": "<IPython.core.display.Markdown object>",
      "text/markdown": "|||\n|---|---|\n|Any|2020|\n|Mes|11|\n|Dia|8|\n|Hora|21|\n|Minut|17|\n"
     },
     "metadata": {}
    }
   ],
   "source": [
    "# Importació de datetime\n",
    "from datetime import datetime\n",
    "\n",
    "# Asignació a la variable ara de la variable amb la informació del moment actual\n",
    "ara = datetime.now()\n",
    "\n",
    "# Impressió de resultats\n",
    "display(Markdown(\"\"\"|||\n",
    "|---|---|\n",
    "|Any|{:d}|\n",
    "|Mes|{:d}|\n",
    "|Dia|{:d}|\n",
    "|Hora|{:d}|\n",
    "|Minut|{:d}|\n",
    "\"\"\".format(ara.year, ara.month, ara.day, ara.hour, ara.minute)))"
   ]
  },
  {
   "source": [
    "No hi ha massa a comentar ja que el fucionament de `datetime.now()` és explicat a l'enunciat"
   ],
   "cell_type": "markdown",
   "metadata": {}
  },
  {
   "source": [
    "## Exercici 4"
   ],
   "cell_type": "markdown",
   "metadata": {}
  },
  {
   "cell_type": "code",
   "execution_count": 9,
   "metadata": {},
   "outputs": [],
   "source": [
    "from math import sin, cos, pi\n",
    "\n",
    "# Defineixo constants\n",
    "CANVAS_SIZE = 400\n",
    "CENTER_CLOCK = CANVAS_SIZE/2\n",
    "RADI_CLOCK = CANVAS_SIZE/2-50\n",
    "\n",
    "def polarToCart(ang: float, radi: float) -> (float, float):\n",
    "    \"\"\"\n",
    "    Passa coordenades polars (angle en radians) a coordenades x, y\n",
    "    \"\"\"\n",
    "    return (radi*cos(ang), radi*sin(ang))\n",
    "\n",
    "def relativeCoordToAbsCoord(x: float, y: float) -> (float, float):\n",
    "    \"\"\"\n",
    "    Coordenades relatives a coordenades absolutes (sumar al centre del rellotge)\n",
    "    \"\"\"\n",
    "    x += CENTER_CLOCK\n",
    "    y += CENTER_CLOCK\n",
    "    return (x, y)\n",
    "\n",
    "def ferText(canvas: tkinter.Canvas, angle: float, radi: str, text: str) -> None:\n",
    "    \"\"\"\n",
    "    Crea un text a l'angle indicat amb el radi indicat al canvas indicat \n",
    "    \"\"\"\n",
    "    (x, y) = polarToCart(angle, radi)\n",
    "    (x, y) = relativeCoordToAbsCoord(x, y)\n",
    "\n",
    "    canvas.create_text(x, y, text=text, justify=tkinter.CENTER, anchor=tkinter.CENTER)\n",
    "\n",
    "def ferLinea(canvas: tkinter.Canvas, cx:float, cy:float, angle: float, radi:float, **kwargs) -> None:\n",
    "    \"\"\"\n",
    "    Crea una linea desde cx, cy fins fins les coordenades polars angle i radi\n",
    "    \"\"\"\n",
    "    (x, y) = polarToCart(angle, radi)\n",
    "    (x, y) = relativeCoordToAbsCoord(x, y)\n",
    "    canvas.create_line(cx, cy, x, y, **kwargs)\n",
    "\n",
    "root = tkinter.Tk()\n",
    "\n",
    "canvas = tkinter.Canvas(root,\n",
    "                          background='white',\n",
    "                          height=CANVAS_SIZE,\n",
    "                          width=CANVAS_SIZE)\n",
    "canvas.pack()\n",
    "\n",
    "# utilitzo la funcio definida abans per fer el cercle que farà el rellotge\n",
    "crear_cercle(canvas, CENTER_CLOCK, CENTER_CLOCK, RADI_CLOCK)\n",
    "\n",
    "# Creo els números, començant per la marca del 1 (-pi/2 + pi/6 radians) i avançant un a un amb un pas de de pi/6\n",
    "ang = -pi/2 + pi/6\n",
    "for i in range(1, 13):\n",
    "    # utilitzo el mateix rang per crear els textos que constitueixen les marques de les hores\n",
    "    ferText(canvas, ang, RADI_CLOCK-20, str(i))\n",
    "    ang += pi/6\n",
    "\n",
    "# obtinc l'hora i els minuts actuals\n",
    "ara = datetime.now()\n",
    "# agafo els radians que serien els minuts actuals\n",
    "minuts = -pi/2 + ara.minute *(pi/30)\n",
    "# agafo les hores que serien els minuts actuals i li afegeixo els minuts correspondents\n",
    "# (l'agulla de les hores no s'està parada a l'hora actual sinó que avança a poc a poc amb els minuts)\n",
    "hora = -pi/2 + (ara.hour % 12) * (pi/6) + ara.minute*(pi/360)\n",
    "\n",
    "ang = -pi/2\n",
    "pas = pi / 24\n",
    "for i in range(4*12):\n",
    "    (cx, cy) = polarToCart(ang, RADI_CLOCK-(10 if i % 4 == 0 else 5))\n",
    "    (cx, cy) = relativeCoordToAbsCoord(cx, cy)\n",
    "    (x, y) = polarToCart(ang, RADI_CLOCK)\n",
    "    (x, y) = relativeCoordToAbsCoord(x, y)\n",
    "    canvas.create_line(cx, cy, x, y)\n",
    "    ang += pas\n",
    "\n",
    "# creo les linees de les agulles\n",
    "ferLinea(canvas, CENTER_CLOCK, CENTER_CLOCK, hora,  RADI_CLOCK/3, width=4)\n",
    "ferLinea(canvas, CENTER_CLOCK, CENTER_CLOCK, minuts,  RADI_CLOCK/1.5)\n",
    "\n",
    "root.mainloop()"
   ]
  },
  {
   "cell_type": "code",
   "execution_count": null,
   "metadata": {},
   "outputs": [],
   "source": []
  }
 ]
}