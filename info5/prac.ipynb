{
 "metadata": {
  "language_info": {
   "codemirror_mode": {
    "name": "ipython",
    "version": 3
   },
   "file_extension": ".py",
   "mimetype": "text/x-python",
   "name": "python",
   "nbconvert_exporter": "python",
   "pygments_lexer": "ipython3",
   "version": "3.8.3-final"
  },
  "orig_nbformat": 2,
  "kernelspec": {
   "name": "python3",
   "display_name": "Python 3"
  }
 },
 "nbformat": 4,
 "nbformat_minor": 2,
 "cells": [
  {
   "source": [
    "# Sessió introductòria 5: programació gràfica amb Tkinter\n",
    "#### Adrià Rojo \n",
    "---"
   ],
   "cell_type": "markdown",
   "metadata": {}
  },
  {
   "cell_type": "code",
   "execution_count": 47,
   "metadata": {},
   "outputs": [],
   "source": [
    "# Importació de tkinter\n",
    "import tkinter\n",
    "#Importació de display i Markdown per mostrar resultats en tipus Markdown\n",
    "from IPython.display import display, Markdown"
   ]
  },
  {
   "source": [
    "## Comprovació de exemple basic"
   ],
   "cell_type": "markdown",
   "metadata": {}
  },
  {
   "cell_type": "code",
   "execution_count": 48,
   "metadata": {},
   "outputs": [],
   "source": [
    "# Codi de l'enunciat, no el comento per què és una cópia\n",
    "\n",
    "root = tkinter.Tk()\n",
    "\n",
    "finestra = tkinter.Canvas(root,\n",
    "                          borderwidth=20,\n",
    "                          background='white',\n",
    "                          cursor='circle',\n",
    "                          height=240,\n",
    "                          width=320)\n",
    "\n",
    "finestra.pack()\n",
    "\n",
    "finestra.create_line(20, 25,\n",
    "                     50, 30,\n",
    "                     65, 40,\n",
    "                     80, 65,\n",
    "                     100, 150,\n",
    "                     120, 220,\n",
    "                     135, 230,\n",
    "                     200, 280,\n",
    "                     fill='red',\n",
    "                     width=5)\n",
    "\n",
    "finestra.create_rectangle(250,50,300,150,fill='yellow',width=0)\n",
    "\n",
    "finestra.create_oval(100,130,120,170,fill='blue',width=5)\n",
    "\n",
    "finestra.create_polygon(50,50,80,99,80,170,150,170,275,250,outline='black',fill='green',width=5)\n",
    "\n",
    "finestra.create_arc(20,190,120,290,fill='red',outline='cyan',width=5,start=90,extent=130,style=tkinter.CHORD,activefill='pink',activewidth=10)\n",
    "\n",
    "finestra.create_text(150,25,text=\"Hola mon\",fill='red')\n",
    "\n",
    "finestra.mainloop()"
   ]
  },
  {
   "source": [
    "## Exercici 1"
   ],
   "cell_type": "markdown",
   "metadata": {}
  },
  {
   "cell_type": "code",
   "execution_count": 49,
   "metadata": {},
   "outputs": [],
   "source": [
    "root = tkinter.Tk()\n",
    "\n",
    "# Defineixo una funció per crear un cercle\n",
    "# kwargs pels arguments escrits pasar-los a create_oval\n",
    "def crear_cercle(canvas: tkinter.Canvas, x: int, y: int, radi: int, **kwargs) -> None:\n",
    "    \"\"\"Crea un cercle a les coordenades x i y, amb el radi asignat, al canvas passat per arguments\"\"\"\n",
    "    canvas.create_oval(x-radi, y-radi, x+radi, y+radi, **kwargs)\n",
    "    \n",
    "\n",
    "canvas = tkinter.Canvas(root,\n",
    "                          background='white',\n",
    "                          height=240,\n",
    "                          width=320)\n",
    "\n",
    "canvas.pack()\n",
    "# creo un cercle\n",
    "crear_cercle(canvas, 150, 150, 40, fill='red', width=6)\n",
    "\n",
    "root.mainloop()"
   ]
  },
  {
   "source": [
    "## Exercici 2"
   ],
   "cell_type": "markdown",
   "metadata": {}
  },
  {
   "cell_type": "code",
   "execution_count": 50,
   "metadata": {},
   "outputs": [],
   "source": [
    "\n",
    "# Defineixó la funció que utilitza la anterior funció crear cercle per fer\n",
    "# la forma de la cara i els ulls\n",
    "def dibuixa_cara(finestra: tkinter.Canvas, x: int, y: int, mida: int) -> None:\n",
    "    \"\"\"\n",
    "    Crea una cara a la finestra a les coordenades x i y i de diàmetre mida\n",
    "    \"\"\"\n",
    "    radi = mida/2\n",
    "\n",
    "    crear_cercle(finestra, x, y, radi) # Cara\n",
    "    crear_cercle(finestra, x-radi/2, y-radi/2, radi/4) # Ull dret\n",
    "    crear_cercle(finestra, x+radi/2, y-radi/2, radi/4) # Ull esquerra\n",
    "\n",
    "    finestra.create_polygon(x, y-radi/3, x+radi/8, y, x-radi/8, y, fill='black') # Nas\n",
    "    finestra.create_arc(x-3*radi/4, y, x+3*radi/4, y+radi/2, style=tkinter.ARC, outline='red', start=180, extent=180) # Boca\n",
    "\n",
    "root = tkinter.Tk()\n",
    "\n",
    "canvas = tkinter.Canvas(root,\n",
    "                          background='white',\n",
    "                          height=240,\n",
    "                          width=320)\n",
    "\n",
    "canvas.pack()\n",
    "dibuixa_cara(canvas, 150, 150, 80)\n",
    "root.mainloop()\n"
   ]
  },
  {
   "source": [
    "## 1.4 Números aleatoris"
   ],
   "cell_type": "markdown",
   "metadata": {}
  },
  {
   "cell_type": "code",
   "execution_count": 51,
   "metadata": {},
   "outputs": [
    {
     "output_type": "display_data",
     "data": {
      "text/plain": "<IPython.core.display.Markdown object>",
      "text/markdown": "|Iteració|Enter|Decimal|\n|---|---|---|\n|0|2|0.193662|\n|1|2|0.300969|\n|2|3|0.452068|\n|3|3|0.855816|\n|4|2|0.005378|\n|5|1|0.296391|\n|6|1|0.274901|\n|7|1|0.106810|\n|8|2|0.528068|\n|9|1|0.886294|\n"
     },
     "metadata": {}
    }
   ],
   "source": [
    "import random\n",
    "result = \"\"\"|Iteració|Enter|Decimal|\n",
    "|---|---|---|\n",
    "\"\"\"\n",
    "for i in range(10):\n",
    "    enter = random.randint(1, 3)\n",
    "    decimal = random.random()\n",
    "    result += \"|{:d}|{:d}|{:f}|\\n\".format(i, enter, decimal)\n",
    "\n",
    "display(Markdown(result))"
   ]
  },
  {
   "source": [
    "### Comentari de l'execució de números aleatoris\n",
    "\n",
    "La veritat és que no hi ha molt a comentar sobre aquest exemple, ja s'explica a l'enunciat, `randint(a, b)` genera números enters aleatoris en l'interval $[a, b]$ i `random()` genera números en l'interval $[0, 1)$ "
   ],
   "cell_type": "markdown",
   "metadata": {}
  },
  {
   "source": [
    "## Exercici 3\n",
    "##### He canviat el gruix maxim a 10 perquè 100 era una burrada"
   ],
   "cell_type": "markdown",
   "metadata": {}
  },
  {
   "cell_type": "code",
   "execution_count": 52,
   "metadata": {},
   "outputs": [],
   "source": [
    "root = tkinter.Tk()\n",
    "\n",
    "# Constants width i height\n",
    "CANVAS_WIDTH = 320\n",
    "CANVAS_HEIGHT = 240\n",
    "\n",
    "# Redefineixo dibuixa cara (canvi als arguments) per agafar la el gruix i el color\n",
    "def dibuixa_cara(finestra: tkinter.Canvas, x: int, y: int, mida: int, gruix: int = None, color: str = None) -> None:\n",
    "    \"\"\"\n",
    "    Crea una cara a la finestra a les coordenades x i y i de diàmetre mida\n",
    "    \"\"\"\n",
    "    radi = mida/2\n",
    "\n",
    "    crear_cercle(finestra, x, y, radi, outline=color, width=gruix) # Cara\n",
    "    crear_cercle(finestra, x-radi/2, y-radi/2, radi/4, outline=color, width=gruix) # Ull dret\n",
    "    crear_cercle(finestra, x+radi/2, y-radi/2, radi/4, outline=color, width=gruix) # Ull esquerra\n",
    "\n",
    "    finestra.create_polygon(x, y-radi/3, x+radi/8, y, x-radi/8, y, fill=color) # Nas\n",
    "    finestra.create_arc(x-3*radi/4, y, x+3*radi/4, y+radi/2, style=tkinter.ARC, outline=color, start=180, extent=180, width=gruix) # Boca\n",
    "\n",
    "canvas = tkinter.Canvas(root,\n",
    "                          background='white',\n",
    "                          height=CANVAS_HEIGHT,\n",
    "                          width=CANVAS_WIDTH)\n",
    "\n",
    "canvas.pack()\n",
    "\n",
    "# Creo una llista dels colors disponibles\n",
    "random_colors = [\n",
    "    \"black\",\n",
    "    \"red\",\n",
    "    \"green\",\n",
    "    \"blue\",\n",
    "    \"yellow\"\n",
    "]\n",
    "\n",
    "# Dins d'un for creo les cares per evitar repeticio de codi\n",
    "for i in range(10):\n",
    "    # als arguments crido a randint\n",
    "    dibuixa_cara(canvas, \n",
    "        random.randint(0, CANVAS_WIDTH), \n",
    "        random.randint(0, CANVAS_HEIGHT), \n",
    "        random.randint(5, 100), \n",
    "        gruix=random.randint(1, 10), \n",
    "        color=random_colors[random.randint(0, 4)])\n",
    "\n",
    "root.mainloop()\n"
   ]
  },
  {
   "source": [
    "## 1.5 Data i hora"
   ],
   "cell_type": "markdown",
   "metadata": {}
  },
  {
   "cell_type": "code",
   "execution_count": 68,
   "metadata": {},
   "outputs": [
    {
     "output_type": "display_data",
     "data": {
      "text/plain": "<IPython.core.display.Markdown object>",
      "text/markdown": "|||\n|---|---|\n|Any|2020|\n|Mes|11|\n|Dia|7|\n|Hora|16|\n|Minut|15|\n"
     },
     "metadata": {}
    }
   ],
   "source": [
    "from datetime import datetime\n",
    "\n",
    "ara = datetime.now()\n",
    "display(Markdown(\"\"\"|||\n",
    "|---|---|\n",
    "|Any|{:d}|\n",
    "|Mes|{:d}|\n",
    "|Dia|{:d}|\n",
    "|Hora|{:d}|\n",
    "|Minut|{:d}|\n",
    "\"\"\".format(ara.year, ara.month, ara.day, ara.hour, ara.minute)))"
   ]
  },
  {
   "source": [
    "## Exercici 4"
   ],
   "cell_type": "markdown",
   "metadata": {}
  },
  {
   "cell_type": "code",
   "execution_count": 74,
   "metadata": {},
   "outputs": [],
   "source": [
    "root = tkinter.Tk()\n",
    "\n",
    "CANVAS_SIZE = 400\n",
    "\n",
    "canvas = tkinter.Canvas(root,\n",
    "                          background='white',\n",
    "                          height=CANVAS_SIZE,\n",
    "                          width=CANVAS_SIZE)\n",
    "\n",
    "canvas.pack()\n",
    "\n",
    "crear_cercle(canvas, CANVAS_SIZE/2, CANVAS_SIZE/2, CANVAS_SIZE/2-50)\n",
    "\n",
    "root.mainloop()"
   ]
  },
  {
   "cell_type": "code",
   "execution_count": null,
   "metadata": {},
   "outputs": [],
   "source": []
  }
 ]
}