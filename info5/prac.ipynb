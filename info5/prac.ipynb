{
 "metadata": {
  "language_info": {
   "codemirror_mode": {
    "name": "ipython",
    "version": 3
   },
   "file_extension": ".py",
   "mimetype": "text/x-python",
   "name": "python",
   "nbconvert_exporter": "python",
   "pygments_lexer": "ipython3",
   "version": "3.8.3-final"
  },
  "orig_nbformat": 2,
  "kernelspec": {
   "name": "python3",
   "display_name": "Python 3"
  }
 },
 "nbformat": 4,
 "nbformat_minor": 2,
 "cells": [
  {
   "source": [
    "# Sessió introductòria 5: programació gràfica amb Tkinter\n",
    "#### Adrià Rojo \n",
    "---"
   ],
   "cell_type": "markdown",
   "metadata": {}
  },
  {
   "cell_type": "code",
   "execution_count": 1,
   "metadata": {},
   "outputs": [],
   "source": [
    "# Importació de tkinter\n",
    "import tkinter"
   ]
  },
  {
   "source": [
    "## Comprovació de exemple basic"
   ],
   "cell_type": "markdown",
   "metadata": {}
  },
  {
   "cell_type": "code",
   "execution_count": 3,
   "metadata": {},
   "outputs": [],
   "source": [
    "root = tkinter.Tk()\n",
    "\n",
    "finestra = tkinter.Canvas(root,\n",
    "                          borderwidth=20,\n",
    "                          background='white',\n",
    "                          cursor='circle',\n",
    "                          height=240,\n",
    "                          width=320)\n",
    "\n",
    "finestra.pack()\n",
    "\n",
    "finestra.create_line(20, 25,\n",
    "                     50, 30,\n",
    "                     65, 40,\n",
    "                     80, 65,\n",
    "                     100, 150,\n",
    "                     120, 220,\n",
    "                     135, 230,\n",
    "                     200, 280,\n",
    "                     fill='red',\n",
    "                     width=5)\n",
    "\n",
    "finestra.create_rectangle(250,50,300,150,fill='yellow',width=0)\n",
    "\n",
    "finestra.create_oval(100,130,120,170,fill='blue',width=5)\n",
    "\n",
    "finestra.create_polygon(50,50,80,99,80,170,150,170,275,250,outline='black',fill='green',width=5)\n",
    "\n",
    "finestra.create_arc(20,190,120,290,fill='red',outline='cyan',width=5,start=90,extent=130,style=tkinter.CHORD,activefill='pink',activewidth=10)\n",
    "\n",
    "finestra.create_text(150,25,text=\"Hola mon\",fill='red')\n",
    "\n",
    "finestra.mainloop()"
   ]
  },
  {
   "cell_type": "code",
   "execution_count": null,
   "metadata": {},
   "outputs": [],
   "source": []
  }
 ]
}