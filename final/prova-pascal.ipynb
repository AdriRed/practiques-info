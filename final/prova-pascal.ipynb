{
 "cells": [
  {
   "cell_type": "markdown",
   "metadata": {},
   "source": [
    "# Exercici 1"
   ]
  },
  {
   "cell_type": "code",
   "execution_count": 32,
   "metadata": {},
   "outputs": [
    {
     "data": {
      "text/plain": [
       "[1, 4, 6, 4, 1]"
      ]
     },
     "execution_count": 32,
     "metadata": {},
     "output_type": "execute_result"
    }
   ],
   "source": [
    "def fer_linia(superior): # el primer element i l'ultim son iguals\n",
    "    novalinia = []\n",
    "    novalinia.append(superior[0])\n",
    "    \n",
    "    for i in range(1, len(superior)):\n",
    "        novalinia.append(superior[i-1]+superior[i]) # afegeixo a la linia l'element anterior i l'actual\n",
    "    \n",
    "    novalinia.append(superior[-1]) # index -1 ens dona l'ultim\n",
    "    \n",
    "    return novalinia\n",
    "\n",
    "fer_linia([1, 3, 3, 1])"
   ]
  },
  {
   "cell_type": "markdown",
   "metadata": {},
   "source": [
    "# Exercici 2"
   ]
  },
  {
   "cell_type": "code",
   "execution_count": 33,
   "metadata": {},
   "outputs": [
    {
     "data": {
      "text/plain": [
       "[[1],\n",
       " [1, 1],\n",
       " [1, 2, 1],\n",
       " [1, 3, 3, 1],\n",
       " [1, 4, 6, 4, 1],\n",
       " [1, 5, 10, 10, 5, 1],\n",
       " [1, 6, 15, 20, 15, 6, 1],\n",
       " [1, 7, 21, 35, 35, 21, 7, 1],\n",
       " [1, 8, 28, 56, 70, 56, 28, 8, 1],\n",
       " [1, 9, 36, 84, 126, 126, 84, 36, 9, 1],\n",
       " [1, 10, 45, 120, 210, 252, 210, 120, 45, 10, 1]]"
      ]
     },
     "execution_count": 33,
     "metadata": {},
     "output_type": "execute_result"
    }
   ],
   "source": [
    "def fer_triangle(m):\n",
    "    triangle = [[1]]\n",
    "    for i in range(m):\n",
    "        per_afegir = fer_linia(triangle[-1]) # agafo la ultima linia que he fet i calculo la seguent\n",
    "        triangle.append(per_afegir)\n",
    "    \n",
    "    return triangle\n",
    "\n",
    "fer_triangle(10)"
   ]
  },
  {
   "cell_type": "markdown",
   "metadata": {},
   "source": [
    "# Exercici 3"
   ]
  },
  {
   "cell_type": "code",
   "execution_count": 13,
   "metadata": {},
   "outputs": [],
   "source": [
    "def sierpinski(triangle_p):\n",
    "    triangle_xo = []\n",
    "    for linia in triangle_p:\n",
    "        linia_xo = [] # creo linia nova\n",
    "        for element in linia:\n",
    "            if (element % 2 == 0): # si l'element es parell afegeixo \"o\"\n",
    "                linia_xo.append('o')\n",
    "            else:\n",
    "                linia_xo.append('x') # si l'element es senar afegeixo \"x\"\n",
    "        triangle_xo.append(linia_xo) # una vegada acabada la linia l'afegeixo al triangle\n",
    "    \n",
    "    return triangle_xo\n",
    "\n",
    "def sierpinski_2(triangle_p):\n",
    "    triangle_xo = []\n",
    "    for linia in triangle_p:\n",
    "        triangle_xo.append(['o' if el % 2 == 0 else 'x' for el in linia])\n",
    "    \n",
    "    return triangle_xo\n",
    "\n",
    "def sierpinski_3(triangle_p):\n",
    "    return [['o' if el % 2 == 0 else 'x' for el in linia] for linia in triangle_p]"
   ]
  },
  {
   "cell_type": "code",
   "execution_count": 14,
   "metadata": {},
   "outputs": [
    {
     "data": {
      "text/plain": [
       "[['x'],\n",
       " ['x', 'x'],\n",
       " ['x', 'o', 'x'],\n",
       " ['x', 'x', 'x', 'x'],\n",
       " ['x', 'o', 'o', 'o', 'x'],\n",
       " ['x', 'x', 'o', 'o', 'x', 'x']]"
      ]
     },
     "execution_count": 14,
     "metadata": {},
     "output_type": "execute_result"
    }
   ],
   "source": [
    "l = fer_triangle(5)\n",
    "sierpinski_3(l)"
   ]
  },
  {
   "cell_type": "markdown",
   "metadata": {},
   "source": [
    "## Exercici 4"
   ]
  },
  {
   "cell_type": "code",
   "execution_count": 30,
   "metadata": {},
   "outputs": [],
   "source": [
    "def imprimir_bonic(triangle):\n",
    "    for i in range(len(triangle)):\n",
    "        cadena = \"   \".join(triangle[i]) # l'espaiat entre cada lletra es de 3 espais\n",
    "        espaiat = \"  \"*(len(triangle) - i-1) # el marge que hi ha a cada linia es 2 espais pel pis de la linia -1\n",
    "                        # si el triangle es de 5 pisos, la primera lnia es el pis 5, llavors haurà \"  \" 4 vegades\n",
    "        print(espaiat+cadena)"
   ]
  },
  {
   "cell_type": "code",
   "execution_count": 31,
   "metadata": {},
   "outputs": [
    {
     "name": "stdout",
     "output_type": "stream",
     "text": [
      "          x\n",
      "        x   x\n",
      "      x   o   x\n",
      "    x   x   x   x\n",
      "  x   o   o   o   x\n",
      "x   x   o   o   x   x\n"
     ]
    }
   ],
   "source": [
    "l = fer_triangle(5)\n",
    "s = sierpinski_3(l)\n",
    "imprimir_bonic(s)"
   ]
  },
  {
   "cell_type": "markdown",
   "metadata": {},
   "source": [
    "# Exercici 5"
   ]
  },
  {
   "cell_type": "code",
   "execution_count": 16,
   "metadata": {},
   "outputs": [],
   "source": [
    "def desar_s(m):\n",
    "    tri = fer_triangle(m)\n",
    "    sier = sierpinski(tri)\n",
    "    \n",
    "    with open(\"sierpinski.txt\", \"w\") as file:\n",
    "        for linia in sier:\n",
    "            file.write(\";\".join(linia)+\"\\n\") # ajunto cada element amb ; pel mig\n",
    "    \n",
    "desar_s(10)"
   ]
  },
  {
   "cell_type": "code",
   "execution_count": null,
   "metadata": {},
   "outputs": [],
   "source": []
  }
 ],
 "metadata": {
  "kernelspec": {
   "display_name": "Python 3",
   "language": "python",
   "name": "python3"
  },
  "language_info": {
   "codemirror_mode": {
    "name": "ipython",
    "version": 3
   },
   "file_extension": ".py",
   "mimetype": "text/x-python",
   "name": "python",
   "nbconvert_exporter": "python",
   "pygments_lexer": "ipython3",
   "version": "3.8.3"
  }
 },
 "nbformat": 4,
 "nbformat_minor": 4
}
