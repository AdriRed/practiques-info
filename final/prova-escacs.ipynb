{
 "cells": [
  {
   "cell_type": "markdown",
   "metadata": {},
   "source": [
    "## Exercici 1"
   ]
  },
  {
   "cell_type": "code",
   "execution_count": 21,
   "metadata": {},
   "outputs": [
    {
     "data": {
      "text/plain": [
       "True"
      ]
     },
     "execution_count": 21,
     "metadata": {},
     "output_type": "execute_result"
    }
   ],
   "source": [
    "LLETRES_VALIDES = [\"a\", \"b\", \"c\", \"d\", \"e\", \"f\", \"g\", \"h\"]\n",
    "\n",
    "def lletra_valida(lletra):\n",
    "    for possible in LLETRES_VALIDES:\n",
    "        if (lletra == possible):\n",
    "            return True\n",
    "    \n",
    "    return False\n",
    "\n",
    "NUMEROS_VALIDS = [\"1\", \"2\", \"3\", \"4\", \"5\", \"6\", \"7\", \"8\"]\n",
    "\n",
    "def numero_valid(num):\n",
    "    for possible in NUMEROS_VALIDS:\n",
    "        if (num == possible):\n",
    "            return True\n",
    "\n",
    "    return False\n",
    "\n",
    "\n",
    "def is_square_valid(tupla):\n",
    "    return lletra_valida(tupla[0]) and numero_valid(tupla[1])\n",
    "\n",
    "def is_square_valid_2(tupla):\n",
    "    numeros = \"12345678\"\n",
    "    lletres = \"abcdefgh\"\n",
    "    return tupla[0] in lletres and tupla[1] in numeros\n",
    "\n",
    "is_square_valid(('h', '3'))"
   ]
  },
  {
   "cell_type": "markdown",
   "metadata": {},
   "source": [
    "# Exercici 2 "
   ]
  },
  {
   "cell_type": "code",
   "execution_count": 34,
   "metadata": {},
   "outputs": [],
   "source": [
    "POSSIBLES_MOVIMENTS = {\n",
    "    'nn': (0, -1),    \n",
    "    'nw': (1, -1),    \n",
    "    'ww': (1, 0),\n",
    "    'sw': (1, 1),\n",
    "    'ss': (0, 1),\n",
    "    'se': (-1, 1),\n",
    "    'ee': (-1, 0),\n",
    "    'ne': (-1, -1),\n",
    "}\n",
    "\n",
    "#\n",
    "#     -------------  ^ -1\n",
    "#     |   |   |   |  |\n",
    "#     -------------  |\n",
    "#     |   | X |   |  | canvio la fila\n",
    "#     -------------  |\n",
    "#     |   |   |   |  |\n",
    "#     -------------  V +1\n",
    "#\n",
    "# -1  <----------->  +1\n",
    "#    canvio la columna\n",
    "\n",
    "# si la X està en a1 i fa ss, llavors acabarà en a2\n",
    "\n",
    "\n",
    "\n",
    "LLETRES_VALIDES = [\"a\", \"b\", \"c\", \"d\", \"e\", \"f\", \"g\", \"h\"]\n",
    "NUMEROS_VALIDS = [\"1\", \"2\", \"3\", \"4\", \"5\", \"6\", \"7\", \"8\"]\n",
    "\n",
    "\n",
    "def compute_new_square(moviment):\n",
    "    (c, r, m) = moviment # desempaqueto tupla\n",
    "    (suma_fila, suma_columna) = POSSIBLES_MOVIMENTS[m] # agafo els index de les llistes dels proxims moviments\n",
    "    \n",
    "    columna = LLETRES_VALIDES.index(c)\n",
    "    fila = NUMEROS_VALIDS.index(r)\n",
    "    \n",
    "    propera_columna = suma_columna + columna\n",
    "    propera_fila = suma_fila + fila\n",
    "    \n",
    "    if (0 <= propera_fila < len(NUMEROS_VALIDS) and 0 <= propera_columna < len(LLETRES_VALIDES)):\n",
    "        return (LLETRES_VALIDES[propera_columna], NUMEROS_VALIDS[propera_fila])\n",
    "    \n",
    "    else:\n",
    "        return ('x', 'x')"
   ]
  },
  {
   "cell_type": "code",
   "execution_count": 40,
   "metadata": {},
   "outputs": [
    {
     "data": {
      "text/plain": [
       "('h', '8')"
      ]
     },
     "execution_count": 40,
     "metadata": {},
     "output_type": "execute_result"
    }
   ],
   "source": [
    "compute_new_square(('h', '7', 'ww'))"
   ]
  },
  {
   "cell_type": "markdown",
   "metadata": {},
   "source": [
    "## Exercici 3"
   ]
  },
  {
   "cell_type": "code",
   "execution_count": 43,
   "metadata": {},
   "outputs": [
    {
     "name": "stdout",
     "output_type": "stream",
     "text": [
      "False\n",
      "True\n"
     ]
    }
   ],
   "source": [
    "def is_trajectory_valid(tupla):\n",
    "    columna, fila, moviments = tupla\n",
    "    for mov in moviments:\n",
    "        columna, fila = compute_new_square((columna, fila, mov))\n",
    "        if (columna == 'x' or fila == 'x'):\n",
    "            return False\n",
    "    \n",
    "    return True\n",
    "\n",
    "print(is_trajectory_valid((\"h\", \"5\", [\"ss\", \"se\"]))) # akesta malament\n",
    "print(is_trajectory_valid((\"e\", \"1\", [\"nn\", \"nn\", \"sw\"]))) # akesta be"
   ]
  },
  {
   "cell_type": "markdown",
   "metadata": {},
   "source": [
    "## Exercici 4"
   ]
  },
  {
   "cell_type": "code",
   "execution_count": 47,
   "metadata": {},
   "outputs": [],
   "source": [
    "import random\n",
    "\n",
    "POSSIBLES_MOVIMENTS = ['nn', 'nw', 'ww', 'sw', 'ss', 'se', 'ee', 'ne']\n",
    "def generate_trajectory(tupla):\n",
    "    \n",
    "    col, fila = tupla\n",
    "    for i in range(100):\n",
    "        movs = []\n",
    "        for _ in range(6):\n",
    "            movs.append(random.choice([mov for mov in POSSIBLES_MOVIMENTS]))\n",
    "    \n",
    "        if (is_trajectory_valid((col, fila, movs))):\n",
    "            return movs\n",
    "    \n",
    "    \n",
    "    return []\n",
    "\n",
    "trajectoria = generate_trajectory(('d', '4'))\n",
    "\n",
    "\n",
    "import json\n",
    "\n",
    "with open(\"trajectoria.json\", \"w\") as file:\n",
    "    json.dump(trajectoria, file)"
   ]
  },
  {
   "cell_type": "code",
   "execution_count": null,
   "metadata": {},
   "outputs": [],
   "source": []
  }
 ],
 "metadata": {
  "kernelspec": {
   "display_name": "Python 3",
   "language": "python",
   "name": "python3"
  },
  "language_info": {
   "codemirror_mode": {
    "name": "ipython",
    "version": 3
   },
   "file_extension": ".py",
   "mimetype": "text/x-python",
   "name": "python",
   "nbconvert_exporter": "python",
   "pygments_lexer": "ipython3",
   "version": "3.8.3"
  }
 },
 "nbformat": 4,
 "nbformat_minor": 4
}
