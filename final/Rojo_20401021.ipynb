{
 "cells": [
  {
   "cell_type": "markdown",
   "metadata": {},
   "source": [
    "# Prova Final\n",
    "\n",
    "##### Adrià Rojo Mérida, NIUB: 20401021, 25 de gener de 2021\n",
    "\n",
    "---"
   ]
  },
  {
   "cell_type": "markdown",
   "metadata": {},
   "source": [
    "## Exercici 1"
   ]
  },
  {
   "cell_type": "code",
   "execution_count": 149,
   "metadata": {},
   "outputs": [],
   "source": [
    "def demanar_Rt() -> float:\n",
    "    \"\"\"\n",
    "    Demana per pantalla un valor decimal superior o igual a 0\n",
    "    \"\"\"\n",
    "    valid = False\n",
    "    entrada = None\n",
    "    \n",
    "    while not valid: # boolea per marcar si es valid\n",
    "        try:\n",
    "            entrada = float(input(\"Digues un valor de l'Rt que sigui >= 0: \"))\n",
    "            if (entrada < 0):\n",
    "                print(\"Un numero inferior a 0 no es vàlid, torna a escriure un numero.\")\n",
    "            else:\n",
    "                valid = True\n",
    "        except ValueError:\n",
    "            print(\"Valor no valid, torna a escriure un numero.\")\n",
    "\n",
    "    return entrada"
   ]
  },
  {
   "cell_type": "code",
   "execution_count": 150,
   "metadata": {},
   "outputs": [
    {
     "name": "stdout",
     "output_type": "stream",
     "text": [
      "Digues un valor de l'Rt que sigui >= 0: a\n",
      "Valor no valid, torna a escriure un numero.\n",
      "Digues un valor de l'Rt que sigui >= 0: -5.565\n",
      "Un numero inferior a 0 no es vàlid, torna a escriure un numero.\n",
      "Digues un valor de l'Rt que sigui >= 0: 58.563\n"
     ]
    },
    {
     "data": {
      "text/plain": [
       "58.563"
      ]
     },
     "execution_count": 150,
     "metadata": {},
     "output_type": "execute_result"
    }
   ],
   "source": [
    "demanar_Rt()"
   ]
  },
  {
   "cell_type": "markdown",
   "metadata": {},
   "source": [
    "### Comentari\n",
    "\n",
    "Podria haver fet un return en el moment que la entrada es valida pero queda lleig tenir 2 punts de sortida"
   ]
  },
  {
   "cell_type": "markdown",
   "metadata": {},
   "source": [
    "## Exercici 2"
   ]
  },
  {
   "cell_type": "code",
   "execution_count": 78,
   "metadata": {},
   "outputs": [],
   "source": [
    "import math\n",
    "\n",
    "def etapa_COVID(poblacio: list, Rt: float) -> list:\n",
    "    \"\"\"\n",
    "    Simula 10 dies de contagis i afegeix dades a la llista primera llista\n",
    "    \"\"\"\n",
    "    # poblacio[0] -> registre de gent sana sense contagiar\n",
    "    # poblacio[1] -> registre de gent malalta actualment\n",
    "    # poblacio[2] -> registre de gent recuperada total\n",
    "    \n",
    "    abans_poblacio_contagiada = poblacio[1][-1] # aquests calculs els mana l'enunciat\n",
    "    poblacio_actual = poblacio[0][-1]\n",
    "    total_poblacio_recuperada = poblacio[2][-1] \n",
    "    contagis = min(math.floor(abans_poblacio_contagiada * Rt), poblacio_actual) # math.floor perque no pots contagiar a mitja persona \n",
    "    \n",
    "    poblacio[0].append(poblacio_actual - contagis)\n",
    "    poblacio[1].append(contagis)\n",
    "    poblacio[2].append(abans_poblacio_contagiada + total_poblacio_recuperada) # acumulo els recuperats\n",
    "    \n",
    "    return poblacio"
   ]
  },
  {
   "cell_type": "code",
   "execution_count": 152,
   "metadata": {},
   "outputs": [
    {
     "data": {
      "text/plain": [
       "[[6999999, 6999995, 6999979, 6999915], [1, 4, 16, 64], [0, 1, 5, 21]]"
      ]
     },
     "execution_count": 152,
     "metadata": {},
     "output_type": "execute_result"
    }
   ],
   "source": [
    "poblacio=[[6999999], [1], [0]]\n",
    "for i in range(3):\n",
    "    poblacio = etapa_COVID(poblacio, 4)\n",
    "\n",
    "poblacio "
   ]
  },
  {
   "cell_type": "markdown",
   "metadata": {},
   "source": [
    "### Comentari\n",
    "\n",
    "L'enunciat no especifica si les dades de recuperats son acumulatives o puntuals, he optat per ferles acumulatives (aixo  probablement mostrarà un gràfic diferent del que hi ha a l'enunciat).  \n",
    "Del codi res a comentar ja que és el que mana l'enunciat. Com a molt el puntualitzar l'utilització de index negatiu per accedir a l'ultim element de la llista."
   ]
  },
  {
   "cell_type": "markdown",
   "metadata": {},
   "source": [
    "## Exercici 3\n",
    "### Part 1"
   ]
  },
  {
   "cell_type": "code",
   "execution_count": 153,
   "metadata": {
    "scrolled": true
   },
   "outputs": [
    {
     "name": "stdout",
     "output_type": "stream",
     "text": [
      "Digues un valor de l'Rt que sigui >= 0: 4\n"
     ]
    },
    {
     "data": {
      "image/png": "[encoded data removed]",
      "text/plain": [
       "<Figure size 432x288 with 1 Axes>"
      ]
     },
     "metadata": {
      "needs_background": "light"
     },
     "output_type": "display_data"
    }
   ],
   "source": [
    "import matplotlib.pyplot as plt\n",
    "import numpy as np\n",
    "\n",
    "%matplotlib inline\n",
    "\n",
    "DESENES_DIES = 15\n",
    "\n",
    "rt = demanar_Rt()\n",
    "poblacio = [[6999999], [1], [0]]\n",
    "\n",
    "for i in range(DESENES_DIES):\n",
    "    poblacio = etapa_COVID(poblacio, rt)\n",
    "\n",
    "x = list(range(1, DESENES_DIES+2)) # les x on es basaran les dades\n",
    "xbar = np.linspace(1, DESENES_DIES, 5, dtype=np.int) # les marques de l'eix de les x\n",
    "\n",
    "\n",
    "plt.plot(x, poblacio[0], label=\"sans\")\n",
    "plt.plot(x, poblacio[1], label=\"malalts\")\n",
    "plt.plot(x, poblacio[2], label=\"recuperats\")\n",
    "\n",
    "plt.legend() # mostra llegenda\n",
    "plt.ylabel(\"Milions de persones\")\n",
    "plt.xlabel(\"Dies despres del primer contagi\")\n",
    "plt.xticks(xbar) # mostra les x com jo vull\n",
    "\n",
    "plt.show()"
   ]
  },
  {
   "cell_type": "markdown",
   "metadata": {},
   "source": [
    "### Comentari\n",
    "\n",
    "El `help(plt.legend)` marcava les possibles formes de veure la llegenda a la grafica.  \n",
    "Utilitzo `np.linspace` per posar les marques a la part inferior del grafic.  \n",
    "\n",
    "Per alguna rao l'eix de les y es mostra amb una escala de 1e6 (milions), he provat de buscar amb `help(plt.xscale)` i em redirigia al `help(matplotlib.scale.LinearScale)` on no he pogut trobar més i he optat per marcar-ho explicitament a la etiqueta de les y."
   ]
  },
  {
   "cell_type": "markdown",
   "metadata": {},
   "source": [
    "### Part 2"
   ]
  },
  {
   "cell_type": "code",
   "execution_count": 154,
   "metadata": {
    "scrolled": true
   },
   "outputs": [
    {
     "data": {
      "image/png": "[encoded data removed]",
      "text/plain": [
       "<Figure size 432x288 with 1 Axes>"
      ]
     },
     "metadata": {
      "needs_background": "light"
     },
     "output_type": "display_data"
    }
   ],
   "source": [
    "poblacio = [[6999999], [1], [0]]\n",
    "rt = 2\n",
    "\n",
    "acc_dies = 0\n",
    "while rt > 0:\n",
    "    poblacio = etapa_COVID(poblacio, rt)\n",
    "    acc_dies += 1\n",
    "    if (acc_dies > 10): # passats els 100 dies (10 desenes)\n",
    "        rt -= 0.1\n",
    "\n",
    "x = list(range(1, acc_dies+2))\n",
    "xbar = np.linspace(1, acc_dies, 5, dtype=np.int)\n",
    "\n",
    "plt.plot(x, poblacio[1], label=\"malalts\")\n",
    "plt.plot(x, poblacio[2], label=\"recuperats\")\n",
    "\n",
    "plt.legend()\n",
    "plt.ylabel(\"Persones\")\n",
    "plt.xlabel(\"Dies despres del primer contagi\")\n",
    "plt.xticks(xbar)\n",
    "\n",
    "plt.show()"
   ]
  },
  {
   "cell_type": "markdown",
   "metadata": {},
   "source": [
    "### Comentari\n",
    "\n",
    "Aqui només he seguit les ordres de l'enunciat. Els comentaris son els mateixos que els de la Part 1"
   ]
  },
  {
   "cell_type": "markdown",
   "metadata": {},
   "source": [
    "## Exercici 4"
   ]
  },
  {
   "cell_type": "code",
   "execution_count": 155,
   "metadata": {},
   "outputs": [],
   "source": [
    "def escriure_simulacio(dades: list) -> None:\n",
    "    \"\"\"\n",
    "    Guarda les dades de la simulacio a un fitxer\n",
    "    \"\"\"\n",
    "    nom_fitxer = input(\"Nom del fitxer per guardar dades: \")\n",
    "    with open(nom_fitxer, \"w\") as file:\n",
    "        for tupl in zip(*dades):\n",
    "            file.write(\",\".join([str(a) for a in tupl]) + \"\\n\")\n",
    "\n",
    "def llegir_simulacio() -> list:\n",
    "    \"\"\"\n",
    "    Llegeix les dades de la simulacio guardades en un fitxer\n",
    "    \"\"\"\n",
    "    nom_fitxer = input(\"Nom del fitxer per llegir dades: \")\n",
    "    dades = [[], [], []]\n",
    "    with open(nom_fitxer, \"r\") as file:\n",
    "        for linea in file:\n",
    "            splitted = linea.split(\",\")\n",
    "            for i in range(len(splitted)):\n",
    "                dades[i].append(int(splitted[i]))\n",
    "\n",
    "    return dades"
   ]
  },
  {
   "cell_type": "markdown",
   "metadata": {},
   "source": [
    "### Proves"
   ]
  },
  {
   "cell_type": "code",
   "execution_count": 156,
   "metadata": {},
   "outputs": [
    {
     "name": "stdout",
     "output_type": "stream",
     "text": [
      "Nom del fitxer per guardar dades: test.txt\n",
      "Nom del fitxer per llegir dades: test.txt\n"
     ]
    }
   ],
   "source": [
    "rt = 2\n",
    "poblacio = [[6999999], [1], [0]]\n",
    "\n",
    "DESENES_DIES = 20\n",
    "\n",
    "for i in range(DESENES_DIES):\n",
    "    poblacio = etapa_COVID(poblacio, rt)\n",
    "\n",
    "    \n",
    "escriure_simulacio(poblacio)\n",
    "vingut = llegir_simulacio()\n",
    "\n",
    "assert poblacio == vingut"
   ]
  },
  {
   "cell_type": "markdown",
   "metadata": {},
   "source": [
    "### Comentari\n",
    "\n",
    "No molt a comentar, simple I/O de fitxers. La obligació de no utilitzar el mòdul de `csv` fa que el codi sigui bastant farragós. Pero que hi farem... \n",
    "\n",
    "Puntualitzar l'us de l'spread operator (`*`) i de list comprehensions."
   ]
  }
 ],
 "metadata": {
  "kernelspec": {
   "display_name": "Python 3",
   "language": "python",
   "name": "python3"
  },
  "language_info": {
   "codemirror_mode": {
    "name": "ipython",
    "version": 3
   },
   "file_extension": ".py",
   "mimetype": "text/x-python",
   "name": "python",
   "nbconvert_exporter": "python",
   "pygments_lexer": "ipython3",
   "version": "3.8.3"
  }
 },
 "nbformat": 4,
 "nbformat_minor": 4
}
