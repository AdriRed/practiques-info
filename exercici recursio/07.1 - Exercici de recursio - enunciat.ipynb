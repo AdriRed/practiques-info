{
 "cells": [
  {
   "cell_type": "markdown",
   "metadata": {},
   "source": [
    "![Creative Commons](http://i.creativecommons.org/l/by-nc/3.0/88x31.png)\n",
    "© Xavier Luri 2014, Universitat de Barcelona  [Creative Commons BY NC](http://creativecommons.org/licenses/by-nc/3.0/es/deed.ca)"
   ]
  },
  {
   "cell_type": "markdown",
   "metadata": {},
   "source": [
    "# Recursió\n",
    "\n",
    "En Python les funcions es poden cridar a elles mateixes (recursió). Això permet fer implementacions recursives.\n",
    "\n",
    "Per exemple, el factorial d'un número es pot calcular recursivament a partir de la definició següent:\n",
    "\n",
    "* $N! = N * (N-1)!$\n",
    "* $1! = 1$\n",
    "\n",
    "En aquest exemple ho aprofitem per implementar el càlcul del factorial d'un enter\n",
    "\n",
    "**Nota:** tingueu en compte que hi ha un límit al nivell de recursió de les funcions en python (depenent de la versió però en general menys de 1000)"
   ]
  },
  {
   "cell_type": "code",
   "execution_count": 3,
   "metadata": {},
   "outputs": [
    {
     "name": "stdout",
     "output_type": "stream",
     "text": [
      "Factorial de 2 = 2\n",
      "Factorial de 3 = 6\n",
      "Factorial de 4 = 24\n",
      "Factorial de 10 = 3628800\n",
      "Factorial de 100 = 93326215443944152681699238856266700490715968264381621468592963895217599993229915608941463976156518286253697920827223758251185210916864000000000000000000000000\n"
     ]
    }
   ],
   "source": [
    "# Funció per al calcul recursiu del factorial\n",
    "def factorial(n):\n",
    "    \n",
    "    # Primerament comprovem el tipus de l'argument.\n",
    "    # Només acceptarem enters\n",
    "    if type(n) != int :\n",
    "        print(\"Error: la funció factorial requereix un argument enter\")\n",
    "        return\n",
    "    \n",
    "    # Altrament procedim recursivament\n",
    "    if n==1 :\n",
    "        return 1 # Fi de la recursió: retornem 1\n",
    "    else:\n",
    "        return(n*factorial(n-1)) # Recursió: retornem n * (n-1)!\n",
    "    \n",
    "# Usem la funció    \n",
    "print(\"Factorial de %d = %d\" % (2,factorial(2)))\n",
    "print(\"Factorial de %d = %d\" % (3,factorial(3)))\n",
    "print(\"Factorial de %d = %d\" % (4,factorial(4)))\n",
    "print(\"Factorial de %d = %d\" % (10,factorial(10)))\n",
    "print(\"Factorial de %d = %d\" % (100,factorial(100)))"
   ]
  },
  {
   "cell_type": "markdown",
   "metadata": {},
   "source": [
    "# Exercici: números primers\n",
    "\n",
    "En aquest exercici heu d'implementar una funció que ens digui si un número enter donat és primer o no.\n",
    "\n",
    "## Especificacions\n",
    "\n",
    "* Nom de la funció:   es_primer()\n",
    "* Paràmetres:  el número enter N a verificar i qualsevol altre paràmetre que us sigui necessari\n",
    "* Retorn:  un boolea, *True* si el número es primer, *False* si no ho és\n",
    "\n",
    "## Implementació\n",
    "\n",
    "La implementació ha de buscar divisors del número donat pel mètode de força bruta: provar tots els possibles divisors entre 2 i N-1.\n",
    "\n",
    "Per aquesta implementació **no es poden usar bucles for**, l'haureu de fer usant recursió. Necessitareu usar la sentència *if*, de manera que podeu agafar l'exemple anterior dels factorials com a punt de partida."
   ]
  },
  {
   "cell_type": "code",
   "execution_count": null,
   "metadata": {
    "collapsed": true
   },
   "outputs": [],
   "source": [
    "\n"
   ]
  }
 ],
 "metadata": {
  "kernelspec": {
   "display_name": "Python 3",
   "language": "python",
   "name": "python3"
  },
  "language_info": {
   "codemirror_mode": {
    "name": "ipython",
    "version": 3
   },
   "file_extension": ".py",
   "mimetype": "text/x-python",
   "name": "python",
   "nbconvert_exporter": "python",
   "pygments_lexer": "ipython3",
   "version": "3.6.1"
  }
 },
 "nbformat": 4,
 "nbformat_minor": 1
}