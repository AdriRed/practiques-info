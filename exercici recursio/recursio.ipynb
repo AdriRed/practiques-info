{
 "metadata": {
  "language_info": {
   "codemirror_mode": {
    "name": "ipython",
    "version": 3
   },
   "file_extension": ".py",
   "mimetype": "text/x-python",
   "name": "python",
   "nbconvert_exporter": "python",
   "pygments_lexer": "ipython3",
   "version": "3.8.3-final"
  },
  "orig_nbformat": 2,
  "kernelspec": {
   "name": "python3",
   "display_name": "Python 3"
  }
 },
 "nbformat": 4,
 "nbformat_minor": 2,
 "cells": [
  {
   "source": [
    "# Exercici Recursió\n",
    "#### Adrià Rojo\n",
    "---"
   ],
   "cell_type": "markdown",
   "metadata": {}
  },
  {
   "cell_type": "code",
   "execution_count": 1,
   "metadata": {},
   "outputs": [],
   "source": [
    "def es_primer(n: int, divisor: int = 2) -> bool:\n",
    "    \"\"\"\n",
    "    Aquesta funció determina si el nombre n és primer mitjançant recursivitat\n",
    "    \"\"\"\n",
    "    # Per exemple si n = 5 estaré comprovant:\n",
    "    # 5 % 2 != 0 and (5 % 3 != 0 and (5 % 4 == 0))\n",
    "    # On cada Parèntesi seria una trucada a la funcio es_primer\n",
    "    comprovacio = n % divisor != 0\n",
    "    if (divisor == n-1): return comprovacio\n",
    "    \n",
    "    return comprovacio and es_primer(n, divisor+1)"
   ]
  },
  {
   "source": [
    "La comprovació d'un numero $n$ primer per forca és fa de la següent forma:\n",
    "\n",
    "$$\\text {Comprovar que n no és divisible entre 2}$$\n",
    "$$\\text {Comprovar que n no és divisible entre 3}$$\n",
    "$$\\text {Comprovar que n no és divisible entre 4}$$\n",
    "$$\\text {...}$$\n",
    "$$\\text {Comprovar que n no és divisible entre } n-3$$\n",
    "$$\\text {Comprovar que n no és divisible entre } n-2$$\n",
    "$$\\text {Comprovar que n no és divisible entre } n-1$$\n",
    "\n",
    "La forma de comprovar a programació que si ún número és divisible entre un altre, és igual a dir que si un número dividit entre un altre te residu 0\n",
    "```py\n",
    "dividend % divisor == 0\n",
    "```\n",
    "de forma que l'anterior expressió es pot codificar en\n",
    "```py\n",
    "numero % 2 != 0\n",
    "numero % 3 != 0\n",
    "numero % 4 != 0\n",
    "#...\n",
    "numero % (numero - 3) != 0\n",
    "numero % (numero - 2) != 0\n",
    "numero % (numero - 1) != 0\n",
    "```\n",
    "i com s'han de complir totes:\n",
    "```py\n",
    "numero % 2 != 0 and numero % 3 != 0 and # ... # numero % (numero - 2) != 0 and numero % (numero - 1) != 0\n",
    "```\n",
    "Aqui hi ha una succesió. Que podem colapsar de forma\n",
    "```py\n",
    "check_primer(numero, divisor) -> numero % divisor != 0 and check_primer(divisor+1)\n",
    "```\n",
    "on trucarem a la funcio amb divisor = 2. Però haurem de dir quan haurà de parar de trucar-se a si mateixa. I haurà de ser quan `divisor == numero - 1`, que en termes de recursivitat, serà el nostre cas base."
   ],
   "cell_type": "markdown",
   "metadata": {}
  },
  {
   "source": [
    "## Comprovacions\n",
    "##### Els casos 1 i 2 s'asumeixen que son primers"
   ],
   "cell_type": "markdown",
   "metadata": {}
  },
  {
   "cell_type": "code",
   "execution_count": 8,
   "metadata": {},
   "outputs": [
    {
     "output_type": "display_data",
     "data": {
      "text/plain": "<IPython.core.display.Markdown object>",
      "text/markdown": "|||||||||||\n|---|---|---|---|---|---|---|---|---|---|\n||**`1`**|**`2`**|**`3`**|4|**`5`**|6|**`7`**|8|9|10|\n||**`11`**|12|**`13`**|14|15|16|**`17`**|18|**`19`**|20|\n||21|22|**`23`**|24|25|26|27|28|**`29`**|30|\n||**`31`**|32|33|34|35|36|**`37`**|38|39|40|\n||**`41`**|42|**`43`**|44|45|46|**`47`**|48|49|50|\n||51|52|**`53`**|54|55|56|57|58|**`59`**|60|\n||**`61`**|62|63|64|65|66|**`67`**|68|69|70|\n||**`71`**|72|**`73`**|74|75|76|77|78|**`79`**|80|\n||81|82|**`83`**|84|85|86|87|88|**`89`**|90|\n||91|92|93|94|95|96|**`97`**|98|99|100|\n"
     },
     "metadata": {}
    }
   ],
   "source": [
    "from IPython.display import display, Markdown\n",
    "\n",
    "res = \"\"\"|||||||||||\n",
    "|---|---|---|---|---|---|---|---|---|---|\\n\"\"\"\n",
    "\n",
    "PLANTILLES = {True: '|**`{:d}`**', False: '|{:d}'}\n",
    "\n",
    "for i in range(10):\n",
    "    res += '|'\n",
    "    for j in range(10):\n",
    "        num = i*10 + j + 1\n",
    "        res += PLANTILLES[num <= 2 or es_primer(num)].format(num)\n",
    "    res += '|\\n'\n",
    "display(Markdown(res))"
   ]
  }
 ]
}