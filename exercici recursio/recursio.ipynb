{
 "metadata": {
  "language_info": {
   "codemirror_mode": {
    "name": "ipython",
    "version": 3
   },
   "file_extension": ".py",
   "mimetype": "text/x-python",
   "name": "python",
   "nbconvert_exporter": "python",
   "pygments_lexer": "ipython3",
   "version": "3.8.3-final"
  },
  "orig_nbformat": 2,
  "kernelspec": {
   "name": "python3",
   "display_name": "Python 3"
  }
 },
 "nbformat": 4,
 "nbformat_minor": 2,
 "cells": [
  {
   "source": [
    "# Exercici Recursió\n",
    "#### Adrià Rojo\n",
    "---"
   ],
   "cell_type": "markdown",
   "metadata": {}
  },
  {
   "cell_type": "code",
   "execution_count": 29,
   "metadata": {},
   "outputs": [
    {
     "output_type": "stream",
     "name": "stdout",
     "text": [
      "False\n"
     ]
    }
   ],
   "source": [
    "def es_primer(n: int, divisor: int = 2) -> bool:\n",
    "    \"\"\"\n",
    "    Aquesta funció determina si el nombre n és primer mitjançant recursivitat\n",
    "    \"\"\"\n",
    "    # Per exemple si n = 5 estaré comprovant:\n",
    "    # 5 % 2 != 0 and (5 % 3 != 0 and (5 % 4 == 0))\n",
    "    # On cada Parèntesi seria una trucada a la funcio es_primer\n",
    "\n",
    "    comprovacio = n % divisor != 0\n",
    "    if (divisor == n-1): return comprovacio\n",
    "    \n",
    "    return comprovacio and es_primer(n, divisor+1)\n",
    "    \n",
    "\n",
    "print(es_primer(198))"
   ]
  },
  {
   "cell_type": "code",
   "execution_count": null,
   "metadata": {},
   "outputs": [],
   "source": []
  }
 ]
}