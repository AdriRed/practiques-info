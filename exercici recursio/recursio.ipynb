{
 "metadata": {
  "language_info": {
   "codemirror_mode": {
    "name": "ipython",
    "version": 3
   },
   "file_extension": ".py",
   "mimetype": "text/x-python",
   "name": "python",
   "nbconvert_exporter": "python",
   "pygments_lexer": "ipython3",
   "version": "3.8.3-final"
  },
  "orig_nbformat": 2,
  "kernelspec": {
   "name": "python3",
   "display_name": "Python 3"
  }
 },
 "nbformat": 4,
 "nbformat_minor": 2,
 "cells": [
  {
   "source": [
    "# Exercici Recursió\n",
    "#### Adrià Rojo\n",
    "---"
   ],
   "cell_type": "markdown",
   "metadata": {}
  },
  {
   "cell_type": "code",
   "execution_count": 3,
   "metadata": {},
   "outputs": [
    {
     "output_type": "stream",
     "name": "stdout",
     "text": [
      "False\n"
     ]
    }
   ],
   "source": [
    "def es_primer(n: int, divisor: int = 2) -> bool:\n",
    "    \"\"\"\n",
    "    Aquesta funció determina si el nombre n és primer mitjançant recursivitat\n",
    "    \"\"\"\n",
    "    # Per exemple si n = 5 estaré comprovant:\n",
    "    # 5 % 2 != 0 and (5 % 3 != 0 and (5 % 4 == 0))\n",
    "    # On cada Parèntesi seria una trucada a la funcio es_primer\n",
    "    comprovacio = n % divisor != 0\n",
    "    if (divisor == n-1): return comprovacio\n",
    "    \n",
    "    return comprovacio and es_primer(n, divisor+1)"
   ]
  },
  {
   "source": [
    "La comprovació d'un numero $n$ primer per forca és fa de la següent forma:\n",
    "\n",
    "$$\\text {Comprovar que n és divisible entre 2}$$\n",
    "$$\\text {Comprovar que n és divisible entre 3}$$\n",
    "$$\\text {Comprovar que n és divisible entre 4}$$\n",
    "$$\\text {...}$$\n",
    "$$\\text {Comprovar que n és divisible entre } n-3$$\n",
    "$$\\text {Comprovar que n és divisible entre } n-2$$\n",
    "$$\\text {Comprovar que n és divisible entre } n-1$$\n",
    "\n",
    "La forma de comprovar a programació que si ún número és divisible entre un altre, és igual a dir que si un número dividit entre un altre te residu 0\n",
    "```py\n",
    "dividend % divisor == 0\n",
    "```\n",
    "de forma que l'anterior expressió es pot codificar en\n",
    "```py\n",
    "numero % 2 == 0\n",
    "numero % 3 == 0\n",
    "numero % 4 == 0\n",
    "#...\n",
    "numero % (numero - 3) == 0\n",
    "numero % (numero - 2) == 0\n",
    "numero % (numero - 1) == 0\n",
    "```\n",
    "i com s'han de complir totes:\n",
    "```py\n",
    "numero % 2 == 0 and numero % 3 == 0 and # ... # numero % (numero - 2) == 0 and numero % (numero - 1) == 0\n",
    "```\n",
    "Aqui hi ha una sucesió. Que podem colapsar de forma\n",
    "```py\n",
    "check_primer(numero, divisor) -> numero % divisor == 0 and check_primer(divisor+1)\n",
    "```\n",
    "on trucarem a la funcio amb divisor = 2. Però haurem de dir quan haurà de parar de trucar-se a si mateixa. I haurà de ser quan `divisor == numero-1`"
   ],
   "cell_type": "markdown",
   "metadata": {}
  },
  {
   "source": [
    "## Comprovacions"
   ],
   "cell_type": "markdown",
   "metadata": {}
  },
  {
   "cell_type": "code",
   "execution_count": 8,
   "metadata": {},
   "outputs": [
    {
     "output_type": "display_data",
     "data": {
      "text/plain": "<IPython.core.display.Markdown object>",
      "text/markdown": "|Numero|Es Primer?|\n|---|---|\n|3|`True`|\n|4|`False`|\n|5|`True`|\n|6|`False`|\n|7|`True`|\n|8|`False`|\n|9|`False`|\n|10|`False`|\n|11|`True`|\n|12|`False`|\n|13|`True`|\n|14|`False`|\n|15|`False`|\n|16|`False`|\n|17|`True`|\n|18|`False`|\n|19|`True`|\n|20|`False`|\n|21|`False`|\n|22|`False`|\n|23|`True`|\n|24|`False`|\n|25|`False`|\n|26|`False`|\n|27|`False`|\n|28|`False`|\n|29|`True`|\n|30|`False`|\n|31|`True`|\n|32|`False`|\n|33|`False`|\n|34|`False`|\n|35|`False`|\n|36|`False`|\n|37|`True`|\n|38|`False`|\n|39|`False`|\n|40|`False`|\n|41|`True`|\n|42|`False`|\n|43|`True`|\n|44|`False`|\n|45|`False`|\n|46|`False`|\n|47|`True`|\n|48|`False`|\n|49|`False`|\n|50|`False`|\n|51|`False`|\n|52|`False`|\n|53|`True`|\n|54|`False`|\n|55|`False`|\n|56|`False`|\n|57|`False`|\n|58|`False`|\n|59|`True`|\n|60|`False`|\n|61|`True`|\n|62|`False`|\n|63|`False`|\n|64|`False`|\n|65|`False`|\n|66|`False`|\n|67|`True`|\n|68|`False`|\n|69|`False`|\n|70|`False`|\n|71|`True`|\n|72|`False`|\n|73|`True`|\n|74|`False`|\n|75|`False`|\n|76|`False`|\n|77|`False`|\n|78|`False`|\n|79|`True`|\n|80|`False`|\n|81|`False`|\n|82|`False`|\n|83|`True`|\n|84|`False`|\n|85|`False`|\n|86|`False`|\n|87|`False`|\n|88|`False`|\n|89|`True`|\n|90|`False`|\n|91|`False`|\n|92|`False`|\n|93|`False`|\n|94|`False`|\n|95|`False`|\n|96|`False`|\n|97|`True`|\n|98|`False`|\n|99|`False`|\n"
     },
     "metadata": {}
    }
   ],
   "source": [
    "from IPython.display import display, Markdown\n",
    "\n",
    "res = \"\"\"|Numero|Es Primer?|\n",
    "|---|---|\\n\"\"\"\n",
    "\n",
    "for i in range(3, 100):\n",
    "    res += \"|{:d}|`{:s}`|\\n\".format(i, str(es_primer(i)))\n",
    "\n",
    "display(Markdown(res))"
   ]
  },
  {
   "cell_type": "code",
   "execution_count": null,
   "metadata": {},
   "outputs": [],
   "source": []
  }
 ]
}