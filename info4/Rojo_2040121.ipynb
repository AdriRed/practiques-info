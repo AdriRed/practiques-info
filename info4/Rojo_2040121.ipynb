{
 "metadata": {
  "language_info": {
   "codemirror_mode": {
    "name": "ipython",
    "version": 3
   },
   "file_extension": ".py",
   "mimetype": "text/x-python",
   "name": "python",
   "nbconvert_exporter": "python",
   "pygments_lexer": "ipython3",
   "version": "3.8.3-final"
  },
  "orig_nbformat": 2,
  "kernelspec": {
   "name": "python3",
   "display_name": "Python 3"
  }
 },
 "nbformat": 4,
 "nbformat_minor": 2,
 "cells": [
  {
   "cell_type": "code",
   "execution_count": 15,
   "metadata": {},
   "outputs": [],
   "source": [
    "# Importació de funcions per imprimir resultats del codi en format Markdown i LaTex\n",
    "from IPython.display import display, Markdown, Latex"
   ]
  },
  {
   "source": [
    "# Sessió Introductòria 4: operadors\n",
    "\n",
    "### Adrià Rojo \n",
    "\n",
    "---\n",
    "\n",
    "## 1.1.3 Precedència de operadors"
   ],
   "cell_type": "markdown",
   "metadata": {}
  },
  {
   "cell_type": "code",
   "execution_count": 16,
   "metadata": {},
   "outputs": [
    {
     "output_type": "display_data",
     "data": {
      "text/plain": "<IPython.core.display.Markdown object>",
      "text/markdown": "|Variable|Resultat|\n|---|---|\n|`o1`|10.0|\n|`o2`|1.4142135623730951|\n|`o3`|4.0|\n|`o4`|-1.0|"
     },
     "metadata": {}
    }
   ],
   "source": [
    "# Calcul de variables i implementació de formules\n",
    "o1 = 2.**1./.2\n",
    "o2 = 2.**(1./2.)\n",
    "o3 = 2.*3.-4./2.\n",
    "o4 = 2.*(3.-4.)/2.\n",
    "\n",
    "# Impresió de resultats\n",
    "display(Markdown(\"|Variable|Resultat|\\n\"+\n",
    "\"|---|---|\\n\"+\n",
    "\"|`o1`|\"+str(o1)+\"|\\n\"\n",
    "\"|`o2`|\"+str(o2)+\"|\\n\"\n",
    "\"|`o3`|\"+str(o3)+\"|\\n\"\n",
    "\"|`o4`|\"+str(o4)+\"|\"))"
   ]
  },
  {
   "source": [
    "### Explicació de la comprovació\n",
    "\n",
    "**Comentari**: tots els números contenen un `.` indicant que són de tipus `float`, fent que, també els seus resultats (i les variables que els contenten) seràn de tipus `float`\n",
    "\n",
    "* `o1`\n",
    "    1. S'aplica la potència $2.0^{1.0}$ on $2.0$ i $1.0$ i el seu resultat és $2.0$\n",
    "    2. S'aplica la divisó $2.0/0.2$ on el resultat serà $10.0$\n",
    "\n",
    "$$ \\frac {{2.0}^{1.0}} {0.2} = 10.0 $$\n",
    "\n",
    "* `o2`\n",
    "    1. Es fa la operació dins dels $()$, $\\frac {1.0} {2.0}$ i el seu resultat és de $0.5$\n",
    "    2. S'aplica la potència $2.0^{0.5}$ on el seu resultat equivaldrà a $\\sqrt {2.0}$\n",
    "\n",
    "$$ 2.0 ^ {\\frac {1.0} {2.0}} = 2.0 $$\n",
    "\n",
    "* `o3`\n",
    "    1. Per una part s'executa la multiplicació $2.0 \\times 3.0$ on el seu resultat serà de $6.0$\n",
    "    2. Per altra part s'executa la divisó $\\frac {4.0} {2.0}$ on el resultat serà de $2.0$\n",
    "    3. Finalment, s'aplicarà la resta $6.0 - 2.0$ on el resultat serà de $4.0$\n",
    "\n",
    "$$ 2.0 \\times 3.0 - \\frac {4.0} {2.0} = 4.0 $$\n",
    "\n",
    "* `o4`\n",
    "    1. Primerament s'aplica la operació dins dels $()$, $3.0 - 4.0$ on el seu resultat serà de $-1.0$\n",
    "    2. Seguidament es farà la operació $2.0 \\times (-1.0)$ amb un resultat de $-2.0$\n",
    "    3. Finalment es farà la divisó $\\frac {-2.0} {2.0}$ amb un resultat de $-1.0$\n",
    "\n",
    "$$ 2.0 \\times \\frac {3.0 - 4.0} {2.0} = -1.0$$"
   ],
   "cell_type": "markdown",
   "metadata": {}
  },
  {
   "source": [
    "## Exercici 1"
   ],
   "cell_type": "markdown",
   "metadata": {}
  },
  {
   "cell_type": "code",
   "execution_count": 17,
   "metadata": {},
   "outputs": [
    {
     "output_type": "display_data",
     "data": {
      "text/plain": "<IPython.core.display.Markdown object>",
      "text/markdown": "Pels valors de:"
     },
     "metadata": {}
    },
    {
     "output_type": "display_data",
     "data": {
      "text/plain": "<IPython.core.display.Latex object>",
      "text/latex": "$$ x = 2.0, y = 3.0, z = 1.0 $$"
     },
     "metadata": {}
    },
    {
     "output_type": "display_data",
     "data": {
      "text/plain": "<IPython.core.display.Latex object>",
      "text/latex": "$$\\begin{align*} a &= 1.00 \\\\ b &= 1023.94 \\\\ c &= 1.20 \\\\ d &= 18446744073709551616 \\end{align*}$$"
     },
     "metadata": {}
    }
   ],
   "source": [
    "# Demanar input i conventir-ho a float\n",
    "x = float(input(\"Dona valor per x: \"))\n",
    "y = float(input(\"Dona valor per y: \"))\n",
    "z = float(input(\"Dona valor per z: \"))\n",
    "\n",
    "# Implementació de les formules\n",
    "a = 2*x/(y+z)\n",
    "b = 4**(x+y) - (z/(2*x))**2\n",
    "c = 2 / (1+x/y)\n",
    "d = int(x) ** ((int(y)+1) ** (int(z)+2))\n",
    "\n",
    "# Impresió dels resultats\n",
    "display(Markdown(\"Pels valors de:\"))\n",
    "display(Latex(\"$$ x = \"+str(x)+\", y = \"+str(y)+\", z = \" + str(z) + \" $$\"))\n",
    "display(Latex(\"$$\\\\begin{{align*}} a &= {:.2f} \\\\\\\\ b &= {:.2f} \\\\\\\\ c &= {:.2f} \\\\\\\\ d &= {:d} \\\\end{{align*}}$$\".format(a, b, c, d)))"
   ]
  },
  {
   "source": [
    "**Comentari:** degut a que la memòria utilitzada per un `float` és finita comparada amb la memòria utilitzada per un `int`, he hagut de convertir les variables `x`, `y`, `z` a enter per que no surti un `OverflowError`"
   ],
   "cell_type": "markdown",
   "metadata": {}
  },
  {
   "source": [
    "## 1.1.4 Operadors aritmètics i tipus de dades"
   ],
   "cell_type": "markdown",
   "metadata": {}
  },
  {
   "cell_type": "code",
   "execution_count": 18,
   "metadata": {},
   "outputs": [
    {
     "output_type": "display_data",
     "data": {
      "text/plain": "<IPython.core.display.Markdown object>",
      "text/markdown": "|Valor|Tipus|\n|---|---|\n|0.500000|<class 'float'>|"
     },
     "metadata": {}
    }
   ],
   "source": [
    "# Operació entre int\n",
    "a=1/2\n",
    "\n",
    "# Impresió de resultats\n",
    "display(Markdown(\"\"\"|Valor|Tipus|\n",
    "|---|---|\n",
    "|{:f}|{:s}|\"\"\".format(a, str(type(a)))))"
   ]
  },
  {
   "source": [
    "### Explicació de la comprovació\n",
    "\n",
    "_Explicada al seguent exercici_ (divisió d'enters sempre dona real)"
   ],
   "cell_type": "markdown",
   "metadata": {}
  },
  {
   "source": [
    "## Exercici 2\n",
    "\n",
    "**Comentari:** he canviat el nom de la variable `complex` a `var_complex` ja que, de l'altre forma, estem sobrescrivint el tipus `complex`"
   ],
   "cell_type": "markdown",
   "metadata": {}
  },
  {
   "cell_type": "code",
   "execution_count": 19,
   "metadata": {},
   "outputs": [
    {
     "output_type": "display_data",
     "data": {
      "text/plain": "<IPython.core.display.Markdown object>",
      "text/markdown": "|Operació|Resultat|Tipus|\n|---|---|---|\n|`5 * 5`|25|<class 'int'>|\n|`5 * 7.`|35.0|<class 'float'>|\n|`5 * (3.+4j)`|(15+20j)|<class 'complex'>|\n|`7. * 7.`|49.0|<class 'float'>|\n|`7. * (3.+4j)`|(21+28j)|<class 'complex'>|\n|`5 / 5`|1.0|<class 'float'>|\n|`7. / 7.`|1.0|<class 'float'>|\n|`7. / (3.+4j)`|(0.84-1.12j)|<class 'complex'>|"
     },
     "metadata": {}
    }
   ],
   "source": [
    "# Definició de variables\n",
    "enter = 5\n",
    "real = 7.\n",
    "var_complex = 3.+4j\n",
    "\n",
    "# Càlcul de variables\n",
    "o1 = enter * enter\n",
    "o2 = enter * real\n",
    "o3 = enter * var_complex\n",
    "o4 = real * real\n",
    "o5 = real * var_complex\n",
    "o6 = enter / enter\n",
    "o7 = real / real\n",
    "o8 = real / var_complex\n",
    "\n",
    "# Impresió de resultats\n",
    "display(Markdown(\"|Operació|Resultat|Tipus|\\n\"+\n",
    "\"|---|---|---|\\n\"+\n",
    "\"|`5 * 5`|\"+str(o1)+\"|\"+str(type(o1))+\"|\\n\" + \n",
    "\"|`5 * 7.`|\"+str(o2)+\"|\"+str(type(o2))+\"|\\n\" + \n",
    "\"|`5 * (3.+4j)`|\"+str(o3)+\"|\"+str(type(o3))+\"|\\n\" + \n",
    "\"|`7. * 7.`|\"+str(o4)+\"|\"+str(type(o4))+\"|\\n\" + \n",
    "\"|`7. * (3.+4j)`|\"+str(o5)+\"|\"+str(type(o5))+\"|\\n\" + \n",
    "\"|`5 / 5`|\"+str(o6)+\"|\"+str(type(o6))+\"|\\n\" + \n",
    "\"|`7. / 7.`|\"+str(o7)+\"|\"+str(type(o7))+\"|\\n\" + \n",
    "\"|`7. / (3.+4j)`|\"+str(o8)+\"|\"+str(type(o8))+\"|\" ))"
   ]
  },
  {
   "source": [
    "### Explicació dels resultats\n",
    "\n",
    "> **Justificació general**: el tipus del resultat d'una operació sempre serà del tipus de major precisió dels seus operands (precisions: `complex` > `float` > `int`). En termes informàtics podem dir que els tipus dels resultats de cada operació són els que són per la seva implementació, es a dir s'han escollit deliberadament, en aquest cas, seguint la lògica matemàtica.\n",
    "\n",
    "* `o1`: multiplicació de mateixos tipus dona com a resultat el mateix tipus\n",
    "* `o2`: multiplicació d'enter (`int`) per real (`float`) dona real (`float`) ja que la precisió dels `float` és major que `int`\n",
    "* `o3`: multiplicació d'enter (`int`) per complex (`complex`) dona complex (`complex`) ja que la precisió dels `complex` és major que `int`\n",
    "* `o4`: multiplicació de mateixos tipus dona com a resultat el mateix tipus\n",
    "* `o5`: multiplicació d'real (`float`) per complex (`complex`) dona complex (`complex`) ja que la precisió dels `complex` és major que `real`\n",
    "* `o6`: divisió d'enters (`int`) dona un real (`float`): aquesta és una excepció a la justificació general ja que els programadors encarregats d'implementar la operació divisió real d'`int`s havien d'escollir entre retornar el tipus enter `int` $ \\frac {4} {2} = 2 $ o el tipus real `float` $ \\frac {1} {2} = 0.5 $ i com Python està implementat en C, que és un llenguatge de tipatge fort (`static typing`) van escollir retornar un `float` ja que aquest pot representar també els `int` fàcilment. [Implementació de la divisió](https://github.com/python/cpython/blob/master/Objects/longobject.c#L3701)\n",
    "* `o7`: divisió de mateixos tipus dona com a resultat el mateix tipus\n",
    "* `o8`: divisió de complex (`complex`) entre real (`complex`) dona complex (`complex`) ja que la precisió dels `complex` és major que `real`"
   ],
   "cell_type": "markdown",
   "metadata": {}
  },
  {
   "source": [
    "## Exercici 3\n"
   ],
   "cell_type": "markdown",
   "metadata": {}
  },
  {
   "cell_type": "code",
   "execution_count": 20,
   "metadata": {},
   "outputs": [
    {
     "output_type": "display_data",
     "data": {
      "text/plain": "<IPython.core.display.Markdown object>",
      "text/markdown": "|Resultat base 10|Resultat base 2|\n|---|---|\n|1|00000001|\n|2|00000010|\n|4|00000100|\n|8|00001000|\n|174|10101110|"
     },
     "metadata": {}
    }
   ],
   "source": [
    "# Definició de variable\n",
    "a1=1\n",
    "b=174\n",
    "\n",
    "# Precàlcul de resultats per després inclou-rels a la la graella\n",
    "res_a1 = \"{:08b}\".format(a1)\n",
    "a2=a1*2\n",
    "\n",
    "res_a2 = \"{:08b}\".format(a2)\n",
    "a3=a2*2\n",
    "\n",
    "res_a3 = \"{:08b}\".format(a3)\n",
    "a4=a3*2\n",
    "\n",
    "res_a4 = \"{:08b}\".format(a4)\n",
    "res_b = \"{:08b}\".format(b)\n",
    "\n",
    "# Impresió de resultats\n",
    "display(Markdown(\"|Resultat base 10|Resultat base 2|\\n\"+\n",
    "\"|---|---|\\n\"+\n",
    "\"|\"+str(a1)+\"|\"+ res_a1 +\"|\\n\" + \n",
    "\"|\"+str(a2)+\"|\"+ res_a2 +\"|\\n\" + \n",
    "\"|\"+str(a3)+\"|\"+ res_a3 +\"|\\n\" + \n",
    "\"|\"+str(a4)+\"|\"+ res_a4 +\"|\\n\" + \n",
    "\"|\"+str(b)+\"|\"+ res_b+\"|\"))"
   ]
  },
  {
   "source": [
    "### Explicació dels resultats\n",
    "\n",
    "Sabent que la representació d'un número en base 2 equival a\n",
    "\n",
    "$$ \\sum ^n _{i = 0} {2^ia_i} $$\n",
    "$$ \\text {on } a_i \\text{ pot ser} $$\n",
    "$$ a_i = \\begin{cases} 0 \\\\ 1 \\end{cases} $$\n",
    "\n",
    "i sabent que per cada número hi ha una combinació de única de $a_i$ podem dir que:\n",
    "\\begin{align*}\n",
    " 1 &= 1 \\times 2^0 \\\\\n",
    " 2 &= 1 \\times 2^1 + 0 \\times 2^0 \\\\\n",
    " 4 &= 1 \\times 2^2 + 0 \\times 2^1 + 0 \\times 2^0 \\\\\n",
    " 8 &= 1 \\times 2^3 +  0 \\times 2^2 + 0 \\times 2^1 + 0 \\times 2^0 \\\\\n",
    " 174 &= 1 \\times 2^7 + 0 \\times 2^6 + 1 \\times 2^5 + 0 \\times 2^4 + 1 \\times 2^3 + 1 \\times 2^2 + 1 \\times 2^1 + 0 \\times 2^0 \\\\\n",
    "\\end{align*}\n",
    "Les operacions fetes per passar de base 10 a base 2 és la següent:\n",
    "\n",
    "$$ T_n(k) = k // 2^n + T_{n-1}(k \\text{ }\\%\\text{ } 2^n) $$\n",
    "\n",
    "On $T_n$ és el valor del bit, $n$ és la posició del bit descendent ($..., 10, 9, 8, 7,...$), fins $ n = 0 $"
   ],
   "cell_type": "markdown",
   "metadata": {}
  },
  {
   "source": [
    "## 1.2 Operadors a nivell de bit"
   ],
   "cell_type": "markdown",
   "metadata": {}
  },
  {
   "cell_type": "code",
   "execution_count": 21,
   "metadata": {},
   "outputs": [
    {
     "output_type": "display_data",
     "data": {
      "text/plain": "<IPython.core.display.Markdown object>",
      "text/markdown": "|Base 10|Base 2|\n|---|---|\n|97|01100001|\n|223|11011111|\n|65|01000001|"
     },
     "metadata": {}
    }
   ],
   "source": [
    "# Definició de variables\n",
    "a = 97\n",
    "b = 223\n",
    "c = a & b\n",
    "\n",
    "# Impresió de resultats\n",
    "display(Markdown(\"|Base 10|Base 2|\\n\"+\n",
    "\"|---|---|\\n\"+\n",
    "\"|\"+str(a)+\"|\"+ \"{:08b}\".format(a) +\"|\\n\" + \n",
    "\"|\"+str(b)+\"|\"+ \"{:08b}\".format(b) +\"|\\n\" + \n",
    "\"|\"+str(c)+\"|\"+ \"{:08b}\".format(c) +\"|\"))"
   ]
  },
  {
   "source": [
    "### Explicació dels resultats\n",
    "\n",
    "Com s'explica a l'enunciat, l'operador `&` executa la operació `AND` a cada bit de cada operand\n",
    "\n",
    "```\n",
    "  01100001\n",
    "& 11011111\n",
    "__________\n",
    "  01000001\n",
    "```\n",
    "Fent que sigui com aplicar una \"màscara\", agafar tots els bits del primer operand on el bit del segon operand a la mateixa posició sigui 1 "
   ],
   "cell_type": "markdown",
   "metadata": {}
  },
  {
   "source": [
    "## Exercici 4"
   ],
   "cell_type": "markdown",
   "metadata": {}
  },
  {
   "source": [
    "# Utilitzant les variables de l'anterior cel·la (a = 97 i b = 223)\n",
    "\n",
    "# Càlcul de variables\n",
    "o1 = a & b\n",
    "o2 = a | b\n",
    "o3 = a ^ b\n",
    "o4 = ~ b\n",
    "o5 = a << 2\n",
    "o6 = a >> 2\n",
    "o7 = a >> 8\n",
    "\n",
    "# Impressió de graella\n",
    "display(Markdown(\"|Variable|Operació|Valor base 10|Valor base 2|\\n\"+\n",
    "\"|---|---|---|---|\\n\"+\n",
    "\"|`a`| |\" + str(a) + \"|\" + \"{:08b}\".format(a) + \"|\\n\"+\n",
    "\"|`b`| |\" + str(b) + \"|\" + \"{:08b}\".format(b) + \"|\\n\"+\n",
    "\"|`o1`|$AND$|\" + str(o1) + \"|\" + \"{:08b}\".format(o1) + \"|\\n\"+\n",
    "\"|`o2`|$OR$|\"  + str(o2) + \"|\" + \"{:08b}\".format(o2) + \"|\\n\"+\n",
    "\"|`o3`|$XOR$|\" + str(o3) + \"|\" + \"{:08b}\".format(o3) + \"|\\n\"+\n",
    "\"|`o4`|$NOT$|\" + str(o4) + \"|\" + \"{:08b}\".format(o4) + \"|\\n\"+\n",
    "\"|`o5`|$<<$|\"  + str(o5) + \"|\" + \"{:08b}\".format(o5) + \"|\\n\"+\n",
    "\"|`o6`|$>>$|\"  + str(o6) + \"|\" + \"{:08b}\".format(o6) + \"|\\n\"+\n",
    "\"|`o7`|$>>$|\"  + str(o7) + \"|\" + \"{:08b}\".format(o7) + \"|\"))\n"
   ],
   "cell_type": "code",
   "metadata": {},
   "execution_count": 22,
   "outputs": [
    {
     "output_type": "display_data",
     "data": {
      "text/plain": "<IPython.core.display.Markdown object>",
      "text/markdown": "|Variable|Operació|Valor base 10|Valor base 2|\n|---|---|---|---|\n|`a`| |97|01100001|\n|`b`| |223|11011111|\n|`o1`|$AND$|65|01000001|\n|`o2`|$OR$|255|11111111|\n|`o3`|$XOR$|190|10111110|\n|`o4`|$NOT$|-224|-11100000|\n|`o5`|$<<$|388|110000100|\n|`o6`|$>>$|24|00011000|\n|`o7`|$>>$|0|00000000|"
     },
     "metadata": {}
    }
   ]
  },
  {
   "source": [
    "### Explicació\n",
    "\n",
    "L'explicació a cada resultat és la definició dels mateixos operadors $AND$ `&`, $OR$ `|`, $XOR$ `^` i $NOT$ `~`, i dels operadors de bit \"shift\" `<<` i `>>`. \n",
    "\n",
    "* **`AND`**: explicat a l'exercici anterior, pot ser interpretat com una màscara o pel seu significat literal `x AND x` on les `x` són els bits ade cada operand que estàn a la mateixa posició.\n",
    "* **`OR`**: éssent la contrapart de l'`AND`, el bit resultant de la operació `OR` es 1 si algun dels dos operands és 1. Aquesta operació també va bit a bit igual que `AND`.\n",
    "* **`XOR`**: creat a partir de la reducció del nom _eXclussive `OR`_, aquesta operació és igual que l'`OR` excepte que si els dos operands és 1, llavors retorna un 0.\n",
    "* **`NOT`**: aquesta operació, bastant autoexplicativa, nega tots els bits d'un número, tal que `~ 0` equival a `1` i a la inversa.\n",
    "    > **Comentari**: Aquesta operació pot resultar confusa degut a la representació dels números en binari que té Python: quan nosaltres fem `bin(~2)` tenim una representació en memória de `-0b11` que significa -3, quan la representació en memória de 2 és `0b10`, i la teòrica operació **`NOT`** hauria de ser `0b01`, és a dir 1. Pero aquesta operació dona un resultat correcte ja que si la executem en altres llenguatges com C# (.NET) el resultat és el mateix, encara que la representació en memòria sigui diferent.\n",
    "    ```c#\n",
    "    // c#\n",
    "    Console.WriteLine(Convert.ToString(2, 2)) // dona 10\n",
    "    Console.WriteLine(Convert.ToString(~2 /* és -3 */, 2)) // dona 11111111111111111111111111111101\n",
    "    ```\n",
    "    Aixó també te que veure amb que a C#, l'`int` té una quantitat de bits fixa (32), i a Python la quantitat de bits és ilimitada.\n",
    "* **`<<`** i **`>>`**: aquestes dues operacions equivalen a moure tots els bits una quantitat de vegades `x` capa a la esquerra o dreta respectivament. Desapareixent els bits si atravessen la barrera del bit en la posició 0 (no existeixen decimals), al desplaçament cap a la dreta i omplint de 0 en el cas de que hi hagi un desplaçament a la esquerra."
   ],
   "cell_type": "markdown",
   "metadata": {}
  },
  {
   "cell_type": "code",
   "execution_count": 23,
   "metadata": {},
   "outputs": [
    {
     "output_type": "display_data",
     "data": {
      "text/plain": "<IPython.core.display.Markdown object>",
      "text/markdown": "|Valor base 10|Valor base 2|Quantitat de bits|\n|---|---|---|\n|2|10|2|\n|1789334175149826506752|11000010000000000000000000000000000000000000000000000000000000000000000|71|\n|4|100|3|\n|4|100|3|"
     },
     "metadata": {}
    }
   ],
   "source": [
    "# Utilitzant la variable a de l'avantpassada cel·la (a = 97)\n",
    "# Càlcul de variables i redefinició d'a\n",
    "o8 = a << 64\n",
    "a= 2\n",
    "o9 = a << 1\n",
    "o10 = a * 2\n",
    "\n",
    "# Impressió de resultats\n",
    "display(Markdown(\"|Valor base 10|Valor base 2|Quantitat de bits|\\n\"+\n",
    "\"|---|---|---|\\n\"+\n",
    "\"|{:d}|{:b}|{:d}|\\n\".format(a, a, a.bit_length())+\n",
    "\"|{:d}|{:b}|{:d}|\\n\".format(o8, o8, o8.bit_length())+\n",
    "\"|{:d}|{:b}|{:d}|\\n\".format(o9, o9, o9.bit_length())+\n",
    "\"|{:d}|{:b}|{:d}|\".format(o10, o10, o10.bit_length())\n",
    "))\n"
   ]
  },
  {
   "source": [
    "### Explicació\n",
    "\n",
    "Amb els resultats obtinguts podem dir que l'operador `<< n` equival a `* (2 ** n)`. També cal destacar que a l'omplir de bits 0 a la dreta, també augmenta la seva quantitat, afectant al `.bit_length()`, que augmentarà els mateixos bits que has mogut.\n",
    "\n",
    "\\begin{align*} \n",
    "\n",
    " 11010_{2} << 3_{10} &= 11010000_{2} \\\\\n",
    " (2^4 + 2^3 + 2^1) * 2^3 &= 2^7+2^6+2^4 \n",
    "\n",
    "\\end{align*}"
   ],
   "cell_type": "markdown",
   "metadata": {}
  },
  {
   "source": [
    "## 1.3  Operadors amb cadenes de caràcter"
   ],
   "cell_type": "markdown",
   "metadata": {}
  },
  {
   "source": [
    "```python\n",
    "cadena='15'\n",
    "numero=10\n",
    "print(cadena+numero)\n",
    "```\n",
    "\n",
    "Aquest codi dona error:\n",
    "\n",
    "```\n",
    "---------------------------------------------------------------------------\n",
    "TypeError                                 Traceback (most recent call last)\n",
    "<ipython-input-23-276b29931b8d> in <module>\n",
    "      1 cadena='15'\n",
    "      2 numero=10\n",
    "----> 3 print(cadena+numero)\n",
    "\n",
    "TypeError: can only concatenate str (not \"int\") to str\n",
    "```\n",
    "Ja que, com bé explica l'error, només es pot concatenar una variable de tipus `str` a un `str`. Com a lògica, no té sentit sumar una cadena a un número."
   ],
   "cell_type": "markdown",
   "metadata": {}
  },
  {
   "cell_type": "code",
   "execution_count": 24,
   "metadata": {},
   "outputs": [
    {
     "output_type": "display_data",
     "data": {
      "text/plain": "<IPython.core.display.Markdown object>",
      "text/markdown": "|Operació|Resultat|\n|---|---|\n|`cadena1 + cadena2`|Hola món|\n|`cadena1 * enter`|HolaHolaHola|"
     },
     "metadata": {}
    }
   ],
   "source": [
    "# Definició de variables\n",
    "cadena1= 'Hola'\n",
    "cadena2= ' món'\n",
    "enter = 3\n",
    "\n",
    "# Impresió de resultats amb càlculs inclosos\n",
    "display(Markdown(\"\"\"|Operació|Resultat|\n",
    "|---|---|\n",
    "|`cadena1 + cadena2`|{:s}|\n",
    "|`cadena1 * enter`|{:s}|\"\"\".format(cadena1+cadena2, cadena1*enter)))"
   ]
  },
  {
   "source": [
    "### Explicació de la comprovació\n",
    "\n",
    "Aquí podem veure que les operacions `str + str` i `str * int` estàn implementades on la primera és la concatenació i la segona és la repetició.\n"
   ],
   "cell_type": "markdown",
   "metadata": {}
  },
  {
   "source": [
    "## Exercici 5"
   ],
   "cell_type": "markdown",
   "metadata": {}
  },
  {
   "cell_type": "code",
   "execution_count": 25,
   "metadata": {},
   "outputs": [
    {
     "output_type": "display_data",
     "data": {
      "text/plain": "<IPython.core.display.Markdown object>",
      "text/markdown": "|Comparació|Resultat|\n|---|---|\n|5 > 3|True|\n|5 < 3|False|\n|5 >= 3|True|\n|5 <= 3|False|\n|5 == 3|False|\n|5 != 3|True|\n|\"Aigua\" > \"Menjar\"|False|\n|\"Aigua\" < \"Menjar\"|True|\n|\"Aigua\" >= \"Menjar\"|False|\n|\"Aigua\" <= \"Menjar\"|True|\n|\"Aigua\" == \"Menjar\"|False|\n|\"Aigua\" != \"Menjar\"|True|"
     },
     "metadata": {}
    }
   ],
   "source": [
    "# Definició de variables\n",
    "enter_a = 5\n",
    "enter_b = 3\n",
    "cadena_a = \"Aigua\"\n",
    "cadena_b = \"Menjar\"\n",
    "\n",
    "# Impresió de resultats amb comparacions incloses\n",
    "display(Markdown(\"\"\"|Comparació|Resultat|\n",
    "|---|---|\n",
    "|5 > 3|\"\"\"+str(enter_a > enter_b)+\"\"\"|\n",
    "|5 < 3|\"\"\"+str(enter_a < enter_b) +\"\"\"|\n",
    "|5 >= 3|\"\"\"+str(enter_a >= enter_b) +\"\"\"|\n",
    "|5 <= 3|\"\"\"+str(enter_a <= enter_b) +\"\"\"|\n",
    "|5 == 3|\"\"\"+str(enter_a == enter_b) +\"\"\"|\n",
    "|5 != 3|\"\"\"+str(enter_a != enter_b) +\"\"\"|\n",
    "|\"Aigua\" > \"Menjar\"|\"\"\"+str(cadena_a > cadena_b)+\"\"\"|\n",
    "|\"Aigua\" < \"Menjar\"|\"\"\"+str(cadena_a < cadena_b) +\"\"\"|\n",
    "|\"Aigua\" >= \"Menjar\"|\"\"\"+str(cadena_a >= cadena_b) +\"\"\"|\n",
    "|\"Aigua\" <= \"Menjar\"|\"\"\"+str(cadena_a <= cadena_b) +\"\"\"|\n",
    "|\"Aigua\" == \"Menjar\"|\"\"\"+str(cadena_a == cadena_b) +\"\"\"|\n",
    "|\"Aigua\" != \"Menjar\"|\"\"\"+str(cadena_a != cadena_b) +\"\"\"|\"\"\"))"
   ]
  },
  {
   "source": [
    "### Explicació\n",
    "\n",
    "Com bé s'ha dit a la pràctica, saltant-me la comparació numérica que és obvia, la comparació entre cadenes és lexicogràfica, es a dir: depen de l'ordre al diccionari (explicat malament). Realment comprova caràcter per caràcter, començant pel primer de cadascun i mirant a la taula `ASCII` quin dels caràcters ve abans."
   ],
   "cell_type": "markdown",
   "metadata": {}
  },
  {
   "source": [
    "## Exercici 6\n",
    "\n",
    "### Múltiple de 5 o de 7\n",
    "\n"
   ],
   "cell_type": "markdown",
   "metadata": {}
  },
  {
   "cell_type": "code",
   "execution_count": 26,
   "metadata": {},
   "outputs": [
    {
     "output_type": "stream",
     "name": "stdout",
     "text": [
      "5 7 10 14 15 20 21 25 28 30 35 40 42 45 49 50 "
     ]
    }
   ],
   "source": [
    "for x in range(1,51):\n",
    "    if x % 5 == 0 or x % 7 == 0:\n",
    "        print(x, end=\" \")"
   ]
  },
  {
   "source": [
    "### Majors de 13"
   ],
   "cell_type": "markdown",
   "metadata": {}
  },
  {
   "cell_type": "code",
   "execution_count": 27,
   "metadata": {},
   "outputs": [
    {
     "output_type": "stream",
     "name": "stdout",
     "text": [
      "14 15 16 17 18 19 20 21 22 23 24 25 26 27 28 29 30 31 32 33 34 35 36 37 38 39 40 41 42 43 44 45 46 47 48 49 50 "
     ]
    }
   ],
   "source": [
    "for x in range(1,51):\n",
    "    if x > 13:\n",
    "        print(x, end=\" \")"
   ]
  },
  {
   "source": [
    "### No siguin múltiples de 9"
   ],
   "cell_type": "markdown",
   "metadata": {}
  },
  {
   "cell_type": "code",
   "execution_count": 28,
   "metadata": {},
   "outputs": [
    {
     "output_type": "stream",
     "name": "stdout",
     "text": [
      "1 2 3 4 5 6 7 8 10 11 12 13 14 15 16 17 19 20 21 22 23 24 25 26 28 29 30 31 32 33 34 35 37 38 39 40 41 42 43 44 46 47 48 49 50 "
     ]
    }
   ],
   "source": [
    "for x in range(1,51):\n",
    "    if x % 9 != 0:\n",
    "        print(x, end=\" \")"
   ]
  }
 ]
}