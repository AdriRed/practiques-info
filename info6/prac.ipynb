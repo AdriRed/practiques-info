{
 "metadata": {
  "language_info": {
   "codemirror_mode": {
    "name": "ipython",
    "version": 3
   },
   "file_extension": ".py",
   "mimetype": "text/x-python",
   "name": "python",
   "nbconvert_exporter": "python",
   "pygments_lexer": "ipython3",
   "version": "3.8.3-final"
  },
  "orig_nbformat": 2,
  "kernelspec": {
   "name": "python3",
   "display_name": "Python 3"
  }
 },
 "nbformat": 4,
 "nbformat_minor": 2,
 "cells": [
  {
   "source": [
    "# Sessió introductòria 6: funcions\n",
    "#### Adrià Rojo\n",
    "---"
   ],
   "cell_type": "markdown",
   "metadata": {}
  },
  {
   "cell_type": "code",
   "execution_count": 1,
   "metadata": {},
   "outputs": [],
   "source": [
    "# importo tkinter\n",
    "import tkinter\n",
    "# importo random\n",
    "import random\n",
    "\n",
    "# defineixo funcions útils\n",
    "def crear_cercle(canvas: tkinter.Canvas, x: int, y: int, radi: int, **kwargs) -> None:\n",
    "    \"\"\"\n",
    "    Crea un cercle a les coordenades x i y, amb el radi asignat, al canvas passat per arguments\n",
    "    \"\"\"\n",
    "    canvas.create_oval(x-radi, y-radi, x+radi, y+radi, **kwargs)\n",
    "\n",
    "def crear_rectangle(canvas: tkinter.Canvas, x: int, y: int, llargada: int, altura: int, **kwargs) -> None:\n",
    "    \"\"\"\n",
    "    Crea un rectangle amb el centre a x, y i de llargada i altura asignats\n",
    "    \"\"\"\n",
    "    canvas.create_rectangle(x-llargada/2, y-altura/2, x+llargada/2, y+altura/2, **kwargs)\n"
   ]
  },
  {
   "source": [
    "## Exercici 1: ulls"
   ],
   "cell_type": "markdown",
   "metadata": {}
  },
  {
   "cell_type": "code",
   "execution_count": 2,
   "metadata": {},
   "outputs": [],
   "source": [
    "def dibuixa_ulls(finestra: tkinter.Canvas, x: int, y: int, escala: float, **kwargs) -> None:\n",
    "    \"\"\"\n",
    "    Dibuxa els ulls esquerra i dreta. Les coordenades es corresponen amb el centre dels dos ulls.\n",
    "    \"\"\"\n",
    "    crear_cercle(finestra, x-escala/6, y, escala/10, **kwargs) # Ull esquerra\n",
    "    crear_cercle(finestra, x+escala/6, y, escala/10, **kwargs) # Ull dret"
   ]
  },
  {
   "source": [
    "## Exercici 2: nas"
   ],
   "cell_type": "markdown",
   "metadata": {}
  },
  {
   "cell_type": "code",
   "execution_count": 3,
   "metadata": {},
   "outputs": [],
   "source": [
    "def dibuixa_nas(finestra: tkinter.Canvas, x: int, y: int, escala: float, **kwargs) -> None:\n",
    "    \"\"\"\n",
    "    Dibuixa el nas a les coordenades x i y\n",
    "    \"\"\"\n",
    "    distancia = escala/10\n",
    "    finestra.create_polygon(x, y-distancia, x+distancia, y+distancia, x-distancia, y+distancia, **kwargs) # Nas"
   ]
  },
  {
   "source": [
    "## Exercici 3: boca"
   ],
   "cell_type": "markdown",
   "metadata": {}
  },
  {
   "cell_type": "code",
   "execution_count": 4,
   "metadata": {},
   "outputs": [],
   "source": [
    "def dibuixa_boca(finestra: tkinter.Canvas, x: int, y: int, escala: float, **kwargs) -> None:\n",
    "    \"\"\"\n",
    "    Dibuixa una boca amb el centre d'aquesta a x, y i de llargada escala\n",
    "    \"\"\"\n",
    "    distancia = escala / 8\n",
    "    finestra.create_arc(x-distancia, y-distancia/2, x+distancia, y+distancia/2, style=tkinter.ARC, start=180, extent=180, **kwargs) # Boca"
   ]
  },
  {
   "source": [
    "## Exercici 4: cara\n"
   ],
   "cell_type": "markdown",
   "metadata": {}
  },
  {
   "cell_type": "code",
   "execution_count": 5,
   "metadata": {},
   "outputs": [],
   "source": [
    "def dibuixa_cara(finestra: tkinter.Canvas, x: int, y: int, escala: float, **kwargs) -> None:\n",
    "    \"\"\"\n",
    "    Dibuixa el contorn de la cara amb el centre a (x, y) i de diametre escala\n",
    "    \"\"\"\n",
    "    crear_cercle(finestra, x, y, escala/2, **kwargs)"
   ]
  },
  {
   "source": [
    "## Exercici 5: cap\n"
   ],
   "cell_type": "markdown",
   "metadata": {}
  },
  {
   "cell_type": "code",
   "execution_count": 6,
   "metadata": {},
   "outputs": [],
   "source": [
    "def dibuixar_cap(finestra: tkinter.Canvas, x: int, y: int, escala: float, color: str = None) -> None:\n",
    "    \"\"\"\n",
    "    Dibuixa un cap amb les seves parts (ulls, nas i boca) amb el centre (x, y) i de diametre escala\n",
    "    \"\"\"\n",
    "    dibuixa_ulls(finestra, x, y-escala/4, escala, outline=color)\n",
    "    dibuixa_nas(finestra, x, y, escala*0.75, outline=color)\n",
    "    dibuixa_boca(finestra, x, y+escala/8, escala*2.5, outline=color)\n",
    "    dibuixa_cara(finestra, x, y, escala, outline=color)"
   ]
  },
  {
   "source": [
    "## Exercici 6: molts caps"
   ],
   "cell_type": "markdown",
   "metadata": {}
  },
  {
   "cell_type": "code",
   "execution_count": 7,
   "metadata": {},
   "outputs": [],
   "source": [
    "root = tkinter.Tk()\n",
    "\n",
    "CANVAS_WIDTH = 600\n",
    "CANVAS_HEIGHT = 600\n",
    "\n",
    "canvas = tkinter.Canvas(root,\n",
    "                          background='white',\n",
    "                          height=CANVAS_WIDTH,\n",
    "                          width=CANVAS_HEIGHT)\n",
    "\n",
    "canvas.pack()\n",
    "\n",
    "dibuixar_cap(canvas, 200, 100, 100)\n",
    "\n",
    "for i in range(10):\n",
    "    dibuixar_cap(canvas, \n",
    "                random.randint(0,CANVAS_WIDTH), \n",
    "                random.randint(0,CANVAS_HEIGHT), \n",
    "                random.randint(10, 150))\n",
    "\n",
    "\n",
    "\n",
    "root.mainloop()"
   ]
  },
  {
   "source": [
    "## Exercici 7: cos"
   ],
   "cell_type": "markdown",
   "metadata": {}
  },
  {
   "cell_type": "code",
   "execution_count": 8,
   "metadata": {},
   "outputs": [],
   "source": [
    "def dibuixar_cos(finestra: tkinter.Canvas, x: int, y: int, escala: float, **kwargs) -> None:\n",
    "    \"\"\"\n",
    "    Dibuixo el cos amb el centre (melic) x, y i altura 2*escala i costat escala\n",
    "    \"\"\"\n",
    "    crear_rectangle(finestra, x, y, escala, 2*escala, **kwargs)"
   ]
  },
  {
   "source": [
    "## Exercici 8: braços"
   ],
   "cell_type": "markdown",
   "metadata": {}
  },
  {
   "cell_type": "code",
   "execution_count": 9,
   "metadata": {},
   "outputs": [],
   "source": [
    "def dibuixar_bracos(finestra: tkinter.Canvas, x: int, y: int, escala: float, **kwargs) -> None:\n",
    "    crear_rectangle(canvas, x-escala, y-escala*7/8, escala, escala/8, **kwargs)\n",
    "    crear_rectangle(canvas, x+escala, y-escala*7/8, escala, escala/8, **kwargs)"
   ]
  },
  {
   "source": [
    "## Exercici 9: cames"
   ],
   "cell_type": "markdown",
   "metadata": {}
  },
  {
   "cell_type": "code",
   "execution_count": 10,
   "metadata": {},
   "outputs": [],
   "source": [
    "def dibuixar_cames(finestra: tkinter.Canvas, x: int, y: int, escala: float, **kwargs) -> None:\n",
    "    crear_rectangle(canvas, x-escala/4, y+escala*1.5, escala/8, escala, **kwargs)\n",
    "    crear_rectangle(canvas, x+escala/4, y+escala*1.5, escala/8, escala, **kwargs)"
   ]
  },
  {
   "cell_type": "code",
   "execution_count": 12,
   "metadata": {},
   "outputs": [],
   "source": [
    "def dibuixar_ninot(finestra: tkinter.Canvas, color: str = None, x: int = 0, y: int = 0, escala: float = 50) -> None:\n",
    "    dibuixar_cos(finestra, x, y, escala, outline=color)\n",
    "    dibuixar_bracos(finestra, x, y, escala, outline=color)\n",
    "    dibuixar_cames(finestra, x, y, escala, outline=color)\n",
    "    dibuixar_cap(finestra, x, y-escala*1.5, escala, color)\n",
    "\n",
    "root = tkinter.Tk()\n",
    "\n",
    "CANVAS_WIDTH = 600\n",
    "CANVAS_HEIGHT = 600\n",
    "\n",
    "canvas = tkinter.Canvas(root,\n",
    "                          background='white',\n",
    "                          height=CANVAS_WIDTH,\n",
    "                          width=CANVAS_HEIGHT)\n",
    "\n",
    "canvas.pack()\n",
    "\n",
    "colors = [\n",
    "    \"red\",\n",
    "    \"green\",\n",
    "    \"black\",\n",
    "    \"goldenrod\",\n",
    "    \"cyan\"\n",
    "]\n",
    "\n",
    "for i in range(5):\n",
    "    dibuixar_ninot(canvas, colors[i], random.randint(0, CANVAS_WIDTH), random.randint(0, CANVAS_HEIGHT), random.randint(50, 150))\n",
    "\n",
    "root.mainloop()"
   ]
  },
  {
   "cell_type": "code",
   "execution_count": null,
   "metadata": {},
   "outputs": [],
   "source": []
  }
 ]
}