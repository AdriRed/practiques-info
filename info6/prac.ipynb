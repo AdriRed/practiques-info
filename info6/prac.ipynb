{
 "metadata": {
  "language_info": {
   "codemirror_mode": {
    "name": "ipython",
    "version": 3
   },
   "file_extension": ".py",
   "mimetype": "text/x-python",
   "name": "python",
   "nbconvert_exporter": "python",
   "pygments_lexer": "ipython3",
   "version": "3.8.3-final"
  },
  "orig_nbformat": 2,
  "kernelspec": {
   "name": "python3",
   "display_name": "Python 3"
  }
 },
 "nbformat": 4,
 "nbformat_minor": 2,
 "cells": [
  {
   "source": [
    "# Sessió introductòria 6: funcions\n",
    "#### Adrià Rojo\n",
    "---"
   ],
   "cell_type": "markdown",
   "metadata": {}
  },
  {
   "cell_type": "code",
   "execution_count": 10,
   "metadata": {},
   "outputs": [],
   "source": [
    "# importo tkinter\n",
    "import tkinter\n",
    "\n",
    "# defineixo funcions útils\n",
    "def crear_cercle(canvas: tkinter.Canvas, x: int, y: int, radi: int, **kwargs) -> None:\n",
    "    \"\"\"\n",
    "    Crea un cercle a les coordenades x i y, amb el radi asignat, al canvas passat per arguments\n",
    "    \"\"\"\n",
    "    canvas.create_oval(x-radi, y-radi, x+radi, y+radi, **kwargs)\n",
    "\n"
   ]
  },
  {
   "source": [
    "## Exercici 1: ulls"
   ],
   "cell_type": "markdown",
   "metadata": {}
  },
  {
   "cell_type": "code",
   "execution_count": 7,
   "metadata": {},
   "outputs": [],
   "source": [
    "\n",
    "\n",
    "\n",
    "def dibuixar_ulls(finestra: tkinter.Canvas, x: int, y: int, escala: float) -> None:\n",
    "    \n",
    "    pass\n",
    "\n",
    "\n",
    "root = tkinter.Tk()\n",
    "\n",
    "canvas = tkinter.Canvas(root,\n",
    "                          background='white',\n",
    "                          height=600,\n",
    "                          width=600)\n",
    "\n",
    "canvas.pack()\n",
    "\n",
    "\n",
    "\n",
    "\n",
    "root.mainloop()"
   ]
  },
  {
   "cell_type": "code",
   "execution_count": null,
   "metadata": {},
   "outputs": [],
   "source": []
  }
 ]
}